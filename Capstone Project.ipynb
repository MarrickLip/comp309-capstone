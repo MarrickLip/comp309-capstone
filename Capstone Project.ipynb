{
 "cells": [
  {
   "cell_type": "markdown",
   "metadata": {},
   "source": [
    "# COMP309 Capstone Project\n",
    "#### Marrick Lip, 2019"
   ]
  },
  {
   "cell_type": "markdown",
   "metadata": {},
   "source": [
    "## [0] Setup"
   ]
  },
  {
   "cell_type": "markdown",
   "metadata": {},
   "source": [
    "### 0.1 Get the dependencies"
   ]
  },
  {
   "cell_type": "code",
   "execution_count": 1,
   "metadata": {
    "scrolled": true
   },
   "outputs": [
    {
     "name": "stdout",
     "output_type": "stream",
     "text": [
      "Solving environment: | \n",
      "Warning: 2 possible package resolutions (only showing differing packages):\n",
      "  - conda-forge::libgfortran-3.0.0-1\n",
      "  - defaults::libgfortran-3.0.0done\n",
      "\n",
      "\n",
      "==> WARNING: A newer version of conda exists. <==\n",
      "  current version: 4.5.12\n",
      "  latest version: 4.7.12\n",
      "\n",
      "Please update conda by running\n",
      "\n",
      "    $ conda update -n base -c defaults conda\n",
      "\n",
      "\n",
      "\n",
      "## Package Plan ##\n",
      "\n",
      "  environment location: /home/ec2-user/anaconda3/envs/tensorflow_p36\n",
      "\n",
      "\n",
      "The following packages will be downloaded:\n",
      "\n",
      "    package                    |            build\n",
      "    ---------------------------|-----------------\n",
      "    nose-1.3.7                 |           py36_2         214 KB\n",
      "    multipledispatch-0.6.0     |           py36_0          21 KB\n",
      "    mkl-service-2.3.0          |   py36he904b0f_0         208 KB\n",
      "    spyder-3.3.6               |           py36_0         2.5 MB\n",
      "    pytest-doctestplus-0.4.0   |             py_0          18 KB\n",
      "    libtool-2.4.6              |       h7b6447c_5         513 KB\n",
      "    locket-0.2.0               |           py36_1           8 KB\n",
      "    anaconda-client-1.7.2      |           py36_0         141 KB\n",
      "    chardet-3.0.4              |        py36_1003         197 KB\n",
      "    pandas-0.25.2              |   py36he6710b0_0        11.4 MB\n",
      "    pytest-remotedata-0.3.2    |           py36_0          15 KB\n",
      "    pytest-5.0.1               |           py36_0         353 KB\n",
      "    attrs-19.3.0               |             py_0          39 KB\n",
      "    lxml-4.4.1                 |   py36hefd8a0e_0         1.6 MB\n",
      "    jupyterlab_launcher-0.13.1 |           py36_0          36 KB\n",
      "    path.py-12.0.1             |             py_0          23 KB\n",
      "    astroid-2.3.2              |           py36_0         283 KB\n",
      "    secretstorage-3.1.1        |           py36_0          24 KB\n",
      "    sphinx-2.2.0               |             py_0         1.5 MB\n",
      "    soupsieve-1.9.3            |           py36_0          60 KB\n",
      "    unixodbc-2.3.7             |       h14c3975_0         319 KB\n",
      "    intel-openmp-2019.4        |              243         876 KB\n",
      "    libiconv-1.15              |       h63c8f33_5         2.0 MB\n",
      "    sphinxcontrib-serializinghtml-1.1.3|             py_0          24 KB\n",
      "    libglu-9.0.0               |       hf484d3e_1         377 KB\n",
      "    html5lib-1.0.1             |             py_0          89 KB\n",
      "    sortedcollections-1.1.2    |           py36_0          18 KB\n",
      "    rope-0.14.0                |             py_0         113 KB\n",
      "    bkcharts-0.2               |           py36_0         127 KB\n",
      "    pytest-openfiles-0.4.0     |             py_0          10 KB\n",
      "    llvmlite-0.30.0            |   py36hd408876_0        17.7 MB\n",
      "    babel-2.7.0                |             py_0         5.8 MB\n",
      "    contextlib2-0.6.0          |             py_0          16 KB\n",
      "    glob2-0.7                  |             py_0          14 KB\n",
      "    cycler-0.10.0              |           py36_0          13 KB\n",
      "    mccabe-0.6.1               |           py36_1          14 KB\n",
      "    bitarray-1.0.1             |   py36h7b6447c_0          60 KB\n",
      "    dbus-1.13.12               |       h746ee38_0         611 KB\n",
      "    clyent-1.2.2               |           py36_1          18 KB\n",
      "    importlib_metadata-0.23    |           py36_0          43 KB\n",
      "    cython-0.29.13             |   py36he6710b0_0         2.2 MB\n",
      "    openpyxl-3.0.0             |             py_0         157 KB\n",
      "    flask-1.1.1                |             py_0          73 KB\n",
      "    itsdangerous-1.1.0         |           py36_0          26 KB\n",
      "    pip-19.3.1                 |           py36_0         1.9 MB\n",
      "    patsy-0.5.1                |           py36_0         380 KB\n",
      "    jeepney-0.4.1              |             py_0          21 KB\n",
      "    kiwisolver-1.1.0           |   py36he6710b0_0          90 KB\n",
      "    zict-1.0.0                 |             py_0          12 KB\n",
      "    colorama-0.4.1             |           py36_0          24 KB\n",
      "    backports-1.0              |             py_2         139 KB\n",
      "    astropy-3.2.2              |   py36h7b6447c_0         7.1 MB\n",
      "    imageio-2.6.1              |           py36_0         3.4 MB\n",
      "    et_xmlfile-1.0.1           |           py36_0          20 KB\n",
      "    pyodbc-4.0.27              |   py36he6710b0_0          70 KB\n",
      "    protobuf-3.9.2             |   py36he6710b0_0         701 KB\n",
      "    ca-certificates-2019.10.16 |                0         131 KB\n",
      "    ffmpeg-4.0                 |       hcdf2ecd_0        73.7 MB\n",
      "    pillow-6.2.0               |   py36h34e0f95_0         647 KB\n",
      "    json5-0.8.5                |             py_0          25 KB\n",
      "    freeglut-3.0.0             |       hf484d3e_5         251 KB\n",
      "    singledispatch-3.4.0.3     |           py36_0          15 KB\n",
      "    patchelf-0.9               |       he6710b0_3          71 KB\n",
      "    mpfr-4.0.1                 |       hdf1c602_3         575 KB\n",
      "    mpmath-1.1.0               |           py36_0         970 KB\n",
      "    pycurl-7.43.0.3            |   py36h1ba5d50_0          70 KB\n",
      "    partd-1.0.0                |             py_0          19 KB\n",
      "    numexpr-2.7.0              |   py36h9e4a6bb_0         196 KB\n",
      "    pkginfo-1.5.0.1            |           py36_0          43 KB\n",
      "    blaze-0.11.3               |           py36_0         603 KB\n",
      "    cloudpickle-1.2.2          |             py_0          29 KB\n",
      "    sqlite-3.30.1              |       h7b6447c_0         1.9 MB\n",
      "    sphinxcontrib-websupport-1.1.2|             py_0          35 KB\n",
      "    keyring-18.0.0             |           py36_0          55 KB\n",
      "    sympy-1.4                  |           py36_0         9.7 MB\n",
      "    pytest-arraydiff-0.3       |   py36h39e3cac_0          15 KB\n",
      "    nb_conda-2.2.1             |           py36_0          33 KB\n",
      "    msgpack-python-0.6.1       |   py36hfd86e86_1          92 KB\n",
      "    beautifulsoup4-4.8.1       |           py36_0         153 KB\n",
      "    sphinxcontrib-qthelp-1.0.2 |             py_0          26 KB\n",
      "    heapdict-1.0.1             |             py_0           9 KB\n",
      "    libxslt-1.1.33             |       h7d1a2b0_0         577 KB\n",
      "    wrapt-1.11.2               |   py36h7b6447c_0          48 KB\n",
      "    jsonschema-3.1.1           |           py36_0          92 KB\n",
      "    toolz-0.10.0               |             py_0          50 KB\n",
      "    snowballstemmer-2.0.0      |             py_0          58 KB\n",
      "    anaconda-project-0.8.4     |             py_0         215 KB\n",
      "    urllib3-1.24.2             |           py36_0         153 KB\n",
      "    libvpx-1.7.0               |       h439df22_0         2.4 MB\n",
      "    nltk-3.4.5                 |           py36_0         2.1 MB\n",
      "    sphinxcontrib-jsmath-1.0.1 |             py_0           8 KB\n",
      "    gevent-1.4.0               |   py36h7b6447c_0         2.5 MB\n",
      "    jdcal-1.4.1                |             py_0          11 KB\n",
      "    numba-0.46.0               |   py36h962f231_0         3.2 MB\n",
      "    mpc-1.1.0                  |       h10f8cd9_1          94 KB\n",
      "    datashape-0.5.4            |           py36_1         100 KB\n",
      "    numpy-1.17.2               |   py36haad9e8e_0           4 KB\n",
      "    filelock-3.0.12            |             py_0          12 KB\n",
      "    libprotobuf-3.9.2          |       hd408876_0         4.7 MB\n",
      "    more-itertools-7.2.0       |           py36_0          99 KB\n",
      "    distributed-2.6.0          |             py_0         393 KB\n",
      "    odo-0.5.1                  |           py36_0         193 KB\n",
      "    sphinxcontrib-1.0          |           py36_1           3 KB\n",
      "    libopus-1.3                |       h7b6447c_0         631 KB\n",
      "    bazel-0.26.1               |       hf484d3e_0        38.0 MB\n",
      "    click-7.0                  |           py36_0         118 KB\n",
      "    mkl_fft-1.0.14             |   py36ha843d7b_0         173 KB\n",
      "    dask-2.6.0                 |             py_0          12 KB\n",
      "    seaborn-0.9.0              |           py36_0         379 KB\n",
      "    alabaster-0.7.12           |           py36_0          17 KB\n",
      "    atomicwrites-1.3.0         |           py36_1          13 KB\n",
      "    fastcache-1.1.0            |   py36h7b6447c_0          31 KB\n",
      "    asn1crypto-1.2.0           |           py36_0         162 KB\n",
      "    pycodestyle-2.5.0          |           py36_0          60 KB\n",
      "    jupyterlab-1.1.4           |     pyhf63ae98_0        11.7 MB\n",
      "    backports.shutil_get_terminal_size-1.0.0|           py36_2           8 KB\n",
      "    zipp-0.6.0                 |             py_0           9 KB\n",
      "    dask-core-2.6.0            |             py_0         578 KB\n",
      "    nb_conda_kernels-2.2.2     |           py36_0          37 KB\n",
      "    pywavelets-1.1.1           |   py36h7b6447c_0         4.4 MB\n",
      "    qtawesome-0.6.0            |             py_0         671 KB\n",
      "    scikit-learn-0.21.3        |   py36hd81dba3_0         6.8 MB\n",
      "    pytest-astropy-0.5.0       |           py36_0           6 KB\n",
      "    matplotlib-3.1.1           |   py36h5429711_0         6.7 MB\n",
      "    blosc-1.16.3               |       hd408876_0          82 KB\n",
      "    sortedcontainers-2.1.0     |           py36_0          45 KB\n",
      "    isort-4.3.21               |           py36_0          68 KB\n",
      "    scipy-1.3.1                |   py36h7c811a0_0        18.1 MB\n",
      "    backports.os-0.1.1         |           py36_0          15 KB\n",
      "    tblib-1.4.0                |             py_0          14 KB\n",
      "    lz4-c-1.8.1.2              |       h14c3975_0         158 KB\n",
      "    pytz-2019.3                |             py_0         231 KB\n",
      "    pluggy-0.13.0              |           py36_0          31 KB\n",
      "    lazy-object-proxy-1.4.2    |   py36h7b6447c_0          30 KB\n",
      "    numpy-base-1.17.2          |   py36hde5b4d6_0         5.3 MB\n",
      "    flask-cors-3.0.8           |             py_0          17 KB\n",
      "    sphinxcontrib-htmlhelp-1.0.2|             py_0          28 KB\n",
      "    networkx-2.4               |             py_0         1.2 MB\n",
      "    qtpy-1.9.0                 |             py_0          39 KB\n",
      "    werkzeug-0.16.0            |             py_0         255 KB\n",
      "    wurlitzer-1.0.3            |           py36_0          14 KB\n",
      "    requests-2.22.0            |           py36_0          89 KB\n",
      "    bottleneck-1.2.1           |   py36h035aef0_1         127 KB\n",
      "    xlrd-1.2.0                 |           py36_0         188 KB\n",
      "    cytoolz-0.10.0             |   py36h7b6447c_0         439 KB\n",
      "    statsmodels-0.10.1         |   py36hdd07704_0         9.6 MB\n",
      "    scikit-image-0.15.0        |   py36he6710b0_0        28.4 MB\n",
      "    pyyaml-5.1.2               |   py36h7b6447c_0         189 KB\n",
      "    sqlalchemy-1.3.10          |   py36h7b6447c_0         1.8 MB\n",
      "    typed-ast-1.4.0            |   py36h7b6447c_0         208 KB\n",
      "    boto-2.49.0                |           py36_0         1.5 MB\n",
      "    greenlet-0.4.15            |   py36h7b6447c_0          20 KB\n",
      "    cffi-1.13.0                |   py36h2e261b9_0         224 KB\n",
      "    bokeh-1.3.4                |           py36_0         4.0 MB\n",
      "    mkl_random-1.1.0           |   py36hd6b4f25_0         369 KB\n",
      "    sphinxcontrib-applehelp-1.0.1|             py_0          29 KB\n",
      "    xlsxwriter-1.2.2           |             py_0         106 KB\n",
      "    cryptography-2.8           |   py36h1ba5d50_0         620 KB\n",
      "    pathlib2-2.3.5             |           py36_0          37 KB\n",
      "    pylint-2.4.3               |           py36_0         432 KB\n",
      "    olefile-0.46               |           py36_0          48 KB\n",
      "    certifi-2019.9.11          |           py36_0         154 KB\n",
      "    jupyterlab_server-1.0.6    |             py_0          26 KB\n",
      "    xlwt-1.3.0                 |           py36_0         163 KB\n",
      "    pytables-3.4.4             |   py36ha205bf6_0         1.5 MB\n",
      "    sphinxcontrib-devhelp-1.0.1|             py_0          23 KB\n",
      "    py-1.8.0                   |           py36_0         140 KB\n",
      "    pyflakes-2.1.1             |           py36_0         105 KB\n",
      "    pyparsing-2.4.2            |             py_0          61 KB\n",
      "    spyder-kernels-0.5.2       |           py36_0          69 KB\n",
      "    notebook-6.0.1             |           py36_0         6.0 MB\n",
      "    pycrypto-2.6.1             |   py36h14c3975_9         465 KB\n",
      "    imagesize-1.1.0            |           py36_0           9 KB\n",
      "    numpydoc-0.9.1             |             py_0          31 KB\n",
      "    gmpy2-2.0.8                |   py36h10f8cd9_2         165 KB\n",
      "    unicodecsv-0.14.1          |           py36_0          25 KB\n",
      "    packaging-19.2             |             py_0          30 KB\n",
      "    ------------------------------------------------------------\n",
      "                                           Total:       323.4 MB\n",
      "\n",
      "The following NEW packages will be INSTALLED:\n",
      "\n",
      "    atomicwrites:                       1.3.0-py36_1                       \n",
      "    backports.os:                       0.1.1-py36_0                       \n",
      "    fsspec:                             0.5.2-py_0                         \n",
      "    importlib_metadata:                 0.23-py36_0                        \n",
      "    jeepney:                            0.4.1-py_0                         \n",
      "    json5:                              0.8.5-py_0                         \n",
      "    jupyterlab_server:                  1.0.6-py_0                         \n",
      "    keyring:                            18.0.0-py36_0                      \n",
      "    libopus:                            1.3-h7b6447c_0                     \n",
      "    libvpx:                             1.7.0-h439df22_0                   \n",
      "    lz4-c:                              1.8.1.2-h14c3975_0                 \n",
      "    prometheus_client:                  0.7.1-py_0                         \n",
      "    pyrsistent:                         0.15.4-py36h7b6447c_0              \n",
      "    secretstorage:                      3.1.1-py36_0                       \n",
      "    soupsieve:                          1.9.3-py36_0                       \n",
      "    sphinxcontrib-applehelp:            1.0.1-py_0                         \n",
      "    sphinxcontrib-devhelp:              1.0.1-py_0                         \n",
      "    sphinxcontrib-htmlhelp:             1.0.2-py_0                         \n",
      "    sphinxcontrib-jsmath:               1.0.1-py_0                         \n",
      "    sphinxcontrib-qthelp:               1.0.2-py_0                         \n",
      "    sphinxcontrib-serializinghtml:      1.1.3-py_0                         \n",
      "    spyder-kernels:                     0.5.2-py36_0                       \n",
      "    typed-ast:                          1.4.0-py36h7b6447c_0               \n",
      "    wurlitzer:                          1.0.3-py36_0                       \n",
      "    zipp:                               0.6.0-py_0                         \n",
      "    zstd:                               1.3.7-h0b5b093_0                   \n",
      "\n",
      "The following packages will be UPDATED:\n",
      "\n",
      "    alabaster:                          0.7.10-py36h306e16b_0               --> 0.7.12-py36_0          \n",
      "    anaconda-client:                    1.6.14-py36_0                       --> 1.7.2-py36_0           \n",
      "    anaconda-project:                   0.8.2-py36h44fb852_0                --> 0.8.4-py_0             \n",
      "    asn1crypto:                         0.24.0-py36_0                       --> 1.2.0-py36_0           \n",
      "    astroid:                            1.6.3-py36_0                        --> 2.3.2-py36_0           \n",
      "    astropy:                            3.0.2-py36h3010b51_1                --> 3.2.2-py36h7b6447c_0   \n",
      "    attrs:                              18.1.0-py36_0                       --> 19.3.0-py_0            \n",
      "    babel:                              2.5.3-py36_0                        --> 2.7.0-py_0             \n",
      "    backports:                          1.0-py36hfa02d7e_1                  --> 1.0-py_2               \n",
      "    backports.shutil_get_terminal_size: 1.0.0-py36hfea85ff_2                --> 1.0.0-py36_2           \n",
      "    bazel:                              0.15.0-0                conda-forge --> 0.26.1-hf484d3e_0      \n",
      "    beautifulsoup4:                     4.6.0-py36h49b8c8c_1                --> 4.8.1-py36_0           \n",
      "    bitarray:                           0.8.1-py36h14c3975_1                --> 1.0.1-py36h7b6447c_0   \n",
      "    bkcharts:                           0.2-py36h735825a_0                  --> 0.2-py36_0             \n",
      "    blaze:                              0.11.3-py36h4e06776_0               --> 0.11.3-py36_0          \n",
      "    bleach:                             2.1.3-py36_0                        --> 3.1.0-py36_0           \n",
      "    blosc:                              1.14.3-hdbcaa40_0                   --> 1.16.3-hd408876_0      \n",
      "    bokeh:                              1.0.4-py36_0                        --> 1.3.4-py36_0           \n",
      "    boto:                               2.48.0-py36h6e4cd66_1               --> 2.49.0-py36_0          \n",
      "    boto3:                              1.9.162-py_0                        --> 1.9.234-py_0           \n",
      "    botocore:                           1.12.163-py_0                       --> 1.12.234-py_0          \n",
      "    bottleneck:                         1.2.1-py36haac1ea0_0                --> 1.2.1-py36h035aef0_1   \n",
      "    bzip2:                              1.0.6-h14c3975_5                    --> 1.0.8-h7b6447c_0       \n",
      "    ca-certificates:                    2019.5.15-0                         --> 2019.10.16-0           \n",
      "    certifi:                            2019.6.16-py36_0                    --> 2019.9.11-py36_0       \n",
      "    cffi:                               1.11.5-py36h9745a5d_0               --> 1.13.0-py36h2e261b9_0  \n",
      "    chardet:                            3.0.4-py36h0f667ec_1                --> 3.0.4-py36_1003        \n",
      "    click:                              6.7-py36h5253387_0                  --> 7.0-py36_0             \n",
      "    cloudpickle:                        0.5.3-py36_0                        --> 1.2.2-py_0             \n",
      "    clyent:                             1.2.2-py36h7e57e65_1                --> 1.2.2-py36_1           \n",
      "    colorama:                           0.3.9-py36h489cec4_0                --> 0.4.1-py36_0           \n",
      "    contextlib2:                        0.5.5-py36h6c84a62_0                --> 0.6.0-py_0             \n",
      "    cryptography:                       2.2.2-py36h14c3975_0                --> 2.8-py36h1ba5d50_0     \n",
      "    curl:                               7.60.0-h84994c4_0                   --> 7.65.3-hbc83047_0      \n",
      "    cycler:                             0.10.0-py36h93f1223_0               --> 0.10.0-py36_0          \n",
      "    cython:                             0.28.2-py36h14c3975_0               --> 0.29.13-py36he6710b0_0 \n",
      "    cytoolz:                            0.9.0.1-py36h14c3975_0              --> 0.10.0-py36h7b6447c_0  \n",
      "    dask:                               1.2.2-py_0                          --> 2.6.0-py_0             \n",
      "    dask-core:                          1.2.2-py_0                          --> 2.6.0-py_0             \n",
      "    datashape:                          0.5.4-py36h3ad6b5c_0                --> 0.5.4-py36_1           \n",
      "    dbus:                               1.13.2-h714fa37_1                   --> 1.13.12-h746ee38_0     \n",
      "    decorator:                          4.3.0-py36_0                        --> 4.4.0-py36_1           \n",
      "    distributed:                        1.28.1-py36_0                       --> 2.6.0-py_0             \n",
      "    docutils:                           0.14-py36hb0f60f5_0                 --> 0.15.2-py36_0          \n",
      "    entrypoints:                        0.2.3-py36h1aec115_2                --> 0.3-py36_0             \n",
      "    et_xmlfile:                         1.0.1-py36hd6bccc3_0                --> 1.0.1-py36_0           \n",
      "    expat:                              2.2.5-he0dffb1_0                    --> 2.2.6-he6710b0_0       \n",
      "    fastcache:                          1.0.2-py36h14c3975_2                --> 1.1.0-py36h7b6447c_0   \n",
      "    filelock:                           3.0.4-py36_0                        --> 3.0.12-py_0            \n",
      "    flask:                              1.0.2-py36_1                        --> 1.1.1-py_0             \n",
      "    flask-cors:                         3.0.4-py36_0                        --> 3.0.8-py_0             \n",
      "    gevent:                             1.3.0-py36h14c3975_0                --> 1.4.0-py36h7b6447c_0   \n",
      "    glib:                               2.56.1-h000015b_0                   --> 2.56.2-hd408876_0      \n",
      "    glob2:                              0.6-py36he249c77_0                  --> 0.7-py_0               \n",
      "    gmpy2:                              2.0.8-py36hc8893dd_2                --> 2.0.8-py36h10f8cd9_2   \n",
      "    graphite2:                          1.3.11-h16798f4_2                   --> 1.3.13-h23475e2_0      \n",
      "    greenlet:                           0.4.13-py36h14c3975_0               --> 0.4.15-py36h7b6447c_0  \n",
      "    heapdict:                           1.0.0-py36_2                        --> 1.0.1-py_0             \n",
      "    html5lib:                           1.0.1-py36h2f9c1c0_0                --> 1.0.1-py_0             \n",
      "    idna:                               2.6-py36h82fb2a8_1                  --> 2.8-py36_0             \n",
      "    imageio:                            2.3.0-py36_0                        --> 2.6.1-py36_0           \n",
      "    imagesize:                          1.0.0-py36_0                        --> 1.1.0-py36_0           \n",
      "    intel-openmp:                       2018.0.0-8                          --> 2019.4-243             \n",
      "    ipykernel:                          4.8.2-py36_0                        --> 5.1.2-py36h39e3cac_0   \n",
      "    ipython:                            6.4.0-py36_0                        --> 7.8.0-py36h39e3cac_0   \n",
      "    ipython_genutils:                   0.2.0-py36hb52b0d5_0                --> 0.2.0-py36_0           \n",
      "    ipywidgets:                         7.2.1-py36_0                        --> 7.5.1-py_0             \n",
      "    isort:                              4.3.4-py36_0                        --> 4.3.21-py36_0          \n",
      "    itsdangerous:                       0.24-py36h93cc618_1                 --> 1.1.0-py36_0           \n",
      "    jdcal:                              1.4-py36_0                          --> 1.4.1-py_0             \n",
      "    jedi:                               0.12.0-py36_1                       --> 0.15.1-py36_0          \n",
      "    jinja2:                             2.10-py36ha16c418_0                 --> 2.10.3-py_0            \n",
      "    jsonschema:                         2.6.0-py36h006f8b5_0                --> 3.1.1-py36_0           \n",
      "    jupyter:                            1.0.0-py36_4                        --> 1.0.0-py36_7           \n",
      "    jupyter_client:                     5.2.3-py36_0                        --> 5.3.4-py36_0           \n",
      "    jupyter_console:                    5.2.0-py36he59e554_1                --> 6.0.0-py36_0           \n",
      "    jupyter_core:                       4.4.0-py36h7c827e3_0                --> 4.6.0-py36_0           \n",
      "    jupyterlab:                         0.32.1-py36_0                       --> 1.1.4-pyhf63ae98_0     \n",
      "    jupyterlab_launcher:                0.10.5-py36_0                       --> 0.13.1-py36_0          \n",
      "    kiwisolver:                         1.0.1-py36h764f252_0                --> 1.1.0-py36he6710b0_0   \n",
      "    krb5:                               1.14.2-hcdc1b81_6                   --> 1.16.1-h173b8e3_7      \n",
      "    lazy-object-proxy:                  1.3.1-py36h10fcdad_0                --> 1.4.2-py36h7b6447c_0   \n",
      "    libcurl:                            7.60.0-h1ad7b7a_0                   --> 7.65.3-h20c2e04_0      \n",
      "    libedit:                            3.1.20170329-h6b74fdf_2             --> 3.1.20181209-hc058e9b_0\n",
      "    libgfortran-ng:                     7.2.0-hdf63c60_3                    --> 7.3.0-hdf63c60_0       \n",
      "    libpng:                             1.6.34-hb9fc6fc_0                   --> 1.6.37-hbc83047_0      \n",
      "    libprotobuf:                        3.7.1-h8b12597_0        conda-forge --> 3.9.2-hd408876_0       \n",
      "    libssh2:                            1.8.0-h9cfc8f7_4                    --> 1.8.2-h1ba5d50_0       \n",
      "    libtiff:                            4.0.9-he85c1e1_1                    --> 4.0.10-h2733197_2      \n",
      "    libtool:                            2.4.6-h544aabb_3                    --> 2.4.6-h7b6447c_5       \n",
      "    libxml2:                            2.9.8-h26e45fe_1                    --> 2.9.9-hea5a465_1       \n",
      "    libxslt:                            1.1.32-h1312cb7_0                   --> 1.1.33-h7d1a2b0_0      \n",
      "    llvmlite:                           0.23.1-py36hdbcaa40_0               --> 0.30.0-py36hd408876_0  \n",
      "    locket:                             0.2.0-py36h787c0ad_1                --> 0.2.0-py36_1           \n",
      "    lxml:                               4.2.1-py36h23eabaa_0                --> 4.4.1-py36hefd8a0e_0   \n",
      "    markupsafe:                         1.0-py36hd9260cd_1                  --> 1.1.1-py36h7b6447c_0   \n",
      "    matplotlib:                         2.2.3-py36hb69df0a_0                --> 3.1.1-py36h5429711_0   \n",
      "    mccabe:                             0.6.1-py36h5ad9710_1                --> 0.6.1-py36_1           \n",
      "    mistune:                            0.8.3-py36h14c3975_1                --> 0.8.4-py36h7b6447c_0   \n",
      "    mkl-service:                        2.0.2-py36h7b6447c_0                --> 2.3.0-py36he904b0f_0   \n",
      "    mkl_fft:                            1.0.12-py36ha843d7b_0               --> 1.0.14-py36ha843d7b_0  \n",
      "    mkl_random:                         1.0.2-py36hd81dba3_0                --> 1.1.0-py36hd6b4f25_0   \n",
      "    more-itertools:                     4.1.0-py36_0                        --> 7.2.0-py36_0           \n",
      "    mpc:                                1.0.3-hec55b23_5                    --> 1.1.0-h10f8cd9_1       \n",
      "    mpfr:                               3.1.5-h11a74b3_2                    --> 4.0.1-hdf1c602_3       \n",
      "    mpmath:                             1.0.0-py36hfeacd6b_2                --> 1.1.0-py36_0           \n",
      "    msgpack-python:                     0.5.6-py36h6bb024c_0                --> 0.6.1-py36hfd86e86_1   \n",
      "    multipledispatch:                   0.5.0-py36_0                        --> 0.6.0-py36_0           \n",
      "    nb_conda_kernels:                   2.2.2-py36_0            conda-forge --> 2.2.2-py36_0           \n",
      "    nbconvert:                          5.4.1-py36_3                        --> 5.6.0-py36_1           \n",
      "    nbformat:                           4.4.0-py36h31c9010_0                --> 4.4.0-py36_0           \n",
      "    ncurses:                            6.1-hf484d3e_0                      --> 6.1-he6710b0_1         \n",
      "    networkx:                           2.1-py36_0                          --> 2.4-py_0               \n",
      "    nltk:                               3.3.0-py36_0                        --> 3.4.5-py36_0           \n",
      "    nose:                               1.3.7-py36hcdf7029_2                --> 1.3.7-py36_2           \n",
      "    notebook:                           5.5.0-py36_0                        --> 6.0.1-py36_0           \n",
      "    numba:                              0.38.0-py36h637b7d7_0               --> 0.46.0-py36h962f231_0  \n",
      "    numexpr:                            2.6.9-py36h9e4a6bb_0                --> 2.7.0-py36h9e4a6bb_0   \n",
      "    numpy:                              1.16.4-py36h7e9f1db_0               --> 1.17.2-py36haad9e8e_0  \n",
      "    numpy-base:                         1.16.4-py36hde5b4d6_0               --> 1.17.2-py36hde5b4d6_0  \n",
      "    numpydoc:                           0.8.0-py36_0                        --> 0.9.1-py_0             \n",
      "    odo:                                0.5.1-py36h90ed295_0                --> 0.5.1-py36_0           \n",
      "    olefile:                            0.45.1-py36_0                       --> 0.46-py36_0            \n",
      "    openpyxl:                           2.5.3-py36_0                        --> 3.0.0-py_0             \n",
      "    openssl:                            1.0.2s-h7b6447c_0                   --> 1.1.1d-h7b6447c_3      \n",
      "    packaging:                          17.1-py36_0                         --> 19.2-py_0              \n",
      "    pandas:                             0.23.0-py36h637b7d7_0               --> 0.25.2-py36he6710b0_0  \n",
      "    pandoc:                             1.19.2.1-hea2e7c5_1                 --> 2.2.3.2-0              \n",
      "    pandocfilters:                      1.4.2-py36ha6701b7_1                --> 1.4.2-py36_1           \n",
      "    pango:                              1.42.3-h8589676_0                   --> 1.42.4-h049681c_0      \n",
      "    parso:                              0.2.0-py36_0                        --> 0.5.1-py_0             \n",
      "    partd:                              0.3.8-py36h36fd896_0                --> 1.0.0-py_0             \n",
      "    patchelf:                           0.9-hf79760b_2                      --> 0.9-he6710b0_3         \n",
      "    path.py:                            11.0.1-py36_0                       --> 12.0.1-py_0            \n",
      "    pathlib2:                           2.3.2-py36_0                        --> 2.3.5-py36_0           \n",
      "    patsy:                              0.5.0-py36_0                        --> 0.5.1-py36_0           \n",
      "    pcre:                               8.42-h439df22_0                     --> 8.43-he6710b0_0        \n",
      "    pexpect:                            4.5.0-py36_0                        --> 4.7.0-py36_0           \n",
      "    pickleshare:                        0.7.4-py36h63277f8_0                --> 0.7.5-py36_0           \n",
      "    pillow:                             5.2.0-py36heded4f4_0                --> 6.2.0-py36h34e0f95_0   \n",
      "    pip:                                10.0.1-py36_0                       --> 19.3.1-py36_0          \n",
      "    pixman:                             0.34.0-hceecf20_3                   --> 0.38.0-h7b6447c_0      \n",
      "    pkginfo:                            1.4.2-py36_1                        --> 1.5.0.1-py36_0         \n",
      "    pluggy:                             0.6.0-py36hb689045_0                --> 0.13.0-py36_0          \n",
      "    prompt_toolkit:                     1.0.15-py36h17d85b1_0               --> 2.0.10-py_0            \n",
      "    protobuf:                           3.7.1-py36he1b5a44_0    conda-forge --> 3.9.2-py36he6710b0_0   \n",
      "    psutil:                             5.4.5-py36h14c3975_0                --> 5.6.3-py36h7b6447c_0   \n",
      "    ptyprocess:                         0.5.2-py36h69acd42_0                --> 0.6.0-py36_0           \n",
      "    py:                                 1.5.3-py36_0                        --> 1.8.0-py36_0           \n",
      "    pycodestyle:                        2.4.0-py36_0                        --> 2.5.0-py36_0           \n",
      "    pycosat:                            0.6.3-py36h0a5515d_0                --> 0.6.3-py36h14c3975_0   \n",
      "    pycparser:                          2.18-py36hf9f622e_1                 --> 2.19-py36_0            \n",
      "    pycrypto:                           2.6.1-py36h14c3975_8                --> 2.6.1-py36h14c3975_9   \n",
      "    pycurl:                             7.43.0.1-py36hb7f436b_0             --> 7.43.0.3-py36h1ba5d50_0\n",
      "    pyflakes:                           1.6.0-py36h7bd6a15_0                --> 2.1.1-py36_0           \n",
      "    pygments:                           2.2.0-py36h0d3125c_0                --> 2.4.2-py_0             \n",
      "    pylint:                             1.8.4-py36_0                        --> 2.4.3-py36_0           \n",
      "    pyodbc:                             4.0.23-py36hf484d3e_0               --> 4.0.27-py36he6710b0_0  \n",
      "    pyopenssl:                          18.0.0-py36_0                       --> 19.0.0-py36_0          \n",
      "    pyparsing:                          2.2.0-py36hee85983_1                --> 2.4.2-py_0             \n",
      "    pyqt:                               5.9.2-py36h751905a_0                --> 5.9.2-py36h05f1152_2   \n",
      "    pysocks:                            1.6.8-py36_0                        --> 1.7.1-py36_0           \n",
      "    pytables:                           3.4.3-py36h02b9ad4_2                --> 3.4.4-py36ha205bf6_0   \n",
      "    pytest:                             3.5.1-py36_0                        --> 5.0.1-py36_0           \n",
      "    pytest-arraydiff:                   0.2-py36_0                          --> 0.3-py36h39e3cac_0     \n",
      "    pytest-astropy:                     0.3.0-py36_0                        --> 0.5.0-py36_0           \n",
      "    pytest-doctestplus:                 0.1.3-py36_0                        --> 0.4.0-py_0             \n",
      "    pytest-openfiles:                   0.3.0-py36_0                        --> 0.4.0-py_0             \n",
      "    pytest-remotedata:                  0.2.1-py36_0                        --> 0.3.2-py36_0           \n",
      "    python:                             3.6.5-hc3d631a_2                    --> 3.6.9-h265db76_0       \n",
      "    python-dateutil:                    2.7.3-py36_0                        --> 2.8.0-py36_0           \n",
      "    pytz:                               2018.4-py36_0                       --> 2019.3-py_0            \n",
      "    pywavelets:                         0.5.2-py36he602eb0_0                --> 1.1.1-py36h7b6447c_0   \n",
      "    pyyaml:                             3.12-py36hafb9ca4_1                 --> 5.1.2-py36h7b6447c_0   \n",
      "    pyzmq:                              17.0.0-py36h14c3975_0               --> 18.1.0-py36he6710b0_0  \n",
      "    qt:                                 5.9.6-h52aff34_0                    --> 5.9.7-h5867ecd_1       \n",
      "    qtawesome:                          0.4.4-py36h609ed8c_0                --> 0.6.0-py_0             \n",
      "    qtconsole:                          4.3.1-py36h8f73b5b_0                --> 4.5.5-py_0             \n",
      "    qtpy:                               1.4.1-py36_0                        --> 1.9.0-py_0             \n",
      "    readline:                           7.0-ha6073c6_4                      --> 7.0-h7b6447c_5         \n",
      "    requests:                           2.20.0-py36_1000        conda-forge --> 2.22.0-py36_0          \n",
      "    rope:                               0.10.7-py36h147e2ec_0               --> 0.14.0-py_0            \n",
      "    ruamel_yaml:                        0.15.35-py36h14c3975_1              --> 0.15.46-py36h14c3975_0 \n",
      "    s3fs:                               0.1.5-py36_0                        --> 0.3.4-py_0             \n",
      "    s3transfer:                         0.2.0-py36_0                        --> 0.2.1-py36_0           \n",
      "    scikit-image:                       0.13.1-py36h14c3975_1               --> 0.15.0-py36he6710b0_0  \n",
      "    scikit-learn:                       0.21.2-py36hd81dba3_0               --> 0.21.3-py36hd81dba3_0  \n",
      "    scipy:                              1.3.0-py36h7c811a0_0                --> 1.3.1-py36h7c811a0_0   \n",
      "    seaborn:                            0.8.1-py36hfad7ec4_0                --> 0.9.0-py36_0           \n",
      "    setuptools:                         39.1.0-py36_0                       --> 41.4.0-py36_0          \n",
      "    singledispatch:                     3.4.0.3-py36h7a266c3_0              --> 3.4.0.3-py36_0         \n",
      "    six:                                1.11.0-py36h372c433_1               --> 1.12.0-py36_0          \n",
      "    snowballstemmer:                    1.2.1-py36h6febd40_0                --> 2.0.0-py_0             \n",
      "    sortedcollections:                  0.6.1-py36_0                        --> 1.1.2-py36_0           \n",
      "    sortedcontainers:                   1.5.10-py36_0                       --> 2.1.0-py36_0           \n",
      "    sphinx:                             1.7.4-py36_0                        --> 2.2.0-py_0             \n",
      "    sphinxcontrib:                      1.0-py36h6d0f590_1                  --> 1.0-py36_1             \n",
      "    sphinxcontrib-websupport:           1.0.1-py36hb5cb234_1                --> 1.1.2-py_0             \n",
      "    spyder:                             3.2.8-py36_0                        --> 3.3.6-py36_0           \n",
      "    sqlalchemy:                         1.2.7-py36h6b74fdf_0                --> 1.3.10-py36h7b6447c_0  \n",
      "    sqlite:                             3.23.1-he433501_0                   --> 3.30.1-h7b6447c_0      \n",
      "    statsmodels:                        0.9.0-py36h3010b51_0                --> 0.10.1-py36hdd07704_0  \n",
      "    sympy:                              1.1.1-py36hc6d1c1c_0                --> 1.4-py36_0             \n",
      "    tblib:                              1.3.2-py36h34cf8b6_0                --> 1.4.0-py_0             \n",
      "    terminado:                          0.8.1-py36_1                        --> 0.8.2-py36_0           \n",
      "    testpath:                           0.3.1-py36h8cadb63_0                --> 0.4.2-py36_0           \n",
      "    tk:                                 8.6.7-hc745277_3                    --> 8.6.8-hbc83047_0       \n",
      "    toolz:                              0.9.0-py36_0                        --> 0.10.0-py_0            \n",
      "    tornado:                            5.0.2-py36_0                        --> 6.0.3-py36h7b6447c_0   \n",
      "    traitlets:                          4.3.2-py36h674d592_0                --> 4.3.3-py36_0           \n",
      "    unicodecsv:                         0.14.1-py36ha668878_0               --> 0.14.1-py36_0          \n",
      "    unixodbc:                           2.3.6-h1bed415_0                    --> 2.3.7-h14c3975_0       \n",
      "    urllib3:                            1.23-py36_0                         --> 1.24.2-py36_0          \n",
      "    wcwidth:                            0.1.7-py36hdf4376a_0                --> 0.1.7-py36_0           \n",
      "    webencodings:                       0.5.1-py36h800622e_1                --> 0.5.1-py36_1           \n",
      "    werkzeug:                           0.14.1-py36_0                       --> 0.16.0-py_0            \n",
      "    wheel:                              0.31.1-py36_0                       --> 0.33.6-py36_0          \n",
      "    widgetsnbextension:                 3.2.1-py36_0                        --> 3.5.1-py36_0           \n",
      "    wrapt:                              1.10.11-py36h28b7045_0              --> 1.11.2-py36h7b6447c_0  \n",
      "    xlrd:                               1.1.0-py36h1db9f0c_1                --> 1.2.0-py36_0           \n",
      "    xlsxwriter:                         1.0.4-py36_0                        --> 1.2.2-py_0             \n",
      "    xlwt:                               1.3.0-py36h7b00a1f_0                --> 1.3.0-py36_0           \n",
      "    zeromq:                             4.2.5-h439df22_0                    --> 4.3.1-he6710b0_3       \n",
      "    zict:                               0.1.3-py36h3a3bf81_0                --> 1.0.0-py_0             \n",
      "    zlib:                               1.2.11-ha838bed_2                   --> 1.2.11-h7b6447c_3      \n",
      "\n",
      "The following packages will be DOWNGRADED:\n",
      "\n",
      "    ffmpeg:                             4.0.2-ha0c5888_2        conda-forge --> 4.0-hcdf2ecd_0         \n",
      "    freeglut:                           3.0.0-hf484d3e_1005     conda-forge --> 3.0.0-hf484d3e_5       \n",
      "    libglu:                             9.0.0-hf484d3e_1000     conda-forge --> 9.0.0-hf484d3e_1       \n",
      "    libiconv:                           1.15-h516909a_1005      conda-forge --> 1.15-h63c8f33_5        \n",
      "    nb_conda:                           2.2.1-py36_2            conda-forge --> 2.2.1-py36_0           \n",
      "    openjdk:                            11.0.1-h516909a_1016    conda-forge --> 8.0.152-h46b5887_1     \n",
      "    pykerberos:                         1.2.1-py36h14c3975_0                --> 1.1.14-py36h84109d8_2  \n",
      "\n",
      "\n",
      "Downloading and Extracting Packages\n"
     ]
    },
    {
     "name": "stdout",
     "output_type": "stream",
     "text": [
      "nose-1.3.7           | 214 KB    | ##################################### | 100% \n",
      "multipledispatch-0.6 | 21 KB     | ##################################### | 100% \n",
      "mkl-service-2.3.0    | 208 KB    | ##################################### | 100% \n",
      "spyder-3.3.6         | 2.5 MB    | ##################################### | 100% \n",
      "pytest-doctestplus-0 | 18 KB     | ##################################### | 100% \n",
      "libtool-2.4.6        | 513 KB    | ##################################### | 100% \n",
      "locket-0.2.0         | 8 KB      | ##################################### | 100% \n",
      "anaconda-client-1.7. | 141 KB    | ##################################### | 100% \n",
      "chardet-3.0.4        | 197 KB    | ##################################### | 100% \n",
      "pandas-0.25.2        | 11.4 MB   | ##################################### | 100% \n",
      "pytest-remotedata-0. | 15 KB     | ##################################### | 100% \n",
      "pytest-5.0.1         | 353 KB    | ##################################### | 100% \n",
      "attrs-19.3.0         | 39 KB     | ##################################### | 100% \n",
      "lxml-4.4.1           | 1.6 MB    | ##################################### | 100% \n",
      "jupyterlab_launcher- | 36 KB     | ##################################### | 100% \n",
      "path.py-12.0.1       | 23 KB     | ##################################### | 100% \n",
      "astroid-2.3.2        | 283 KB    | ##################################### | 100% \n",
      "secretstorage-3.1.1  | 24 KB     | ##################################### | 100% \n",
      "sphinx-2.2.0         | 1.5 MB    | ##################################### | 100% \n",
      "soupsieve-1.9.3      | 60 KB     | ##################################### | 100% \n",
      "unixodbc-2.3.7       | 319 KB    | ##################################### | 100% \n",
      "intel-openmp-2019.4  | 876 KB    | ##################################### | 100% \n",
      "libiconv-1.15        | 2.0 MB    | ##################################### | 100% \n",
      "sphinxcontrib-serial | 24 KB     | ##################################### | 100% \n",
      "libglu-9.0.0         | 377 KB    | ##################################### | 100% \n",
      "html5lib-1.0.1       | 89 KB     | ##################################### | 100% \n",
      "sortedcollections-1. | 18 KB     | ##################################### | 100% \n",
      "rope-0.14.0          | 113 KB    | ##################################### | 100% \n",
      "bkcharts-0.2         | 127 KB    | ##################################### | 100% \n",
      "pytest-openfiles-0.4 | 10 KB     | ##################################### | 100% \n",
      "llvmlite-0.30.0      | 17.7 MB   | ##################################### | 100% \n",
      "babel-2.7.0          | 5.8 MB    | ##################################### | 100% \n",
      "contextlib2-0.6.0    | 16 KB     | ##################################### | 100% \n",
      "glob2-0.7            | 14 KB     | ##################################### | 100% \n",
      "cycler-0.10.0        | 13 KB     | ##################################### | 100% \n",
      "mccabe-0.6.1         | 14 KB     | ##################################### | 100% \n",
      "bitarray-1.0.1       | 60 KB     | ##################################### | 100% \n",
      "dbus-1.13.12         | 611 KB    | ##################################### | 100% \n",
      "clyent-1.2.2         | 18 KB     | ##################################### | 100% \n",
      "importlib_metadata-0 | 43 KB     | ##################################### | 100% \n",
      "cython-0.29.13       | 2.2 MB    | ##################################### | 100% \n",
      "openpyxl-3.0.0       | 157 KB    | ##################################### | 100% \n",
      "flask-1.1.1          | 73 KB     | ##################################### | 100% \n",
      "itsdangerous-1.1.0   | 26 KB     | ##################################### | 100% \n",
      "pip-19.3.1           | 1.9 MB    | ##################################### | 100% \n",
      "patsy-0.5.1          | 380 KB    | ##################################### | 100% \n",
      "jeepney-0.4.1        | 21 KB     | ##################################### | 100% \n",
      "kiwisolver-1.1.0     | 90 KB     | ##################################### | 100% \n",
      "zict-1.0.0           | 12 KB     | ##################################### | 100% \n",
      "colorama-0.4.1       | 24 KB     | ##################################### | 100% \n",
      "backports-1.0        | 139 KB    | ##################################### | 100% \n",
      "astropy-3.2.2        | 7.1 MB    | ##################################### | 100% \n",
      "imageio-2.6.1        | 3.4 MB    | ##################################### | 100% \n",
      "et_xmlfile-1.0.1     | 20 KB     | ##################################### | 100% \n",
      "pyodbc-4.0.27        | 70 KB     | ##################################### | 100% \n",
      "protobuf-3.9.2       | 701 KB    | ##################################### | 100% \n",
      "ca-certificates-2019 | 131 KB    | ##################################### | 100% \n",
      "ffmpeg-4.0           | 73.7 MB   | ##################################### | 100% \n",
      "pillow-6.2.0         | 647 KB    | ##################################### | 100% \n",
      "json5-0.8.5          | 25 KB     | ##################################### | 100% \n",
      "freeglut-3.0.0       | 251 KB    | ##################################### | 100% \n",
      "singledispatch-3.4.0 | 15 KB     | ##################################### | 100% \n",
      "patchelf-0.9         | 71 KB     | ##################################### | 100% \n",
      "mpfr-4.0.1           | 575 KB    | ##################################### | 100% \n",
      "mpmath-1.1.0         | 970 KB    | ##################################### | 100% \n",
      "pycurl-7.43.0.3      | 70 KB     | ##################################### | 100% \n",
      "partd-1.0.0          | 19 KB     | ##################################### | 100% \n",
      "numexpr-2.7.0        | 196 KB    | ##################################### | 100% \n",
      "pkginfo-1.5.0.1      | 43 KB     | ##################################### | 100% \n",
      "blaze-0.11.3         | 603 KB    | ##################################### | 100% \n",
      "cloudpickle-1.2.2    | 29 KB     | ##################################### | 100% \n",
      "sqlite-3.30.1        | 1.9 MB    | ##################################### | 100% \n",
      "sphinxcontrib-websup | 35 KB     | ##################################### | 100% \n",
      "keyring-18.0.0       | 55 KB     | ##################################### | 100% \n",
      "sympy-1.4            | 9.7 MB    | ##################################### | 100% \n",
      "pytest-arraydiff-0.3 | 15 KB     | ##################################### | 100% \n",
      "nb_conda-2.2.1       | 33 KB     | ##################################### | 100% \n",
      "msgpack-python-0.6.1 | 92 KB     | ##################################### | 100% \n",
      "beautifulsoup4-4.8.1 | 153 KB    | ##################################### | 100% \n",
      "sphinxcontrib-qthelp | 26 KB     | ##################################### | 100% \n",
      "heapdict-1.0.1       | 9 KB      | ##################################### | 100% \n",
      "libxslt-1.1.33       | 577 KB    | ##################################### | 100% \n",
      "wrapt-1.11.2         | 48 KB     | ##################################### | 100% \n",
      "jsonschema-3.1.1     | 92 KB     | ##################################### | 100% \n",
      "toolz-0.10.0         | 50 KB     | ##################################### | 100% \n",
      "snowballstemmer-2.0. | 58 KB     | ##################################### | 100% \n",
      "anaconda-project-0.8 | 215 KB    | ##################################### | 100% \n",
      "urllib3-1.24.2       | 153 KB    | ##################################### | 100% \n",
      "libvpx-1.7.0         | 2.4 MB    | ##################################### | 100% \n",
      "nltk-3.4.5           | 2.1 MB    | ##################################### | 100% \n",
      "sphinxcontrib-jsmath | 8 KB      | ##################################### | 100% \n",
      "gevent-1.4.0         | 2.5 MB    | ##################################### | 100% \n",
      "jdcal-1.4.1          | 11 KB     | ##################################### | 100% \n",
      "numba-0.46.0         | 3.2 MB    | ##################################### | 100% \n",
      "mpc-1.1.0            | 94 KB     | ##################################### | 100% \n",
      "datashape-0.5.4      | 100 KB    | ##################################### | 100% \n",
      "numpy-1.17.2         | 4 KB      | ##################################### | 100% \n",
      "filelock-3.0.12      | 12 KB     | ##################################### | 100% \n",
      "libprotobuf-3.9.2    | 4.7 MB    | ##################################### | 100% \n",
      "more-itertools-7.2.0 | 99 KB     | ##################################### | 100% \n",
      "distributed-2.6.0    | 393 KB    | ##################################### | 100% \n"
     ]
    },
    {
     "name": "stdout",
     "output_type": "stream",
     "text": [
      "odo-0.5.1            | 193 KB    | ##################################### | 100% \n",
      "sphinxcontrib-1.0    | 3 KB      | ##################################### | 100% \n",
      "libopus-1.3          | 631 KB    | ##################################### | 100% \n",
      "bazel-0.26.1         | 38.0 MB   | ##################################### | 100% \n",
      "click-7.0            | 118 KB    | ##################################### | 100% \n",
      "mkl_fft-1.0.14       | 173 KB    | ##################################### | 100% \n",
      "dask-2.6.0           | 12 KB     | ##################################### | 100% \n",
      "seaborn-0.9.0        | 379 KB    | ##################################### | 100% \n",
      "alabaster-0.7.12     | 17 KB     | ##################################### | 100% \n",
      "atomicwrites-1.3.0   | 13 KB     | ##################################### | 100% \n",
      "fastcache-1.1.0      | 31 KB     | ##################################### | 100% \n",
      "asn1crypto-1.2.0     | 162 KB    | ##################################### | 100% \n",
      "pycodestyle-2.5.0    | 60 KB     | ##################################### | 100% \n",
      "jupyterlab-1.1.4     | 11.7 MB   | ##################################### | 100% \n",
      "backports.shutil_get | 8 KB      | ##################################### | 100% \n",
      "zipp-0.6.0           | 9 KB      | ##################################### | 100% \n",
      "dask-core-2.6.0      | 578 KB    | ##################################### | 100% \n",
      "nb_conda_kernels-2.2 | 37 KB     | ##################################### | 100% \n",
      "pywavelets-1.1.1     | 4.4 MB    | ##################################### | 100% \n",
      "qtawesome-0.6.0      | 671 KB    | ##################################### | 100% \n",
      "scikit-learn-0.21.3  | 6.8 MB    | ##################################### | 100% \n",
      "pytest-astropy-0.5.0 | 6 KB      | ##################################### | 100% \n",
      "matplotlib-3.1.1     | 6.7 MB    | ##################################### | 100% \n",
      "blosc-1.16.3         | 82 KB     | ##################################### | 100% \n",
      "sortedcontainers-2.1 | 45 KB     | ##################################### | 100% \n",
      "isort-4.3.21         | 68 KB     | ##################################### | 100% \n",
      "scipy-1.3.1          | 18.1 MB   | ##################################### | 100% \n",
      "backports.os-0.1.1   | 15 KB     | ##################################### | 100% \n",
      "tblib-1.4.0          | 14 KB     | ##################################### | 100% \n",
      "lz4-c-1.8.1.2        | 158 KB    | ##################################### | 100% \n",
      "pytz-2019.3          | 231 KB    | ##################################### | 100% \n",
      "pluggy-0.13.0        | 31 KB     | ##################################### | 100% \n",
      "lazy-object-proxy-1. | 30 KB     | ##################################### | 100% \n",
      "numpy-base-1.17.2    | 5.3 MB    | ##################################### | 100% \n",
      "flask-cors-3.0.8     | 17 KB     | ##################################### | 100% \n",
      "sphinxcontrib-htmlhe | 28 KB     | ##################################### | 100% \n",
      "networkx-2.4         | 1.2 MB    | ##################################### | 100% \n",
      "qtpy-1.9.0           | 39 KB     | ##################################### | 100% \n",
      "werkzeug-0.16.0      | 255 KB    | ##################################### | 100% \n",
      "wurlitzer-1.0.3      | 14 KB     | ##################################### | 100% \n",
      "requests-2.22.0      | 89 KB     | ##################################### | 100% \n",
      "bottleneck-1.2.1     | 127 KB    | ##################################### | 100% \n",
      "xlrd-1.2.0           | 188 KB    | ##################################### | 100% \n",
      "cytoolz-0.10.0       | 439 KB    | ##################################### | 100% \n",
      "statsmodels-0.10.1   | 9.6 MB    | ##################################### | 100% \n",
      "scikit-image-0.15.0  | 28.4 MB   | ##################################### | 100% \n",
      "pyyaml-5.1.2         | 189 KB    | ##################################### | 100% \n",
      "sqlalchemy-1.3.10    | 1.8 MB    | ##################################### | 100% \n",
      "typed-ast-1.4.0      | 208 KB    | ##################################### | 100% \n",
      "boto-2.49.0          | 1.5 MB    | ##################################### | 100% \n",
      "greenlet-0.4.15      | 20 KB     | ##################################### | 100% \n",
      "cffi-1.13.0          | 224 KB    | ##################################### | 100% \n",
      "bokeh-1.3.4          | 4.0 MB    | ##################################### | 100% \n",
      "mkl_random-1.1.0     | 369 KB    | ##################################### | 100% \n",
      "sphinxcontrib-appleh | 29 KB     | ##################################### | 100% \n",
      "xlsxwriter-1.2.2     | 106 KB    | ##################################### | 100% \n",
      "cryptography-2.8     | 620 KB    | ##################################### | 100% \n",
      "pathlib2-2.3.5       | 37 KB     | ##################################### | 100% \n",
      "pylint-2.4.3         | 432 KB    | ##################################### | 100% \n",
      "olefile-0.46         | 48 KB     | ##################################### | 100% \n",
      "certifi-2019.9.11    | 154 KB    | ##################################### | 100% \n",
      "jupyterlab_server-1. | 26 KB     | ##################################### | 100% \n",
      "xlwt-1.3.0           | 163 KB    | ##################################### | 100% \n",
      "pytables-3.4.4       | 1.5 MB    | ##################################### | 100% \n",
      "sphinxcontrib-devhel | 23 KB     | ##################################### | 100% \n",
      "py-1.8.0             | 140 KB    | ##################################### | 100% \n",
      "pyflakes-2.1.1       | 105 KB    | ##################################### | 100% \n",
      "pyparsing-2.4.2      | 61 KB     | ##################################### | 100% \n",
      "spyder-kernels-0.5.2 | 69 KB     | ##################################### | 100% \n",
      "notebook-6.0.1       | 6.0 MB    | ##################################### | 100% \n",
      "pycrypto-2.6.1       | 465 KB    | ##################################### | 100% \n",
      "imagesize-1.1.0      | 9 KB      | ##################################### | 100% \n",
      "numpydoc-0.9.1       | 31 KB     | ##################################### | 100% \n",
      "gmpy2-2.0.8          | 165 KB    | ##################################### | 100% \n",
      "unicodecsv-0.14.1    | 25 KB     | ##################################### | 100% \n",
      "packaging-19.2       | 30 KB     | ##################################### | 100% \n",
      "Preparing transaction: done\n",
      "Verifying transaction: done\n",
      "Executing transaction: \\ + /home/ec2-user/anaconda3/envs/tensorflow_p36/bin/jupyter-nbextension disable nb_conda --py --sys-prefix\n",
      "Disabling notebook extension nb_conda/main...\n",
      "      - Validating: \u001b[32mOK\u001b[0m\n",
      "Disabling tree extension nb_conda/tree...\n",
      "      - Validating: \u001b[32mOK\u001b[0m\n",
      "+ /home/ec2-user/anaconda3/envs/tensorflow_p36/bin/jupyter-serverextension disable nb_conda --py --sys-prefix\n",
      "Disabling: nb_conda\n",
      "- Writing config: /home/ec2-user/anaconda3/envs/tensorflow_p36/etc/jupyter\n",
      "\n",
      "| Disabling nb_conda_kernels...\n",
      "Status: disabled\n",
      "\n",
      "| Enabling nb_conda_kernels...\n",
      "Status: enabled\n",
      "\n",
      "\\ + /home/ec2-user/anaconda3/envs/tensorflow_p36/bin/jupyter-nbextension enable nb_conda --py --sys-prefix\n",
      "Enabling notebook extension nb_conda/main...\n",
      "      - Validating: \u001b[32mOK\u001b[0m\n",
      "Enabling tree extension nb_conda/tree...\n",
      "      - Validating: \u001b[32mOK\u001b[0m\n",
      "+ /home/ec2-user/anaconda3/envs/tensorflow_p36/bin/jupyter-serverextension enable nb_conda --py --sys-prefix\n",
      "Enabling: nb_conda\n",
      "- Writing config: /home/ec2-user/anaconda3/envs/tensorflow_p36/etc/jupyter\n",
      "    - Validating...\n",
      "      nb_conda 2.2.1 \u001b[32mOK\u001b[0m\n",
      "\n",
      "done\n",
      "Solving environment: done\n",
      "\n",
      "\n",
      "==> WARNING: A newer version of conda exists. <==\n",
      "  current version: 4.5.12\n",
      "  latest version: 4.7.12\n",
      "\n",
      "Please update conda by running\n",
      "\n",
      "    $ conda update -n base -c defaults conda\n",
      "\n",
      "\n",
      "\n",
      "## Package Plan ##\n",
      "\n",
      "  environment location: /home/ec2-user/anaconda3/envs/tensorflow_p36\n",
      "\n",
      "  added / updated specs: \n",
      "    - cudnn\n",
      "\n",
      "\n",
      "The following packages will be downloaded:\n",
      "\n",
      "    package                    |            build\n",
      "    ---------------------------|-----------------\n",
      "    cudatoolkit-10.1.168       |                0       516.0 MB\n",
      "    cudnn-7.6.0                |       cuda10.1_0       240.9 MB\n",
      "    ------------------------------------------------------------\n",
      "                                           Total:       756.9 MB\n",
      "\n",
      "The following NEW packages will be INSTALLED:\n",
      "\n",
      "    cudatoolkit: 10.1.168-0      \n",
      "    cudnn:       7.6.0-cuda10.1_0\n",
      "\n",
      "\n",
      "Downloading and Extracting Packages\n"
     ]
    },
    {
     "name": "stdout",
     "output_type": "stream",
     "text": [
      "cudatoolkit-10.1.168 | 516.0 MB  | ##################################### | 100% \n",
      "cudnn-7.6.0          | 240.9 MB  | ##################################### | 100% \n",
      "Preparing transaction: done\n",
      "Verifying transaction: done\n",
      "Executing transaction: done\n",
      "Requirement already up-to-date: pip in /home/ec2-user/anaconda3/envs/tensorflow_p36/lib/python3.6/site-packages (19.3.1)\n",
      "Collecting tensorflow-gpu\n",
      "\u001b[?25l  Downloading https://files.pythonhosted.org/packages/25/44/47f0722aea081697143fbcf5d2aa60d1aee4aaacb5869aee2b568974777b/tensorflow_gpu-2.0.0-cp36-cp36m-manylinux2010_x86_64.whl (380.8MB)\n",
      "\u001b[K     |████████████████████████████████| 380.8MB 20kB/s s eta 0:00:01\n",
      "\u001b[?25hRequirement already satisfied: termcolor>=1.1.0 in /home/ec2-user/anaconda3/envs/tensorflow_p36/lib/python3.6/site-packages (from tensorflow-gpu) (1.1.0)\n",
      "Requirement already satisfied: keras-applications>=1.0.8 in /home/ec2-user/anaconda3/envs/tensorflow_p36/lib/python3.6/site-packages (from tensorflow-gpu) (1.0.8)\n",
      "Requirement already satisfied: keras-preprocessing>=1.0.5 in /home/ec2-user/anaconda3/envs/tensorflow_p36/lib/python3.6/site-packages (from tensorflow-gpu) (1.1.0)\n",
      "Collecting opt-einsum>=2.3.2\n",
      "\u001b[?25l  Downloading https://files.pythonhosted.org/packages/b8/83/755bd5324777875e9dff19c2e59daec837d0378c09196634524a3d7269ac/opt_einsum-3.1.0.tar.gz (69kB)\n",
      "\u001b[K     |████████████████████████████████| 71kB 1.1MB/s  eta 0:00:01\n",
      "\u001b[?25hRequirement already satisfied: grpcio>=1.8.6 in /home/ec2-user/anaconda3/envs/tensorflow_p36/lib/python3.6/site-packages (from tensorflow-gpu) (1.10.1)\n",
      "Requirement already satisfied: google-pasta>=0.1.6 in /home/ec2-user/anaconda3/envs/tensorflow_p36/lib/python3.6/site-packages (from tensorflow-gpu) (0.1.7)\n",
      "Collecting tensorflow-estimator<2.1.0,>=2.0.0\n",
      "\u001b[?25l  Downloading https://files.pythonhosted.org/packages/fc/08/8b927337b7019c374719145d1dceba21a8bb909b93b1ad6f8fb7d22c1ca1/tensorflow_estimator-2.0.1-py2.py3-none-any.whl (449kB)\n",
      "\u001b[K     |████████████████████████████████| 450kB 36.3MB/s eta 0:00:01\n",
      "\u001b[?25hRequirement already satisfied: absl-py>=0.7.0 in /home/ec2-user/anaconda3/envs/tensorflow_p36/lib/python3.6/site-packages (from tensorflow-gpu) (0.7.1)\n",
      "Requirement already satisfied: six>=1.10.0 in /home/ec2-user/anaconda3/envs/tensorflow_p36/lib/python3.6/site-packages (from tensorflow-gpu) (1.12.0)\n",
      "Requirement already satisfied: wheel>=0.26 in /home/ec2-user/anaconda3/envs/tensorflow_p36/lib/python3.6/site-packages (from tensorflow-gpu) (0.33.6)\n",
      "Requirement already satisfied: gast==0.2.2 in /home/ec2-user/anaconda3/envs/tensorflow_p36/lib/python3.6/site-packages (from tensorflow-gpu) (0.2.2)\n",
      "Requirement already satisfied: wrapt>=1.11.1 in /home/ec2-user/anaconda3/envs/tensorflow_p36/lib/python3.6/site-packages (from tensorflow-gpu) (1.11.2)\n",
      "Requirement already satisfied: numpy<2.0,>=1.16.0 in /home/ec2-user/anaconda3/envs/tensorflow_p36/lib/python3.6/site-packages (from tensorflow-gpu) (1.17.2)\n",
      "Requirement already satisfied: protobuf>=3.6.1 in /home/ec2-user/anaconda3/envs/tensorflow_p36/lib/python3.6/site-packages (from tensorflow-gpu) (3.9.2)\n",
      "Collecting tensorboard<2.1.0,>=2.0.0\n",
      "\u001b[?25l  Downloading https://files.pythonhosted.org/packages/9b/a6/e8ffa4e2ddb216449d34cfcb825ebb38206bee5c4553d69e7bc8bc2c5d64/tensorboard-2.0.0-py3-none-any.whl (3.8MB)\n",
      "\u001b[K     |████████████████████████████████| 3.8MB 39.3MB/s eta 0:00:01\n",
      "\u001b[?25hRequirement already satisfied: astor>=0.6.0 in /home/ec2-user/anaconda3/envs/tensorflow_p36/lib/python3.6/site-packages (from tensorflow-gpu) (0.8.0)\n",
      "Requirement already satisfied: h5py in /home/ec2-user/anaconda3/envs/tensorflow_p36/lib/python3.6/site-packages (from keras-applications>=1.0.8->tensorflow-gpu) (2.8.0)\n",
      "Requirement already satisfied: setuptools in /home/ec2-user/anaconda3/envs/tensorflow_p36/lib/python3.6/site-packages (from protobuf>=3.6.1->tensorflow-gpu) (41.4.0)\n",
      "Requirement already satisfied: markdown>=2.6.8 in /home/ec2-user/anaconda3/envs/tensorflow_p36/lib/python3.6/site-packages (from tensorboard<2.1.0,>=2.0.0->tensorflow-gpu) (3.1.1)\n",
      "Requirement already satisfied: werkzeug>=0.11.15 in /home/ec2-user/anaconda3/envs/tensorflow_p36/lib/python3.6/site-packages (from tensorboard<2.1.0,>=2.0.0->tensorflow-gpu) (0.16.0)\n",
      "Building wheels for collected packages: opt-einsum\n",
      "  Building wheel for opt-einsum (setup.py) ... \u001b[?25ldone\n",
      "\u001b[?25h  Created wheel for opt-einsum: filename=opt_einsum-3.1.0-cp36-none-any.whl size=61682 sha256=986c4ecf7d776291b194b18590939ffff9e5a5daa9d1c5a0761b4f30661872f4\n",
      "  Stored in directory: /home/ec2-user/.cache/pip/wheels/2c/b1/94/43d03e130b929aae7ba3f8d15cbd7bc0d1cb5bb38a5c721833\n",
      "Successfully built opt-einsum\n",
      "\u001b[31mERROR: tensorflow 1.14.0 has requirement tensorboard<1.15.0,>=1.14.0, but you'll have tensorboard 2.0.0 which is incompatible.\u001b[0m\n",
      "\u001b[31mERROR: tensorflow 1.14.0 has requirement tensorflow-estimator<1.15.0rc0,>=1.14.0rc0, but you'll have tensorflow-estimator 2.0.1 which is incompatible.\u001b[0m\n",
      "Installing collected packages: opt-einsum, tensorflow-estimator, tensorboard, tensorflow-gpu\n",
      "  Found existing installation: tensorflow-estimator 1.14.0\n",
      "    Uninstalling tensorflow-estimator-1.14.0:\n",
      "      Successfully uninstalled tensorflow-estimator-1.14.0\n",
      "  Found existing installation: tensorboard 1.14.0\n",
      "    Uninstalling tensorboard-1.14.0:\n",
      "      Successfully uninstalled tensorboard-1.14.0\n",
      "Successfully installed opt-einsum-3.1.0 tensorboard-2.0.0 tensorflow-estimator-2.0.1 tensorflow-gpu-2.0.0\n",
      "Collecting imutils\n",
      "  Downloading https://files.pythonhosted.org/packages/b5/94/46dcae8c061e28be31bcaa55c560cb30ee9403c9a4bb2659768ec1b9eb7d/imutils-0.5.3.tar.gz\n",
      "Building wheels for collected packages: imutils\n",
      "  Building wheel for imutils (setup.py) ... \u001b[?25ldone\n",
      "\u001b[?25h  Created wheel for imutils: filename=imutils-0.5.3-cp36-none-any.whl size=25851 sha256=a75bc953d12ab8485c0e5c1283a9597b811696176a29217b6e1bf31e14ee888b\n",
      "  Stored in directory: /home/ec2-user/.cache/pip/wheels/16/84/1f/bf88641293cda2c8be81a5c4b8ca973dd9125a6dc3767417fd\n",
      "Successfully built imutils\n",
      "Installing collected packages: imutils\n",
      "Successfully installed imutils-0.5.3\n",
      "Collecting tqdm\n",
      "\u001b[?25l  Downloading https://files.pythonhosted.org/packages/e1/c1/bc1dba38b48f4ae3c4428aea669c5e27bd5a7642a74c8348451e0bd8ff86/tqdm-4.36.1-py2.py3-none-any.whl (52kB)\n",
      "\u001b[K     |████████████████████████████████| 61kB 11.7MB/s eta 0:00:01\n",
      "\u001b[?25hInstalling collected packages: tqdm\n",
      "Successfully installed tqdm-4.36.1\n",
      "Requirement already satisfied: pyyaml in /home/ec2-user/anaconda3/envs/tensorflow_p36/lib/python3.6/site-packages (5.1.2)\n",
      "Requirement already satisfied: h5py in /home/ec2-user/anaconda3/envs/tensorflow_p36/lib/python3.6/site-packages (2.8.0)\n",
      "Requirement already satisfied: numpy>=1.7 in /home/ec2-user/anaconda3/envs/tensorflow_p36/lib/python3.6/site-packages (from h5py) (1.17.2)\n",
      "Requirement already satisfied: six in /home/ec2-user/anaconda3/envs/tensorflow_p36/lib/python3.6/site-packages (from h5py) (1.12.0)\n",
      "Collecting tensorflow-hub\n",
      "\u001b[?25l  Downloading https://files.pythonhosted.org/packages/ac/64/3bba86ca49ef21a4add11a4d37e3f6cd05d2e61d207ebe26a8a96b340826/tensorflow_hub-0.6.0-py2.py3-none-any.whl (84kB)\n",
      "\u001b[K     |████████████████████████████████| 92kB 13.6MB/s eta 0:00:01\n",
      "\u001b[?25hRequirement already satisfied: numpy>=1.12.0 in /home/ec2-user/anaconda3/envs/tensorflow_p36/lib/python3.6/site-packages (from tensorflow-hub) (1.17.2)\n",
      "Requirement already satisfied: six>=1.10.0 in /home/ec2-user/anaconda3/envs/tensorflow_p36/lib/python3.6/site-packages (from tensorflow-hub) (1.12.0)\n",
      "Requirement already satisfied: protobuf>=3.4.0 in /home/ec2-user/anaconda3/envs/tensorflow_p36/lib/python3.6/site-packages (from tensorflow-hub) (3.9.2)\n",
      "Requirement already satisfied: setuptools in /home/ec2-user/anaconda3/envs/tensorflow_p36/lib/python3.6/site-packages (from protobuf>=3.4.0->tensorflow-hub) (41.4.0)\n",
      "Installing collected packages: tensorflow-hub\n",
      "Successfully installed tensorflow-hub-0.6.0\n"
     ]
    }
   ],
   "source": [
    "#%%capture\n",
    "# ^ hide the output\n",
    "\n",
    "!conda update --all --yes\n",
    "!conda install cudnn --yes\n",
    "\n",
    "!pip install --upgrade pip\n",
    "!pip install tensorflow-gpu\n",
    "!pip install imutils\n",
    "!pip install tqdm\n",
    "!pip install pyyaml h5py\n",
    "!pip install tensorflow-hub"
   ]
  },
  {
   "cell_type": "markdown",
   "metadata": {},
   "source": [
    "### 0.2 Import the dependencies"
   ]
  },
  {
   "cell_type": "code",
   "execution_count": 52,
   "metadata": {},
   "outputs": [],
   "source": [
    "%matplotlib inline\n",
    "\n",
    "import tensorflow as tf\n",
    "from tensorflow.keras.models import Sequential\n",
    "from tensorflow.keras.layers import Dense, Conv2D, Flatten, Dropout, MaxPooling2D\n",
    "from tensorflow.keras.preprocessing.image import ImageDataGenerator\n",
    "\n",
    "import os\n",
    "import glob\n",
    "import imageio\n",
    "import random\n",
    "import math\n",
    "import shutil\n",
    "import requests\n",
    "import skimage\n",
    "import uuid\n",
    "\n",
    "import numpy as np\n",
    "import matplotlib.pyplot as plt\n",
    "from tqdm import tqdm_notebook as tqdm\n",
    "import tensorflow_hub as hub\n",
    "from collections import defaultdict\n",
    "\n",
    "# create a directory if it doesn't already exist\n",
    "make_dir = lambda path: os.path.exists(path) or os.makedirs(path)"
   ]
  },
  {
   "cell_type": "markdown",
   "metadata": {},
   "source": [
    "### 0.3 Constants"
   ]
  },
  {
   "cell_type": "code",
   "execution_count": 3,
   "metadata": {},
   "outputs": [],
   "source": [
    "IMG_HEIGHT = 224 #300 \n",
    "IMG_WIDTH = 224 # 300\n",
    "train_pct = 0.7\n",
    "batch_size = 24"
   ]
  },
  {
   "cell_type": "markdown",
   "metadata": {},
   "source": [
    "## [1] Get the Data"
   ]
  },
  {
   "cell_type": "markdown",
   "metadata": {},
   "source": [
    "### 1.1 Create directories for the test and train data"
   ]
  },
  {
   "cell_type": "code",
   "execution_count": 4,
   "metadata": {},
   "outputs": [],
   "source": [
    "!rm -rf data\n",
    "make_dir('data')\n",
    "make_dir('data/train')\n",
    "make_dir('data/test')"
   ]
  },
  {
   "cell_type": "markdown",
   "metadata": {},
   "source": [
    "### 1.1 Get the provided dataset"
   ]
  },
  {
   "cell_type": "markdown",
   "metadata": {},
   "source": [
    "#### 1.1.1 Download and unzip the images"
   ]
  },
  {
   "cell_type": "code",
   "execution_count": 5,
   "metadata": {
    "scrolled": true
   },
   "outputs": [
    {
     "name": "stdout",
     "output_type": "stream",
     "text": [
      "  % Total    % Received % Xferd  Average Speed   Time    Time     Time  Current\n",
      "                                 Dload  Upload   Total   Spent    Left  Speed\n",
      "100 67.5M  100 67.5M    0     0   949k      0  0:01:12  0:01:12 --:--:--  980k\n"
     ]
    }
   ],
   "source": [
    "if not os.path.exists('train.zip'):\n",
    "    !curl https://ecs.victoria.ac.nz/foswiki/pub/Courses/COMP309_2019T2/Assignments/Train_data_2019.zip -o train.zip\n",
    "!unzip -oq train.zip -d data"
   ]
  },
  {
   "cell_type": "markdown",
   "metadata": {},
   "source": [
    "#### 1.1.2 Split the images using 309 as a seed"
   ]
  },
  {
   "cell_type": "code",
   "execution_count": 6,
   "metadata": {},
   "outputs": [
    {
     "data": {
      "application/vnd.jupyter.widget-view+json": {
       "model_id": "30292d74af3b4cb1bc323d59b5d6b954",
       "version_major": 2,
       "version_minor": 0
      },
      "text/plain": [
       "HBox(children=(IntProgress(value=1, bar_style='info', description='cherry', max=1, style=ProgressStyle(descrip…"
      ]
     },
     "metadata": {},
     "output_type": "display_data"
    },
    {
     "name": "stdout",
     "output_type": "stream",
     "text": [
      "\n"
     ]
    },
    {
     "data": {
      "application/vnd.jupyter.widget-view+json": {
       "model_id": "df8f8020683c4294ad7a01e4f3626a7a",
       "version_major": 2,
       "version_minor": 0
      },
      "text/plain": [
       "HBox(children=(IntProgress(value=1, bar_style='info', description='strawberry', max=1, style=ProgressStyle(des…"
      ]
     },
     "metadata": {},
     "output_type": "display_data"
    },
    {
     "name": "stdout",
     "output_type": "stream",
     "text": [
      "\n"
     ]
    },
    {
     "data": {
      "application/vnd.jupyter.widget-view+json": {
       "model_id": "147d4b2e5b8e48e086d7cc9cce98f97b",
       "version_major": 2,
       "version_minor": 0
      },
      "text/plain": [
       "HBox(children=(IntProgress(value=1, bar_style='info', description='tomato', max=1, style=ProgressStyle(descrip…"
      ]
     },
     "metadata": {},
     "output_type": "display_data"
    },
    {
     "name": "stdout",
     "output_type": "stream",
     "text": [
      "\n"
     ]
    }
   ],
   "source": [
    "random.seed(309)\n",
    "for label_dir in glob.glob('data/Train_data/*'):\n",
    "    label = label_dir.split('/')[-1]\n",
    "    make_dir(f'data/train/{label}')\n",
    "    make_dir(f'data/test/{label}')\n",
    "    \n",
    "    images = glob.glob(f'{label_dir}/*')\n",
    "    random.shuffle(images)\n",
    "    \n",
    "    split_index = math.floor(len(images) * train_pct)\n",
    "    for i, image in tqdm(enumerate(images), label):\n",
    "        train_or_test = 'train' if i < split_index else 'test'\n",
    "        new_path = image.replace('Train_data', train_or_test)\n",
    "        shutil.move(image, new_path)\n",
    "\n",
    "# clean-up the unzipped directory (will be empty)\n",
    "!rm -rf data/Train_data\n",
    "!rm -rf data/__MACOSX"
   ]
  },
  {
   "cell_type": "markdown",
   "metadata": {},
   "source": [
    "### 1.2 Get images from ImageNet"
   ]
  },
  {
   "cell_type": "markdown",
   "metadata": {},
   "source": [
    "#### 1.2.1 Fetch the ImageNet urls"
   ]
  },
  {
   "cell_type": "code",
   "execution_count": 7,
   "metadata": {},
   "outputs": [
    {
     "name": "stdout",
     "output_type": "stream",
     "text": [
      "ls: cannot access imagenet_urls/: No such file or directory\r\n"
     ]
    }
   ],
   "source": [
    "!ls imagenet_urls/"
   ]
  },
  {
   "cell_type": "code",
   "execution_count": 8,
   "metadata": {},
   "outputs": [
    {
     "name": "stdout",
     "output_type": "stream",
     "text": [
      "--2019-10-28 01:10:13--  https://v.im.cyut.edu.tw/ftp/18/imagenet_fall11_urls.tgz\n",
      "Resolving v.im.cyut.edu.tw (v.im.cyut.edu.tw)... 163.17.9.3\n",
      "Connecting to v.im.cyut.edu.tw (v.im.cyut.edu.tw)|163.17.9.3|:443... connected.\n",
      "HTTP request sent, awaiting response... 200 OK\n",
      "Length: 350302759 (334M) [application/x-gzip]\n",
      "Saving to: ‘imagenet_urls/imagenet_fall11_urls.tgz’\n",
      "\n",
      "imagenet_urls/image 100%[===================>] 334.07M  15.0MB/s    in 19s     \n",
      "\n",
      "2019-10-28 01:10:33 (17.3 MB/s) - ‘imagenet_urls/imagenet_fall11_urls.tgz’ saved [350302759/350302759]\n",
      "\n",
      "fall11_urls.txt\n"
     ]
    }
   ],
   "source": [
    "imagenet_urls_path = 'imagenet_urls/fall11_urls.txt'\n",
    "if not os.path.exists(imagenet_urls_path):\n",
    "    !rm -rf imagenet_urls \n",
    "    !mkdir imagenet_urls\n",
    "\n",
    "    # n.b. the main site is down: use a mirror\n",
    "    !wget https://v.im.cyut.edu.tw/ftp/18/imagenet_fall11_urls.tgz -O imagenet_urls/imagenet_fall11_urls.tgz\n",
    "    !tar -xvf imagenet_urls/imagenet_fall11_urls.tgz -C imagenet_urls\n",
    "\n",
    "raw_image_urls = list(open(imagenet_urls_path, encoding='ISO-8859-1'))"
   ]
  },
  {
   "cell_type": "markdown",
   "metadata": {},
   "source": [
    "#### 1.2.2 Find images for each class"
   ]
  },
  {
   "cell_type": "code",
   "execution_count": 9,
   "metadata": {},
   "outputs": [
    {
     "data": {
      "application/vnd.jupyter.widget-view+json": {
       "model_id": "c099c495c5664bda8a7efa1a0a085394",
       "version_major": 2,
       "version_minor": 0
      },
      "text/plain": [
       "HBox(children=(IntProgress(value=0, max=14197122), HTML(value='')))"
      ]
     },
     "metadata": {},
     "output_type": "display_data"
    },
    {
     "name": "stdout",
     "output_type": "stream",
     "text": [
      "\n"
     ]
    }
   ],
   "source": [
    "word_net_ids = {\n",
    "    'strawberry': ['n07745940'],\n",
    "    'cherry': ['n07757132', 'n07757312', 'n07757874', 'n07757990'],\n",
    "    'tomato': ['n07734292', 'n07734292']\n",
    "}\n",
    "\n",
    "image_urls_by_class = defaultdict(list)\n",
    "for line in tqdm(raw_image_urls):\n",
    "    image_id = line.split('\\t')[0].split('_')[0]\n",
    "    image_url = line.split('\\t')[1].strip()\n",
    "    \n",
    "    for class_name, ids in word_net_ids.items():\n",
    "        if image_id in ids:\n",
    "            image_urls_by_class[class_name] += [image_url]"
   ]
  },
  {
   "cell_type": "markdown",
   "metadata": {},
   "source": [
    "#### 1.2.3 Download applicable images from ImageNet\n",
    "Note: images from Flickr are filtered out as they may be in the evaluation data set."
   ]
  },
  {
   "cell_type": "code",
   "execution_count": 10,
   "metadata": {},
   "outputs": [
    {
     "data": {
      "application/vnd.jupyter.widget-view+json": {
       "model_id": "56db6ac4320f497baae05bbc84bd22ea",
       "version_major": 2,
       "version_minor": 0
      },
      "text/plain": [
       "HBox(children=(IntProgress(value=0, description='tomato', max=37, style=ProgressStyle(description_width='initi…"
      ]
     },
     "metadata": {},
     "output_type": "display_data"
    },
    {
     "name": "stderr",
     "output_type": "stream",
     "text": [
      "/home/ec2-user/anaconda3/envs/tensorflow_p36/lib/python3.6/site-packages/PIL/TiffImagePlugin.py:802: UserWarning: Corrupt EXIF data.  Expecting to read 4 bytes but only got 0. \n",
      "  warnings.warn(str(msg))\n"
     ]
    },
    {
     "name": "stdout",
     "output_type": "stream",
     "text": [
      "\n"
     ]
    },
    {
     "data": {
      "application/vnd.jupyter.widget-view+json": {
       "model_id": "3abd458239a8430baadebb6e197ec85e",
       "version_major": 2,
       "version_minor": 0
      },
      "text/plain": [
       "HBox(children=(IntProgress(value=0, description='strawberry', max=35, style=ProgressStyle(description_width='i…"
      ]
     },
     "metadata": {},
     "output_type": "display_data"
    },
    {
     "name": "stdout",
     "output_type": "stream",
     "text": [
      "\n"
     ]
    },
    {
     "data": {
      "application/vnd.jupyter.widget-view+json": {
       "model_id": "dd4406271387448688ab24aa6628937e",
       "version_major": 2,
       "version_minor": 0
      },
      "text/plain": [
       "HBox(children=(IntProgress(value=0, description='cherry', max=834, style=ProgressStyle(description_width='init…"
      ]
     },
     "metadata": {},
     "output_type": "display_data"
    },
    {
     "name": "stdout",
     "output_type": "stream",
     "text": [
      "\n"
     ]
    }
   ],
   "source": [
    "try:\n",
    "    dead_images\n",
    "except:\n",
    "    dead_images = [] # don't retry these again this session\n",
    "    \n",
    "for class_name, urls in image_urls_by_class.items():\n",
    "    # filter out images from flickr\n",
    "    not_flickr = [url for url in urls if 'flickr' not in url]\n",
    "    for i, url in tqdm(list(enumerate(not_flickr)), class_name):\n",
    "        extension = url.split('.')[-1].lower()\n",
    "        if extension not in ['jpg', 'jpeg', 'png']: continue\n",
    "        \n",
    "        out_image_path = f'data/train/{class_name}/image_net_{i:03}.jpg'\n",
    "        if os.path.exists(out_image_path) or url in dead_images:\n",
    "            continue\n",
    "        \n",
    "        try:\n",
    "            response = requests.get(url, timeout=(2, 5), allow_redirects=False)\n",
    "            assert response.status_code == 200\n",
    "        except (\n",
    "            AssertionError, # status code wasn't 200\n",
    "            requests.exceptions.ReadTimeout,\n",
    "            requests.exceptions.ConnectionError,\n",
    "            requests.exceptions.Timeout\n",
    "        ): # can't download image\n",
    "            dead_images += [url]\n",
    "            continue\n",
    "            \n",
    "        temp_file_name = f'temp.{extension}'\n",
    "        open(temp_file_name, 'wb').write(response.content)\n",
    "        \n",
    "        try:\n",
    "            image = imageio.imread(temp_file_name)\n",
    "            if image.shape[-1] == 4:\n",
    "                image = skimage.color.rgba2rgb(image)\n",
    "            \n",
    "            if image.dtype != np.uint8:\n",
    "                image = (image * 255).astype(np.uint8)\n",
    "            imageio.imwrite(out_image_path, image)\n",
    "        except ValueError: # isn't a valid image\n",
    "            dead_images += [url]\n",
    "            continue\n",
    "        finally:\n",
    "            os.remove(temp_file_name)"
   ]
  },
  {
   "cell_type": "markdown",
   "metadata": {},
   "source": [
    "### 1.3 Process images from Google Images"
   ]
  },
  {
   "cell_type": "code",
   "execution_count": 11,
   "metadata": {},
   "outputs": [
    {
     "data": {
      "application/vnd.jupyter.widget-view+json": {
       "model_id": "f4345bd0958548de9ba940e88a77dfde",
       "version_major": 2,
       "version_minor": 0
      },
      "text/plain": [
       "HBox(children=(IntProgress(value=0, max=1825), HTML(value='')))"
      ]
     },
     "metadata": {},
     "output_type": "display_data"
    },
    {
     "name": "stdout",
     "output_type": "stream",
     "text": [
      "\n"
     ]
    }
   ],
   "source": [
    "# this is manually uploaded\n",
    "!unzip -oq google_images.zip\n",
    "\n",
    "all_images = enumerate(glob.glob('google_images/*/*'))\n",
    "for i, image_path in tqdm(list(all_images)):\n",
    "    class_name = image_path.split('/')[-2].replace('cherry_tomato', 'tomato')\n",
    "    \n",
    "    image = imageio.imread(image_path)\n",
    "    imageio.imwrite(f'data/train/{class_name}/google_images_{i:04}.jpg', image)\n",
    "    \n",
    "!rm -rf google_images"
   ]
  },
  {
   "cell_type": "markdown",
   "metadata": {},
   "source": [
    "## [2] Pre-processing"
   ]
  },
  {
   "cell_type": "markdown",
   "metadata": {},
   "source": [
    "### 2.1 Specify the data augmentation to use"
   ]
  },
  {
   "cell_type": "code",
   "execution_count": 13,
   "metadata": {},
   "outputs": [],
   "source": [
    "data_augmentation = dict(\n",
    "    horizontal_flip=True,\n",
    "    rotation_range=35,\n",
    "    zoom_range=0.25,\n",
    "    width_shift_range=0.15,\n",
    "    height_shift_range=0.1,\n",
    "    shear_range=25,\n",
    "    brightness_range=[0.75, 1.25],\n",
    ")"
   ]
  },
  {
   "cell_type": "markdown",
   "metadata": {},
   "source": [
    "### 2.2 Build the ImageDataGenerators\n",
    "Note: the test data isn't augmented here, but TTA is later implemented"
   ]
  },
  {
   "cell_type": "code",
   "execution_count": 14,
   "metadata": {},
   "outputs": [
    {
     "name": "stdout",
     "output_type": "stream",
     "text": [
      "Train: Found 5534 images belonging to 3 classes.\n",
      "Test: Found 900 images belonging to 3 classes.\n"
     ]
    }
   ],
   "source": [
    "print('Train:', end=' ')\n",
    "train_data_gen = ImageDataGenerator(rescale=1.0/255, **data_augmentation).flow_from_directory(\n",
    "    batch_size=batch_size,\n",
    "    directory='data/train',\n",
    "    target_size=(IMG_HEIGHT, IMG_WIDTH),\n",
    ")\n",
    "\n",
    "print('Test:', end=' ')\n",
    "test_data_gen = ImageDataGenerator(rescale=1.0/255).flow_from_directory(\n",
    "    batch_size=batch_size,\n",
    "    directory='data/test',\n",
    "    target_size=(IMG_HEIGHT, IMG_WIDTH),\n",
    ")"
   ]
  },
  {
   "cell_type": "markdown",
   "metadata": {},
   "source": [
    "### 2.3 Visualise the data augmentation"
   ]
  },
  {
   "cell_type": "code",
   "execution_count": 15,
   "metadata": {},
   "outputs": [
    {
     "data": {
      "application/vnd.jupyter.widget-view+json": {
       "model_id": "56363ce58a9b419c9a543d79ed95c6dd",
       "version_major": 2,
       "version_minor": 0
      },
      "text/plain": [
       "HBox(children=(IntProgress(value=0, max=5), HTML(value='')))"
      ]
     },
     "metadata": {},
     "output_type": "display_data"
    },
    {
     "name": "stdout",
     "output_type": "stream",
     "text": [
      "\n"
     ]
    },
    {
     "data": {
      "application/vnd.jupyter.widget-view+json": {
       "model_id": "533018e256b3461fa04c165b8c240fa6",
       "version_major": 2,
       "version_minor": 0
      },
      "text/plain": [
       "HBox(children=(IntProgress(value=0, max=5), HTML(value='')))"
      ]
     },
     "metadata": {},
     "output_type": "display_data"
    },
    {
     "name": "stdout",
     "output_type": "stream",
     "text": [
      "\n"
     ]
    },
    {
     "data": {
      "application/vnd.jupyter.widget-view+json": {
       "model_id": "5022ddef6e984ed79d76f8dbd9d07c7f",
       "version_major": 2,
       "version_minor": 0
      },
      "text/plain": [
       "HBox(children=(IntProgress(value=0, max=5), HTML(value='')))"
      ]
     },
     "metadata": {},
     "output_type": "display_data"
    },
    {
     "name": "stdout",
     "output_type": "stream",
     "text": [
      "\n"
     ]
    },
    {
     "data": {
      "application/vnd.jupyter.widget-view+json": {
       "model_id": "1baeaac14be441c68427ba4fe2bfdfcf",
       "version_major": 2,
       "version_minor": 0
      },
      "text/plain": [
       "HBox(children=(IntProgress(value=0, max=5), HTML(value='')))"
      ]
     },
     "metadata": {},
     "output_type": "display_data"
    },
    {
     "name": "stdout",
     "output_type": "stream",
     "text": [
      "\n"
     ]
    },
    {
     "data": {
      "image/png": "[encoded data removed]",
      "text/plain": [
       "<Figure size 432x288 with 20 Axes>"
      ]
     },
     "metadata": {
      "needs_background": "light"
     },
     "output_type": "display_data"
    }
   ],
   "source": [
    "_, axes = plt.subplots(4, 5)\n",
    "\n",
    "for image in range(axes.shape[0]):\n",
    "    for example in tqdm(range(axes.shape[1])):\n",
    "        axes[image,example].imshow(train_data_gen[0][0][image])"
   ]
  },
  {
   "cell_type": "markdown",
   "metadata": {},
   "source": [
    "## [3] Training"
   ]
  },
  {
   "cell_type": "markdown",
   "metadata": {},
   "source": [
    "### 3.1 Create a transfer learning model"
   ]
  },
  {
   "cell_type": "code",
   "execution_count": 16,
   "metadata": {},
   "outputs": [
    {
     "name": "stdout",
     "output_type": "stream",
     "text": [
      "Downloading data from https://github.com/JonathanCMitchell/mobilenet_v2_keras/releases/download/v1.1/mobilenet_v2_weights_tf_dim_ordering_tf_kernels_1.0_224_no_top.h5\n",
      "9412608/9406464 [==============================] - 2s 0us/step\n"
     ]
    }
   ],
   "source": [
    "train_histories = []\n",
    "\n",
    "# Create the base model from the pre-trained model MobileNet V2\n",
    "base_model = tf.keras.applications.MobileNetV2(\n",
    "    input_shape=(IMG_WIDTH, IMG_HEIGHT, 3),\n",
    "    include_top=False,\n",
    "    weights='imagenet'\n",
    ")\n",
    "\n",
    "base_model.trainable = False # freeze the pre-trained bit\n",
    "\n",
    "# wrap the model in a sequential model\n",
    "model = tf.keras.Sequential([\n",
    "    base_model,\n",
    "    tf.keras.layers.AveragePooling2D(),\n",
    "    Flatten(),\n",
    "    Dropout(0.25),\n",
    "    Dense(3, activation='softmax'),\n",
    "])"
   ]
  },
  {
   "cell_type": "markdown",
   "metadata": {},
   "source": [
    "### 3.2 Train the trail of the model"
   ]
  },
  {
   "cell_type": "code",
   "execution_count": 17,
   "metadata": {
    "scrolled": false
   },
   "outputs": [
    {
     "name": "stdout",
     "output_type": "stream",
     "text": [
      "Epoch 1/15\n",
      "231/231 [==============================] - 104s 452ms/step - loss: 0.9385 - accuracy: 0.7461 - val_loss: 1.1174 - val_accuracy: 0.7578\n",
      "Epoch 2/15\n",
      "231/231 [==============================] - 98s 425ms/step - loss: 0.8917 - accuracy: 0.7900 - val_loss: 0.8730 - val_accuracy: 0.8089\n",
      "Epoch 3/15\n",
      "231/231 [==============================] - 97s 421ms/step - loss: 0.9170 - accuracy: 0.8010 - val_loss: 0.8560 - val_accuracy: 0.8489\n",
      "Epoch 4/15\n",
      "231/231 [==============================] - 97s 421ms/step - loss: 1.0109 - accuracy: 0.8016 - val_loss: 1.5869 - val_accuracy: 0.7733\n",
      "Epoch 5/15\n",
      "231/231 [==============================] - 97s 421ms/step - loss: 0.8964 - accuracy: 0.8235 - val_loss: 1.1960 - val_accuracy: 0.8267\n",
      "Epoch 6/15\n",
      "231/231 [==============================] - 94s 409ms/step - loss: 1.0494 - accuracy: 0.8148 - val_loss: 0.8337 - val_accuracy: 0.8711\n",
      "Epoch 7/15\n",
      "231/231 [==============================] - 97s 419ms/step - loss: 1.0192 - accuracy: 0.8216 - val_loss: 1.1852 - val_accuracy: 0.8311\n",
      "Epoch 8/15\n",
      "231/231 [==============================] - 98s 423ms/step - loss: 1.0252 - accuracy: 0.8235 - val_loss: 1.0818 - val_accuracy: 0.8478\n",
      "Epoch 9/15\n",
      "231/231 [==============================] - 96s 418ms/step - loss: 1.0965 - accuracy: 0.8236 - val_loss: 1.4228 - val_accuracy: 0.8022\n",
      "Epoch 10/15\n",
      "231/231 [==============================] - 98s 423ms/step - loss: 1.1459 - accuracy: 0.8220 - val_loss: 1.7560 - val_accuracy: 0.7800\n",
      "Epoch 11/15\n",
      "231/231 [==============================] - 97s 420ms/step - loss: 1.1644 - accuracy: 0.8269 - val_loss: 1.4063 - val_accuracy: 0.8133\n",
      "Epoch 12/15\n",
      "231/231 [==============================] - 97s 420ms/step - loss: 1.2201 - accuracy: 0.8206 - val_loss: 2.3257 - val_accuracy: 0.7489\n",
      "Epoch 13/15\n",
      "231/231 [==============================] - 98s 422ms/step - loss: 1.1460 - accuracy: 0.8312 - val_loss: 1.5914 - val_accuracy: 0.8122\n",
      "Epoch 14/15\n",
      "231/231 [==============================] - 97s 420ms/step - loss: 1.1774 - accuracy: 0.8352 - val_loss: 1.4376 - val_accuracy: 0.8189\n",
      "Epoch 15/15\n",
      "231/231 [==============================] - 98s 425ms/step - loss: 1.1746 - accuracy: 0.8348 - val_loss: 1.1996 - val_accuracy: 0.8444\n"
     ]
    }
   ],
   "source": [
    "model.compile(\n",
    "    optimizer='adam',\n",
    "    loss='categorical_crossentropy',\n",
    "    metrics=['accuracy']\n",
    ")\n",
    "\n",
    "r = model.fit_generator(\n",
    "    train_data_gen,\n",
    "    validation_data=test_data_gen,\n",
    "    epochs=15,\n",
    ")\n",
    "\n",
    "train_histories.append(r.history)"
   ]
  },
  {
   "cell_type": "markdown",
   "metadata": {},
   "source": [
    "### 3.3 Unfreeze some of the pre-trained model and continue training"
   ]
  },
  {
   "cell_type": "code",
   "execution_count": 18,
   "metadata": {},
   "outputs": [
    {
     "name": "stdout",
     "output_type": "stream",
     "text": [
      "Epoch 16/30\n",
      "231/231 [==============================] - 104s 452ms/step - loss: 1.0984 - accuracy: 0.8430 - val_loss: 1.1337 - val_accuracy: 0.8567\n",
      "Epoch 17/30\n",
      "231/231 [==============================] - 102s 442ms/step - loss: 1.0103 - accuracy: 0.8551 - val_loss: 1.0404 - val_accuracy: 0.8644\n",
      "Epoch 18/30\n",
      "231/231 [==============================] - 101s 439ms/step - loss: 0.9034 - accuracy: 0.8605 - val_loss: 1.0078 - val_accuracy: 0.8644\n",
      "Epoch 19/30\n",
      "231/231 [==============================] - 101s 438ms/step - loss: 0.8783 - accuracy: 0.8683 - val_loss: 1.0387 - val_accuracy: 0.8633\n",
      "Epoch 20/30\n",
      "231/231 [==============================] - 102s 440ms/step - loss: 0.8546 - accuracy: 0.8683 - val_loss: 1.0773 - val_accuracy: 0.8556\n",
      "Epoch 21/30\n",
      "231/231 [==============================] - 101s 435ms/step - loss: 0.7796 - accuracy: 0.8737 - val_loss: 1.0115 - val_accuracy: 0.8644\n",
      "Epoch 22/30\n",
      "231/231 [==============================] - 100s 431ms/step - loss: 0.7807 - accuracy: 0.8786 - val_loss: 0.9736 - val_accuracy: 0.8700\n",
      "Epoch 23/30\n",
      "231/231 [==============================] - 102s 442ms/step - loss: 0.6752 - accuracy: 0.8947 - val_loss: 0.9269 - val_accuracy: 0.8733\n",
      "Epoch 24/30\n",
      "231/231 [==============================] - 101s 438ms/step - loss: 0.6742 - accuracy: 0.8890 - val_loss: 0.9125 - val_accuracy: 0.8722\n",
      "Epoch 25/30\n",
      "231/231 [==============================] - 100s 434ms/step - loss: 0.7234 - accuracy: 0.8842 - val_loss: 0.9098 - val_accuracy: 0.8733\n",
      "Epoch 26/30\n",
      "231/231 [==============================] - 101s 438ms/step - loss: 0.5924 - accuracy: 0.8927 - val_loss: 0.9208 - val_accuracy: 0.8700\n",
      "Epoch 27/30\n",
      "231/231 [==============================] - 100s 432ms/step - loss: 0.6014 - accuracy: 0.8966 - val_loss: 0.8935 - val_accuracy: 0.8722\n",
      "Epoch 28/30\n",
      "231/231 [==============================] - 99s 427ms/step - loss: 0.5609 - accuracy: 0.8984 - val_loss: 0.9568 - val_accuracy: 0.8733\n",
      "Epoch 29/30\n",
      "231/231 [==============================] - 101s 436ms/step - loss: 0.5688 - accuracy: 0.9008 - val_loss: 0.9688 - val_accuracy: 0.8644\n",
      "Epoch 30/30\n",
      "231/231 [==============================] - 100s 434ms/step - loss: 0.4970 - accuracy: 0.9095 - val_loss: 0.9299 - val_accuracy: 0.8711\n"
     ]
    }
   ],
   "source": [
    "base_model.trainable = True\n",
    "for layer in base_model.layers[:100]:\n",
    "    layer.trainable = False\n",
    "\n",
    "model.compile(\n",
    "    optimizer=tf.keras.optimizers.RMSprop(lr=1e-5),\n",
    "    loss='categorical_crossentropy',\n",
    "    metrics=['accuracy']\n",
    ")\n",
    "\n",
    "r = model.fit_generator(\n",
    "    train_data_gen,\n",
    "    validation_data=test_data_gen,\n",
    "    initial_epoch=15,\n",
    "    epochs=30,\n",
    ")\n",
    "\n",
    "train_histories.append(r.history)"
   ]
  },
  {
   "cell_type": "markdown",
   "metadata": {},
   "source": [
    "### 3.4 Unfreeze more of the pre-trained model and continue training"
   ]
  },
  {
   "cell_type": "code",
   "execution_count": 68,
   "metadata": {},
   "outputs": [
    {
     "name": "stdout",
     "output_type": "stream",
     "text": [
      "Epoch 31/40\n",
      "231/231 [==============================] - 109s 470ms/step - loss: 0.4871 - accuracy: 0.9051 - val_loss: 0.8327 - val_accuracy: 0.8811\n",
      "Epoch 32/40\n",
      "231/231 [==============================] - 108s 468ms/step - loss: 0.4688 - accuracy: 0.9109 - val_loss: 0.8079 - val_accuracy: 0.8811\n",
      "Epoch 33/40\n",
      "231/231 [==============================] - 108s 466ms/step - loss: 0.4475 - accuracy: 0.9106 - val_loss: 0.7966 - val_accuracy: 0.8778\n",
      "Epoch 34/40\n",
      "231/231 [==============================] - 106s 459ms/step - loss: 0.4476 - accuracy: 0.9080 - val_loss: 0.7841 - val_accuracy: 0.8811\n",
      "Epoch 35/40\n",
      "231/231 [==============================] - 107s 464ms/step - loss: 0.4731 - accuracy: 0.9087 - val_loss: 0.7790 - val_accuracy: 0.8789\n",
      "Epoch 36/40\n",
      "231/231 [==============================] - 107s 461ms/step - loss: 0.4617 - accuracy: 0.9143 - val_loss: 0.7910 - val_accuracy: 0.8767\n",
      "Epoch 37/40\n",
      "231/231 [==============================] - 107s 465ms/step - loss: 0.4123 - accuracy: 0.9145 - val_loss: 0.7829 - val_accuracy: 0.8833\n",
      "Epoch 38/40\n",
      "231/231 [==============================] - 107s 461ms/step - loss: 0.4553 - accuracy: 0.9071 - val_loss: 0.7793 - val_accuracy: 0.8822\n",
      "Epoch 39/40\n",
      "231/231 [==============================] - 107s 464ms/step - loss: 0.4295 - accuracy: 0.9147 - val_loss: 0.7735 - val_accuracy: 0.8800\n",
      "Epoch 40/40\n",
      "231/231 [==============================] - 106s 461ms/step - loss: 0.3822 - accuracy: 0.9185 - val_loss: 0.7472 - val_accuracy: 0.8822\n"
     ]
    }
   ],
   "source": [
    "base_model.trainable = True\n",
    "for layer in base_model.layers[:50]:\n",
    "    layer.trainable = False\n",
    "\n",
    "model.compile(\n",
    "    optimizer=tf.keras.optimizers.RMSprop(lr=3e-6),\n",
    "    loss='categorical_crossentropy',\n",
    "    metrics=['accuracy']\n",
    ")\n",
    "\n",
    "r = model.fit_generator(\n",
    "    train_data_gen,\n",
    "    validation_data=test_data_gen,\n",
    "    initial_epoch=30,\n",
    "    epochs=40,\n",
    ")\n",
    "\n",
    "train_histories.append(r.history)"
   ]
  },
  {
   "cell_type": "markdown",
   "metadata": {},
   "source": [
    "### 3.5 Save the model"
   ]
  },
  {
   "cell_type": "code",
   "execution_count": 69,
   "metadata": {},
   "outputs": [],
   "source": [
    "make_dir('models')\n",
    "\n",
    "model_id = str(uuid.uuid4()).split('-')[0]\n",
    "model.save(f'models/{model_id}.h5')"
   ]
  },
  {
   "cell_type": "markdown",
   "metadata": {},
   "source": [
    "### 3.6 Visualise the training history"
   ]
  },
  {
   "cell_type": "code",
   "execution_count": 72,
   "metadata": {},
   "outputs": [
    {
     "data": {
      "image/png": "[encoded data removed]",
      "text/plain": [
       "<Figure size 432x288 with 2 Axes>"
      ]
     },
     "metadata": {
      "needs_background": "light"
     },
     "output_type": "display_data"
    }
   ],
   "source": [
    "ANY_SERIES = list(train_histories[0].keys())[0] # arbitrary key\n",
    "\n",
    "fig, (ax_accuracy, ax_loss) = plt.subplots(2, 1)\n",
    "\n",
    "n_epochs = sum(len(history[ANY_SERIES]) for history in train_histories)\n",
    "epochs = np.arange(1, n_epochs + 1)\n",
    "\n",
    "series = defaultdict(list)\n",
    "phase_boundaries = [1]\n",
    "for history in train_histories:\n",
    "    for series_name, values in history.items():\n",
    "        series[series_name] += values\n",
    "    phase_boundaries += [len(series[ANY_SERIES])]\n",
    "        \n",
    "for phase_boundary in phase_boundaries:\n",
    "    for ax in [ax_accuracy, ax_loss]:\n",
    "        ax.axvline(\n",
    "            phase_boundary,\n",
    "            color='black',\n",
    "            linestyle='--'\n",
    "        )\n",
    "        \n",
    "ax_accuracy.set_title('Accuracy')\n",
    "ax_accuracy.plot(epochs, series['accuracy'], label='accuracy')\n",
    "ax_accuracy.plot(epochs, series['val_accuracy'], label='val accuracy')\n",
    "ax_accuracy.legend()\n",
    "\n",
    "ax_loss.set_title('Loss')\n",
    "ax_loss.plot(epochs, series['loss'], label='loss')\n",
    "ax_loss.plot(epochs, series['val_loss'], label='val loss')\n",
    "ax_loss.legend()\n",
    "\n",
    "plt.savefig(f'models/{model_id}.png', dpi=300)"
   ]
  },
  {
   "cell_type": "code",
   "execution_count": null,
   "metadata": {},
   "outputs": [],
   "source": []
  }
 ],
 "metadata": {
  "kernelspec": {
   "display_name": "conda_tensorflow_p36",
   "language": "python",
   "name": "conda_tensorflow_p36"
  },
  "language_info": {
   "codemirror_mode": {
    "name": "ipython",
    "version": 3
   },
   "file_extension": ".py",
   "mimetype": "text/x-python",
   "name": "python",
   "nbconvert_exporter": "python",
   "pygments_lexer": "ipython3",
   "version": "3.6.5"
  }
 },
 "nbformat": 4,
 "nbformat_minor": 2
}
