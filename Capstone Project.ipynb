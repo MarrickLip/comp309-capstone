{
 "cells": [
  {
   "cell_type": "markdown",
   "metadata": {},
   "source": [
    "# COMP309 Capstone Project\n",
    "#### Marrick Lip, 2019"
   ]
  },
  {
   "cell_type": "markdown",
   "metadata": {},
   "source": [
    "## [0] Setup"
   ]
  },
  {
   "cell_type": "markdown",
   "metadata": {},
   "source": [
    "### 0.1 Get the dependencies"
   ]
  },
  {
   "cell_type": "code",
   "execution_count": 1,
   "metadata": {
    "scrolled": true
   },
   "outputs": [
    {
     "name": "stdout",
     "output_type": "stream",
     "text": [
      "Solving environment: \\ \n",
      "Warning: 2 possible package resolutions (only showing differing packages):\n",
      "  - defaults::libgfortran-3.0.0-1\n",
      "  - conda-forge::libgfortran-3.0.0done\n",
      "\n",
      "\n",
      "==> WARNING: A newer version of conda exists. <==\n",
      "  current version: 4.5.12\n",
      "  latest version: 4.7.12\n",
      "\n",
      "Please update conda by running\n",
      "\n",
      "    $ conda update -n base -c defaults conda\n",
      "\n",
      "\n",
      "\n",
      "## Package Plan ##\n",
      "\n",
      "  environment location: /home/ec2-user/anaconda3/envs/tensorflow_p36\n",
      "\n",
      "\n",
      "The following packages will be downloaded:\n",
      "\n",
      "    package                    |            build\n",
      "    ---------------------------|-----------------\n",
      "    networkx-2.4               |             py_0         1.2 MB\n",
      "    xlsxwriter-1.2.2           |             py_0         106 KB\n",
      "    mpmath-1.1.0               |           py36_0         970 KB\n",
      "    pytest-arraydiff-0.3       |   py36h39e3cac_0          15 KB\n",
      "    bkcharts-0.2               |           py36_0         127 KB\n",
      "    qtpy-1.9.0                 |             py_0          39 KB\n",
      "    olefile-0.46               |           py36_0          48 KB\n",
      "    json5-0.8.5                |             py_0          25 KB\n",
      "    soupsieve-1.9.3            |           py36_0          60 KB\n",
      "    itsdangerous-1.1.0         |             py_0          17 KB\n",
      "    jupyter_core-4.6.1         |           py36_0          74 KB\n",
      "    beautifulsoup4-4.8.1       |           py36_0         153 KB\n",
      "    jupyterlab_launcher-0.13.1 |           py36_0          36 KB\n",
      "    wrapt-1.11.2               |   py36h7b6447c_0          48 KB\n",
      "    colorama-0.4.1             |             py_0          17 KB\n",
      "    wurlitzer-1.0.3            |           py36_0          14 KB\n",
      "    glib-2.63.1                |       h5a9c865_0         3.4 MB\n",
      "    libxslt-1.1.33             |       h7d1a2b0_0         577 KB\n",
      "    alabaster-0.7.12           |             py_0          16 KB\n",
      "    packaging-19.2             |             py_0          30 KB\n",
      "    spyder-kernels-0.5.2       |           py36_0          69 KB\n",
      "    libprotobuf-3.9.2          |       hd408876_0         4.7 MB\n",
      "    mpfr-4.0.1                 |       hdf1c602_3         575 KB\n",
      "    pywavelets-1.1.1           |   py36h7b6447c_0         4.4 MB\n",
      "    astropy-3.2.3              |   py36h7b6447c_0         7.2 MB\n",
      "    heapdict-1.0.1             |             py_0           9 KB\n",
      "    pycrypto-2.6.1             |   py36h14c3975_9         465 KB\n",
      "    path.py-12.0.1             |             py_0          23 KB\n",
      "    imagesize-1.1.0            |             py_0           8 KB\n",
      "    sphinxcontrib-qthelp-1.0.2 |             py_0          26 KB\n",
      "    pytest-openfiles-0.4.0     |             py_0          10 KB\n",
      "    matplotlib-3.1.1           |   py36h5429711_0         6.7 MB\n",
      "    pytest-doctestplus-0.4.0   |             py_0          18 KB\n",
      "    nose-1.3.7                 |           py36_2         214 KB\n",
      "    zict-1.0.0                 |             py_0          12 KB\n",
      "    sphinxcontrib-devhelp-1.0.1|             py_0          23 KB\n",
      "    clyent-1.2.2               |           py36_1          18 KB\n",
      "    pycodestyle-2.5.0          |           py36_0          60 KB\n",
      "    multipledispatch-0.6.0     |           py36_0          21 KB\n",
      "    unicodecsv-0.14.1          |           py36_0          25 KB\n",
      "    filelock-3.0.12            |             py_0          12 KB\n",
      "    sortedcontainers-2.1.0     |           py36_0          45 KB\n",
      "    locket-0.2.0               |           py36_1           8 KB\n",
      "    boto-2.49.0                |           py36_0         1.5 MB\n",
      "    click-7.0                  |             py_0          64 KB\n",
      "    openpyxl-3.0.0             |             py_0         157 KB\n",
      "    freeglut-3.0.0             |       hf484d3e_5         251 KB\n",
      "    pytest-astropy-0.5.0       |           py36_0           6 KB\n",
      "    pyparsing-2.4.2            |             py_0          61 KB\n",
      "    libvpx-1.7.0               |       h439df22_0         2.4 MB\n",
      "    sphinxcontrib-htmlhelp-1.0.2|             py_0          28 KB\n",
      "    toolz-0.10.0               |             py_0          50 KB\n",
      "    secretstorage-3.1.1        |           py36_0          24 KB\n",
      "    glob2-0.7                  |             py_0          14 KB\n",
      "    snowballstemmer-2.0.0      |             py_0          58 KB\n",
      "    bazel-0.26.1               |       hf484d3e_0        38.0 MB\n",
      "    lxml-4.4.1                 |   py36hefd8a0e_0         1.6 MB\n",
      "    mkl_random-1.1.0           |   py36hd6b4f25_0         369 KB\n",
      "    requests-2.22.0            |           py36_0          89 KB\n",
      "    rope-0.14.0                |             py_0         113 KB\n",
      "    werkzeug-0.16.0            |             py_0         255 KB\n",
      "    ipython-7.9.0              |   py36h39e3cac_0         1.1 MB\n",
      "    scikit-learn-0.21.3        |   py36hd81dba3_0         6.8 MB\n",
      "    babel-2.7.0                |             py_0         5.8 MB\n",
      "    nltk-3.4.5                 |           py36_0         2.1 MB\n",
      "    html5lib-1.0.1             |             py_0          89 KB\n",
      "    numpy-1.17.3               |   py36hd14ec0e_0           4 KB\n",
      "    xlrd-1.2.0                 |           py36_0         188 KB\n",
      "    notebook-6.0.1             |           py36_0         6.0 MB\n",
      "    jeepney-0.4.1              |             py_0          21 KB\n",
      "    backports-1.0              |             py_2         139 KB\n",
      "    xlwt-1.3.0                 |           py36_0         163 KB\n",
      "    fastcache-1.1.0            |   py36h7b6447c_0          31 KB\n",
      "    sphinxcontrib-serializinghtml-1.1.3|             py_0          24 KB\n",
      "    blosc-1.16.3               |       hd408876_0          82 KB\n",
      "    greenlet-0.4.15            |   py36h7b6447c_0          20 KB\n",
      "    sortedcollections-1.1.2    |           py36_0          18 KB\n",
      "    typed-ast-1.4.0            |   py36h7b6447c_0         208 KB\n",
      "    distributed-2.6.0          |             py_0         393 KB\n",
      "    imageio-2.6.1              |           py36_0         3.4 MB\n",
      "    cffi-1.13.1                |   py36h2e261b9_0         224 KB\n",
      "    jupyterlab_server-1.0.6    |             py_0          26 KB\n",
      "    numba-0.46.0               |   py36h962f231_0         3.2 MB\n",
      "    urllib3-1.24.2             |           py36_0         153 KB\n",
      "    intel-openmp-2019.4        |              243         876 KB\n",
      "    sphinxcontrib-websupport-1.1.2|             py_0          35 KB\n",
      "    backports.os-0.1.1         |           py36_0          15 KB\n",
      "    odo-0.5.1                  |           py36_0         193 KB\n",
      "    sphinxcontrib-applehelp-1.0.1|             py_0          29 KB\n",
      "    anaconda-project-0.8.4     |             py_0         215 KB\n",
      "    sphinx-2.2.1               |             py_0         1.4 MB\n",
      "    patsy-0.5.1                |           py36_0         380 KB\n",
      "    jupyterlab-1.1.4           |     pyhf63ae98_0        11.7 MB\n",
      "    jdcal-1.4.1                |             py_0          11 KB\n",
      "    contextlib2-0.6.0          |             py_0          16 KB\n",
      "    et_xmlfile-1.0.1           |           py36_0          20 KB\n",
      "    unixodbc-2.3.7             |       h14c3975_0         319 KB\n",
      "    patchelf-0.9               |       he6710b0_3          71 KB\n",
      "    dask-core-2.6.0            |             py_0         578 KB\n",
      "    bottleneck-1.2.1           |   py36h035aef0_1         127 KB\n",
      "    certifi-2019.9.11          |           py36_0         154 KB\n",
      "    blaze-0.11.3               |           py36_0         603 KB\n",
      "    statsmodels-0.10.1         |   py36hdd07704_0         9.6 MB\n",
      "    dask-2.6.0                 |             py_0          12 KB\n",
      "    pluggy-0.13.0              |           py36_0          31 KB\n",
      "    flask-1.1.1                |             py_0          73 KB\n",
      "    anaconda-client-1.7.2      |           py36_0         141 KB\n",
      "    ipykernel-5.1.3            |   py36h39e3cac_0         167 KB\n",
      "    lazy-object-proxy-1.4.2    |   py36h7b6447c_0          30 KB\n",
      "    nbconvert-5.6.1            |           py36_0         493 KB\n",
      "    nb_conda_kernels-2.2.2     |           py36_0          37 KB\n",
      "    cytoolz-0.10.0             |   py36h7b6447c_0         439 KB\n",
      "    astroid-2.3.2              |           py36_0         283 KB\n",
      "    libopus-1.3                |       h7b6447c_0         631 KB\n",
      "    mccabe-0.6.1               |           py36_1          14 KB\n",
      "    sphinxcontrib-jsmath-1.0.1 |             py_0           8 KB\n",
      "    datashape-0.5.4            |           py36_1         100 KB\n",
      "    pyyaml-5.1.2               |   py36h7b6447c_0         189 KB\n",
      "    mkl_fft-1.0.15             |   py36ha843d7b_0         173 KB\n",
      "    libiconv-1.15              |       h63c8f33_5         2.0 MB\n",
      "    chardet-3.0.4              |        py36_1003         197 KB\n",
      "    cycler-0.10.0              |           py36_0          13 KB\n",
      "    ffmpeg-4.0                 |       hcdf2ecd_0        73.7 MB\n",
      "    cloudpickle-1.2.2          |             py_0          29 KB\n",
      "    libtool-2.4.6              |       h7b6447c_5         513 KB\n",
      "    py-1.8.0                   |             py_0          66 KB\n",
      "    backports.shutil_get_terminal_size-1.0.0|           py36_2           8 KB\n",
      "    numpydoc-0.9.1             |             py_0          31 KB\n",
      "    atomicwrites-1.3.0         |           py36_1          13 KB\n",
      "    spyder-3.3.6               |           py36_0         2.5 MB\n",
      "    seaborn-0.9.0              |           py36_0         379 KB\n",
      "    numexpr-2.7.0              |   py36h9e4a6bb_0         196 KB\n",
      "    isort-4.3.21               |           py36_0          68 KB\n",
      "    pyflakes-2.1.1             |           py36_0         105 KB\n",
      "    flask-cors-3.0.8           |             py_0          17 KB\n",
      "    cython-0.29.13             |   py36he6710b0_0         2.2 MB\n",
      "    pyodbc-4.0.27              |   py36he6710b0_0          70 KB\n",
      "    sqlalchemy-1.3.10          |   py36h7b6447c_0         1.8 MB\n",
      "    pytz-2019.3                |             py_0         231 KB\n",
      "    mkl-service-2.3.0          |   py36he904b0f_0         208 KB\n",
      "    pathlib2-2.3.5             |           py36_0          37 KB\n",
      "    msgpack-python-0.6.1       |   py36hfd86e86_1          92 KB\n",
      "    libglu-9.0.0               |       hf484d3e_1         377 KB\n",
      "    libgfortran-3.0.0          |                1         281 KB\n",
      "    pillow-6.2.1               |   py36h34e0f95_0         640 KB\n",
      "    setuptools-41.6.0          |           py36_0         650 KB\n",
      "    nb_conda-2.2.1             |           py36_0          33 KB\n",
      "    lz4-c-1.8.1.2              |       h14c3975_0         158 KB\n",
      "    partd-1.0.0                |             py_0          19 KB\n",
      "    pylint-2.4.3               |           py36_0         432 KB\n",
      "    qtawesome-0.6.0            |             py_0         671 KB\n",
      "    pytables-3.4.4             |   py36ha205bf6_0         1.5 MB\n",
      "    pkginfo-1.5.0.1            |           py36_0          43 KB\n",
      "    sphinxcontrib-1.0          |           py36_1           3 KB\n",
      "    gmpy2-2.0.8                |   py36h10f8cd9_2         165 KB\n",
      "    pycurl-7.43.0.3            |   py36h1ba5d50_0          70 KB\n",
      "    tblib-1.4.0                |             py_0          14 KB\n",
      "    scikit-image-0.15.0        |   py36he6710b0_0        28.4 MB\n",
      "    gevent-1.4.0               |   py36h7b6447c_0         2.5 MB\n",
      "    llvmlite-0.30.0            |   py36hd408876_0        17.7 MB\n",
      "    numpy-base-1.17.3          |   py36hde5b4d6_0         5.3 MB\n",
      "    singledispatch-3.4.0.3     |           py36_0          15 KB\n",
      "    bokeh-1.4.0                |           py36_0        13.6 MB\n",
      "    pytest-remotedata-0.3.2    |           py36_0          15 KB\n",
      "    pandas-0.25.2              |   py36he6710b0_0        11.4 MB\n",
      "    sympy-1.4                  |           py36_0         9.7 MB\n",
      "    protobuf-3.9.2             |   py36he6710b0_0         701 KB\n",
      "    keyring-18.0.0             |           py36_0          55 KB\n",
      "    kiwisolver-1.1.0           |   py36he6710b0_0          90 KB\n",
      "    bitarray-1.0.1             |   py36h7b6447c_0          60 KB\n",
      "    scipy-1.3.1                |   py36h7c811a0_0        18.1 MB\n",
      "    decorator-4.4.1            |             py_0          13 KB\n",
      "    mpc-1.1.0                  |       h10f8cd9_1          94 KB\n",
      "    pytest-5.0.1               |           py36_0         353 KB\n",
      "    ------------------------------------------------------------\n",
      "                                           Total:       333.3 MB\n"
     ]
    },
    {
     "name": "stdout",
     "output_type": "stream",
     "text": [
      "\r\n",
      "The following NEW packages will be INSTALLED:\r\n",
      "\r\n",
      "    atomicwrites:                       1.3.0-py36_1                       \r\n",
      "    backports.os:                       0.1.1-py36_0                       \r\n",
      "    fsspec:                             0.5.2-py_0                         \r\n",
      "    importlib_metadata:                 0.23-py36_0                        \r\n",
      "    jeepney:                            0.4.1-py_0                         \r\n",
      "    json5:                              0.8.5-py_0                         \r\n",
      "    jupyterlab_server:                  1.0.6-py_0                         \r\n",
      "    keyring:                            18.0.0-py36_0                      \r\n",
      "    libopus:                            1.3-h7b6447c_0                     \r\n",
      "    libvpx:                             1.7.0-h439df22_0                   \r\n",
      "    lz4-c:                              1.8.1.2-h14c3975_0                 \r\n",
      "    prometheus_client:                  0.7.1-py_0                         \r\n",
      "    pyrsistent:                         0.15.4-py36h7b6447c_0              \r\n",
      "    secretstorage:                      3.1.1-py36_0                       \r\n",
      "    soupsieve:                          1.9.3-py36_0                       \r\n",
      "    sphinxcontrib-applehelp:            1.0.1-py_0                         \r\n",
      "    sphinxcontrib-devhelp:              1.0.1-py_0                         \r\n",
      "    sphinxcontrib-htmlhelp:             1.0.2-py_0                         \r\n",
      "    sphinxcontrib-jsmath:               1.0.1-py_0                         \r\n",
      "    sphinxcontrib-qthelp:               1.0.2-py_0                         \r\n",
      "    sphinxcontrib-serializinghtml:      1.1.3-py_0                         \r\n",
      "    spyder-kernels:                     0.5.2-py36_0                       \r\n",
      "    typed-ast:                          1.4.0-py36h7b6447c_0               \r\n",
      "    wurlitzer:                          1.0.3-py36_0                       \r\n",
      "    zipp:                               0.6.0-py_0                         \r\n",
      "    zstd:                               1.3.7-h0b5b093_0                   \r\n",
      "\r\n",
      "The following packages will be UPDATED:\r\n",
      "\r\n",
      "    alabaster:                          0.7.10-py36h306e16b_0               --> 0.7.12-py_0            \r\n",
      "    anaconda-client:                    1.6.14-py36_0                       --> 1.7.2-py36_0           \r\n",
      "    anaconda-project:                   0.8.2-py36h44fb852_0                --> 0.8.4-py_0             \r\n",
      "    asn1crypto:                         0.24.0-py36_0                       --> 1.2.0-py36_0           \r\n",
      "    astroid:                            1.6.3-py36_0                        --> 2.3.2-py36_0           \r\n",
      "    astropy:                            3.0.2-py36h3010b51_1                --> 3.2.3-py36h7b6447c_0   \r\n",
      "    attrs:                              18.1.0-py36_0                       --> 19.3.0-py_0            \r\n",
      "    babel:                              2.5.3-py36_0                        --> 2.7.0-py_0             \r\n",
      "    backports:                          1.0-py36hfa02d7e_1                  --> 1.0-py_2               \r\n",
      "    backports.shutil_get_terminal_size: 1.0.0-py36hfea85ff_2                --> 1.0.0-py36_2           \r\n",
      "    bazel:                              0.15.0-0                conda-forge --> 0.26.1-hf484d3e_0      \r\n",
      "    beautifulsoup4:                     4.6.0-py36h49b8c8c_1                --> 4.8.1-py36_0           \r\n",
      "    bitarray:                           0.8.1-py36h14c3975_1                --> 1.0.1-py36h7b6447c_0   \r\n",
      "    bkcharts:                           0.2-py36h735825a_0                  --> 0.2-py36_0             \r\n",
      "    blaze:                              0.11.3-py36h4e06776_0               --> 0.11.3-py36_0          \r\n",
      "    bleach:                             2.1.3-py36_0                        --> 3.1.0-py36_0           \r\n",
      "    blosc:                              1.14.3-hdbcaa40_0                   --> 1.16.3-hd408876_0      \r\n",
      "    bokeh:                              1.0.4-py36_0                        --> 1.4.0-py36_0           \r\n",
      "    boto:                               2.48.0-py36h6e4cd66_1               --> 2.49.0-py36_0          \r\n",
      "    boto3:                              1.9.162-py_0                        --> 1.9.234-py_0           \r\n",
      "    botocore:                           1.12.163-py_0                       --> 1.12.234-py_0          \r\n",
      "    bottleneck:                         1.2.1-py36haac1ea0_0                --> 1.2.1-py36h035aef0_1   \r\n",
      "    bzip2:                              1.0.6-h14c3975_5                    --> 1.0.8-h7b6447c_0       \r\n",
      "    ca-certificates:                    2019.5.15-0                         --> 2019.10.16-0           \r\n",
      "    certifi:                            2019.6.16-py36_0                    --> 2019.9.11-py36_0       \r\n",
      "    cffi:                               1.11.5-py36h9745a5d_0               --> 1.13.1-py36h2e261b9_0  \r\n",
      "    chardet:                            3.0.4-py36h0f667ec_1                --> 3.0.4-py36_1003        \r\n",
      "    click:                              6.7-py36h5253387_0                  --> 7.0-py_0               \r\n",
      "    cloudpickle:                        0.5.3-py36_0                        --> 1.2.2-py_0             \r\n",
      "    clyent:                             1.2.2-py36h7e57e65_1                --> 1.2.2-py36_1           \r\n",
      "    colorama:                           0.3.9-py36h489cec4_0                --> 0.4.1-py_0             \r\n",
      "    contextlib2:                        0.5.5-py36h6c84a62_0                --> 0.6.0-py_0             \r\n",
      "    cryptography:                       2.2.2-py36h14c3975_0                --> 2.8-py36h1ba5d50_0     \r\n",
      "    curl:                               7.60.0-h84994c4_0                   --> 7.65.3-hbc83047_0      \r\n",
      "    cycler:                             0.10.0-py36h93f1223_0               --> 0.10.0-py36_0          \r\n",
      "    cython:                             0.28.2-py36h14c3975_0               --> 0.29.13-py36he6710b0_0 \r\n",
      "    cytoolz:                            0.9.0.1-py36h14c3975_0              --> 0.10.0-py36h7b6447c_0  \r\n",
      "    dask:                               1.2.2-py_0                          --> 2.6.0-py_0             \r\n",
      "    dask-core:                          1.2.2-py_0                          --> 2.6.0-py_0             \r\n",
      "    datashape:                          0.5.4-py36h3ad6b5c_0                --> 0.5.4-py36_1           \r\n",
      "    dbus:                               1.13.2-h714fa37_1                   --> 1.13.12-h746ee38_0     \r\n",
      "    decorator:                          4.3.0-py36_0                        --> 4.4.1-py_0             \r\n",
      "    distributed:                        1.28.1-py36_0                       --> 2.6.0-py_0             \r\n",
      "    docutils:                           0.14-py36hb0f60f5_0                 --> 0.15.2-py36_0          \r\n",
      "    entrypoints:                        0.2.3-py36h1aec115_2                --> 0.3-py36_0             \r\n",
      "    et_xmlfile:                         1.0.1-py36hd6bccc3_0                --> 1.0.1-py36_0           \r\n",
      "    expat:                              2.2.5-he0dffb1_0                    --> 2.2.6-he6710b0_0       \r\n",
      "    fastcache:                          1.0.2-py36h14c3975_2                --> 1.1.0-py36h7b6447c_0   \r\n",
      "    filelock:                           3.0.4-py36_0                        --> 3.0.12-py_0            \r\n",
      "    flask:                              1.0.2-py36_1                        --> 1.1.1-py_0             \r\n",
      "    flask-cors:                         3.0.4-py36_0                        --> 3.0.8-py_0             \r\n",
      "    gevent:                             1.3.0-py36h14c3975_0                --> 1.4.0-py36h7b6447c_0   \r\n",
      "    glib:                               2.56.1-h000015b_0                   --> 2.63.1-h5a9c865_0      \r\n",
      "    glob2:                              0.6-py36he249c77_0                  --> 0.7-py_0               \r\n",
      "    gmpy2:                              2.0.8-py36hc8893dd_2                --> 2.0.8-py36h10f8cd9_2   \r\n",
      "    graphite2:                          1.3.11-h16798f4_2                   --> 1.3.13-h23475e2_0      \r\n",
      "    greenlet:                           0.4.13-py36h14c3975_0               --> 0.4.15-py36h7b6447c_0  \r\n",
      "    heapdict:                           1.0.0-py36_2                        --> 1.0.1-py_0             \r\n",
      "    html5lib:                           1.0.1-py36h2f9c1c0_0                --> 1.0.1-py_0             \r\n",
      "    idna:                               2.6-py36h82fb2a8_1                  --> 2.8-py36_0             \r\n",
      "    imageio:                            2.3.0-py36_0                        --> 2.6.1-py36_0           \r\n",
      "    imagesize:                          1.0.0-py36_0                        --> 1.1.0-py_0             \r\n",
      "    intel-openmp:                       2018.0.0-8                          --> 2019.4-243             \r\n",
      "    ipykernel:                          4.8.2-py36_0                        --> 5.1.3-py36h39e3cac_0   \r\n",
      "    ipython:                            6.4.0-py36_0                        --> 7.9.0-py36h39e3cac_0   \r\n",
      "    ipython_genutils:                   0.2.0-py36hb52b0d5_0                --> 0.2.0-py36_0           \r\n",
      "    ipywidgets:                         7.2.1-py36_0                        --> 7.5.1-py_0             \r\n",
      "    isort:                              4.3.4-py36_0                        --> 4.3.21-py36_0          \r\n",
      "    itsdangerous:                       0.24-py36h93cc618_1                 --> 1.1.0-py_0             \r\n",
      "    jdcal:                              1.4-py36_0                          --> 1.4.1-py_0             \r\n",
      "    jedi:                               0.12.0-py36_1                       --> 0.15.1-py36_0          \r\n",
      "    jinja2:                             2.10-py36ha16c418_0                 --> 2.10.3-py_0            \r\n",
      "    jsonschema:                         2.6.0-py36h006f8b5_0                --> 3.1.1-py36_0           \r\n",
      "    jupyter:                            1.0.0-py36_4                        --> 1.0.0-py36_7           \r\n",
      "    jupyter_client:                     5.2.3-py36_0                        --> 5.3.4-py36_0           \r\n",
      "    jupyter_console:                    5.2.0-py36he59e554_1                --> 6.0.0-py36_0           \r\n",
      "    jupyter_core:                       4.4.0-py36h7c827e3_0                --> 4.6.1-py36_0           \r\n",
      "    jupyterlab:                         0.32.1-py36_0                       --> 1.1.4-pyhf63ae98_0     \r\n",
      "    jupyterlab_launcher:                0.10.5-py36_0                       --> 0.13.1-py36_0          \r\n",
      "    kiwisolver:                         1.0.1-py36h764f252_0                --> 1.1.0-py36he6710b0_0   \r\n",
      "    krb5:                               1.14.2-hcdc1b81_6                   --> 1.16.1-h173b8e3_7      \r\n",
      "    lazy-object-proxy:                  1.3.1-py36h10fcdad_0                --> 1.4.2-py36h7b6447c_0   \r\n",
      "    libcurl:                            7.60.0-h1ad7b7a_0                   --> 7.65.3-h20c2e04_0      \r\n",
      "    libedit:                            3.1.20170329-h6b74fdf_2             --> 3.1.20181209-hc058e9b_0\r\n",
      "    libgfortran:                        3.0.0-1                 conda-forge --> 3.0.0-1                \r\n",
      "    libgfortran-ng:                     7.2.0-hdf63c60_3                    --> 7.3.0-hdf63c60_0       \r\n",
      "    libpng:                             1.6.34-hb9fc6fc_0                   --> 1.6.37-hbc83047_0      \r\n",
      "    libprotobuf:                        3.7.1-h8b12597_0        conda-forge --> 3.9.2-hd408876_0       \r\n",
      "    libssh2:                            1.8.0-h9cfc8f7_4                    --> 1.8.2-h1ba5d50_0       \r\n",
      "    libtiff:                            4.0.9-he85c1e1_1                    --> 4.0.10-h2733197_2      \r\n",
      "    libtool:                            2.4.6-h544aabb_3                    --> 2.4.6-h7b6447c_5       \r\n",
      "    libxml2:                            2.9.8-h26e45fe_1                    --> 2.9.9-hea5a465_1       \r\n",
      "    libxslt:                            1.1.32-h1312cb7_0                   --> 1.1.33-h7d1a2b0_0      \r\n",
      "    llvmlite:                           0.23.1-py36hdbcaa40_0               --> 0.30.0-py36hd408876_0  \r\n",
      "    locket:                             0.2.0-py36h787c0ad_1                --> 0.2.0-py36_1           \r\n",
      "    lxml:                               4.2.1-py36h23eabaa_0                --> 4.4.1-py36hefd8a0e_0   \r\n",
      "    markupsafe:                         1.0-py36hd9260cd_1                  --> 1.1.1-py36h7b6447c_0   \r\n",
      "    matplotlib:                         2.2.3-py36hb69df0a_0                --> 3.1.1-py36h5429711_0   \r\n",
      "    mccabe:                             0.6.1-py36h5ad9710_1                --> 0.6.1-py36_1           \r\n",
      "    mistune:                            0.8.3-py36h14c3975_1                --> 0.8.4-py36h7b6447c_0   \r\n",
      "    mkl-service:                        2.0.2-py36h7b6447c_0                --> 2.3.0-py36he904b0f_0   \r\n",
      "    mkl_fft:                            1.0.12-py36ha843d7b_0               --> 1.0.15-py36ha843d7b_0  \r\n",
      "    mkl_random:                         1.0.2-py36hd81dba3_0                --> 1.1.0-py36hd6b4f25_0   \r\n",
      "    more-itertools:                     4.1.0-py36_0                        --> 7.2.0-py36_0           \r\n",
      "    mpc:                                1.0.3-hec55b23_5                    --> 1.1.0-h10f8cd9_1       \r\n",
      "    mpfr:                               3.1.5-h11a74b3_2                    --> 4.0.1-hdf1c602_3       \r\n",
      "    mpmath:                             1.0.0-py36hfeacd6b_2                --> 1.1.0-py36_0           \r\n",
      "    msgpack-python:                     0.5.6-py36h6bb024c_0                --> 0.6.1-py36hfd86e86_1   \r\n",
      "    multipledispatch:                   0.5.0-py36_0                        --> 0.6.0-py36_0           \r\n",
      "    nb_conda_kernels:                   2.2.2-py36_0            conda-forge --> 2.2.2-py36_0           \r\n",
      "    nbconvert:                          5.4.1-py36_3                        --> 5.6.1-py36_0           \r\n",
      "    nbformat:                           4.4.0-py36h31c9010_0                --> 4.4.0-py36_0           \r\n",
      "    ncurses:                            6.1-hf484d3e_0                      --> 6.1-he6710b0_1         \r\n",
      "    networkx:                           2.1-py36_0                          --> 2.4-py_0               \r\n",
      "    nltk:                               3.3.0-py36_0                        --> 3.4.5-py36_0           \r\n",
      "    nose:                               1.3.7-py36hcdf7029_2                --> 1.3.7-py36_2           \r\n",
      "    notebook:                           5.5.0-py36_0                        --> 6.0.1-py36_0           \r\n",
      "    numba:                              0.38.0-py36h637b7d7_0               --> 0.46.0-py36h962f231_0  \r\n",
      "    numexpr:                            2.6.9-py36h9e4a6bb_0                --> 2.7.0-py36h9e4a6bb_0   \r\n",
      "    numpy:                              1.16.4-py36h7e9f1db_0               --> 1.17.3-py36hd14ec0e_0  \r\n",
      "    numpy-base:                         1.16.4-py36hde5b4d6_0               --> 1.17.3-py36hde5b4d6_0  \r\n",
      "    numpydoc:                           0.8.0-py36_0                        --> 0.9.1-py_0             \r\n",
      "    odo:                                0.5.1-py36h90ed295_0                --> 0.5.1-py36_0           \r\n",
      "    olefile:                            0.45.1-py36_0                       --> 0.46-py36_0            \r\n",
      "    openpyxl:                           2.5.3-py36_0                        --> 3.0.0-py_0             \r\n",
      "    openssl:                            1.0.2s-h7b6447c_0                   --> 1.1.1d-h7b6447c_3      \r\n",
      "    packaging:                          17.1-py36_0                         --> 19.2-py_0              \r\n",
      "    pandas:                             0.23.0-py36h637b7d7_0               --> 0.25.2-py36he6710b0_0  \r\n",
      "    pandoc:                             1.19.2.1-hea2e7c5_1                 --> 2.2.3.2-0              \r\n",
      "    pandocfilters:                      1.4.2-py36ha6701b7_1                --> 1.4.2-py36_1           \r\n",
      "    pango:                              1.42.3-h8589676_0                   --> 1.42.4-h049681c_0      \r\n",
      "    parso:                              0.2.0-py36_0                        --> 0.5.1-py_0             \r\n",
      "    partd:                              0.3.8-py36h36fd896_0                --> 1.0.0-py_0             \r\n",
      "    patchelf:                           0.9-hf79760b_2                      --> 0.9-he6710b0_3         \r\n",
      "    path.py:                            11.0.1-py36_0                       --> 12.0.1-py_0            \r\n",
      "    pathlib2:                           2.3.2-py36_0                        --> 2.3.5-py36_0           \r\n",
      "    patsy:                              0.5.0-py36_0                        --> 0.5.1-py36_0           \r\n",
      "    pcre:                               8.42-h439df22_0                     --> 8.43-he6710b0_0        \r\n",
      "    pexpect:                            4.5.0-py36_0                        --> 4.7.0-py36_0           \r\n",
      "    pickleshare:                        0.7.4-py36h63277f8_0                --> 0.7.5-py36_0           \r\n",
      "    pillow:                             5.2.0-py36heded4f4_0                --> 6.2.1-py36h34e0f95_0   \r\n",
      "    pip:                                10.0.1-py36_0                       --> 19.3.1-py36_0          \r\n",
      "    pixman:                             0.34.0-hceecf20_3                   --> 0.38.0-h7b6447c_0      \r\n",
      "    pkginfo:                            1.4.2-py36_1                        --> 1.5.0.1-py36_0         \r\n",
      "    pluggy:                             0.6.0-py36hb689045_0                --> 0.13.0-py36_0          \r\n",
      "    prompt_toolkit:                     1.0.15-py36h17d85b1_0               --> 2.0.10-py_0            \r\n",
      "    protobuf:                           3.7.1-py36he1b5a44_0    conda-forge --> 3.9.2-py36he6710b0_0   \r\n",
      "    psutil:                             5.4.5-py36h14c3975_0                --> 5.6.3-py36h7b6447c_0   \r\n",
      "    ptyprocess:                         0.5.2-py36h69acd42_0                --> 0.6.0-py36_0           \r\n",
      "    py:                                 1.5.3-py36_0                        --> 1.8.0-py_0             \r\n",
      "    pycodestyle:                        2.4.0-py36_0                        --> 2.5.0-py36_0           \r\n",
      "    pycosat:                            0.6.3-py36h0a5515d_0                --> 0.6.3-py36h14c3975_0   \r\n",
      "    pycparser:                          2.18-py36hf9f622e_1                 --> 2.19-py36_0            \r\n",
      "    pycrypto:                           2.6.1-py36h14c3975_8                --> 2.6.1-py36h14c3975_9   \r\n",
      "    pycurl:                             7.43.0.1-py36hb7f436b_0             --> 7.43.0.3-py36h1ba5d50_0\r\n",
      "    pyflakes:                           1.6.0-py36h7bd6a15_0                --> 2.1.1-py36_0           \r\n",
      "    pygments:                           2.2.0-py36h0d3125c_0                --> 2.4.2-py_0             \r\n",
      "    pylint:                             1.8.4-py36_0                        --> 2.4.3-py36_0           \r\n",
      "    pyodbc:                             4.0.23-py36hf484d3e_0               --> 4.0.27-py36he6710b0_0  \r\n",
      "    pyopenssl:                          18.0.0-py36_0                       --> 19.0.0-py36_0          \r\n",
      "    pyparsing:                          2.2.0-py36hee85983_1                --> 2.4.2-py_0             \r\n",
      "    pyqt:                               5.9.2-py36h751905a_0                --> 5.9.2-py36h05f1152_2   \r\n",
      "    pysocks:                            1.6.8-py36_0                        --> 1.7.1-py36_0           \r\n",
      "    pytables:                           3.4.3-py36h02b9ad4_2                --> 3.4.4-py36ha205bf6_0   \r\n",
      "    pytest:                             3.5.1-py36_0                        --> 5.0.1-py36_0           \r\n",
      "    pytest-arraydiff:                   0.2-py36_0                          --> 0.3-py36h39e3cac_0     \r\n",
      "    pytest-astropy:                     0.3.0-py36_0                        --> 0.5.0-py36_0           \r\n",
      "    pytest-doctestplus:                 0.1.3-py36_0                        --> 0.4.0-py_0             \r\n",
      "    pytest-openfiles:                   0.3.0-py36_0                        --> 0.4.0-py_0             \r\n",
      "    pytest-remotedata:                  0.2.1-py36_0                        --> 0.3.2-py36_0           \r\n",
      "    python:                             3.6.5-hc3d631a_2                    --> 3.6.9-h265db76_0       \r\n",
      "    python-dateutil:                    2.7.3-py36_0                        --> 2.8.0-py36_0           \r\n",
      "    pytz:                               2018.4-py36_0                       --> 2019.3-py_0            \r\n",
      "    pywavelets:                         0.5.2-py36he602eb0_0                --> 1.1.1-py36h7b6447c_0   \r\n",
      "    pyyaml:                             3.12-py36hafb9ca4_1                 --> 5.1.2-py36h7b6447c_0   \r\n",
      "    pyzmq:                              17.0.0-py36h14c3975_0               --> 18.1.0-py36he6710b0_0  \r\n",
      "    qt:                                 5.9.6-h52aff34_0                    --> 5.9.7-h5867ecd_1       \r\n",
      "    qtawesome:                          0.4.4-py36h609ed8c_0                --> 0.6.0-py_0             \r\n",
      "    qtconsole:                          4.3.1-py36h8f73b5b_0                --> 4.5.5-py_0             \r\n",
      "    qtpy:                               1.4.1-py36_0                        --> 1.9.0-py_0             \r\n",
      "    readline:                           7.0-ha6073c6_4                      --> 7.0-h7b6447c_5         \r\n",
      "    requests:                           2.20.0-py36_1000        conda-forge --> 2.22.0-py36_0          \r\n",
      "    rope:                               0.10.7-py36h147e2ec_0               --> 0.14.0-py_0            \r\n",
      "    ruamel_yaml:                        0.15.35-py36h14c3975_1              --> 0.15.46-py36h14c3975_0 \r\n",
      "    s3fs:                               0.1.5-py36_0                        --> 0.3.4-py_0             \r\n",
      "    s3transfer:                         0.2.0-py36_0                        --> 0.2.1-py36_0           \r\n",
      "    scikit-image:                       0.13.1-py36h14c3975_1               --> 0.15.0-py36he6710b0_0  \r\n",
      "    scikit-learn:                       0.21.2-py36hd81dba3_0               --> 0.21.3-py36hd81dba3_0  \r\n",
      "    scipy:                              1.3.0-py36h7c811a0_0                --> 1.3.1-py36h7c811a0_0   \r\n",
      "    seaborn:                            0.8.1-py36hfad7ec4_0                --> 0.9.0-py36_0           \r\n",
      "    setuptools:                         39.1.0-py36_0                       --> 41.6.0-py36_0          \r\n",
      "    singledispatch:                     3.4.0.3-py36h7a266c3_0              --> 3.4.0.3-py36_0         \r\n",
      "    six:                                1.11.0-py36h372c433_1               --> 1.12.0-py36_0          \r\n",
      "    snowballstemmer:                    1.2.1-py36h6febd40_0                --> 2.0.0-py_0             \r\n",
      "    sortedcollections:                  0.6.1-py36_0                        --> 1.1.2-py36_0           \r\n",
      "    sortedcontainers:                   1.5.10-py36_0                       --> 2.1.0-py36_0           \r\n",
      "    sphinx:                             1.7.4-py36_0                        --> 2.2.1-py_0             \r\n",
      "    sphinxcontrib:                      1.0-py36h6d0f590_1                  --> 1.0-py36_1             \r\n",
      "    sphinxcontrib-websupport:           1.0.1-py36hb5cb234_1                --> 1.1.2-py_0             \r\n",
      "    spyder:                             3.2.8-py36_0                        --> 3.3.6-py36_0           \r\n",
      "    sqlalchemy:                         1.2.7-py36h6b74fdf_0                --> 1.3.10-py36h7b6447c_0  \r\n",
      "    sqlite:                             3.23.1-he433501_0                   --> 3.30.1-h7b6447c_0      \r\n",
      "    statsmodels:                        0.9.0-py36h3010b51_0                --> 0.10.1-py36hdd07704_0  \r\n",
      "    sympy:                              1.1.1-py36hc6d1c1c_0                --> 1.4-py36_0             \r\n",
      "    tblib:                              1.3.2-py36h34cf8b6_0                --> 1.4.0-py_0             \r\n",
      "    terminado:                          0.8.1-py36_1                        --> 0.8.2-py36_0           \r\n",
      "    testpath:                           0.3.1-py36h8cadb63_0                --> 0.4.2-py36_0           \r\n",
      "    tk:                                 8.6.7-hc745277_3                    --> 8.6.8-hbc83047_0       \r\n",
      "    toolz:                              0.9.0-py36_0                        --> 0.10.0-py_0            \r\n",
      "    tornado:                            5.0.2-py36_0                        --> 6.0.3-py36h7b6447c_0   \r\n",
      "    traitlets:                          4.3.2-py36h674d592_0                --> 4.3.3-py36_0           \r\n",
      "    unicodecsv:                         0.14.1-py36ha668878_0               --> 0.14.1-py36_0          \r\n",
      "    unixodbc:                           2.3.6-h1bed415_0                    --> 2.3.7-h14c3975_0       \r\n",
      "    urllib3:                            1.23-py36_0                         --> 1.24.2-py36_0          \r\n",
      "    wcwidth:                            0.1.7-py36hdf4376a_0                --> 0.1.7-py36_0           \r\n",
      "    webencodings:                       0.5.1-py36h800622e_1                --> 0.5.1-py36_1           \r\n",
      "    werkzeug:                           0.14.1-py36_0                       --> 0.16.0-py_0            \r\n",
      "    wheel:                              0.31.1-py36_0                       --> 0.33.6-py36_0          \r\n",
      "    widgetsnbextension:                 3.2.1-py36_0                        --> 3.5.1-py36_0           \r\n",
      "    wrapt:                              1.10.11-py36h28b7045_0              --> 1.11.2-py36h7b6447c_0  \r\n",
      "    xlrd:                               1.1.0-py36h1db9f0c_1                --> 1.2.0-py36_0           \r\n",
      "    xlsxwriter:                         1.0.4-py36_0                        --> 1.2.2-py_0             \r\n",
      "    xlwt:                               1.3.0-py36h7b00a1f_0                --> 1.3.0-py36_0           \r\n",
      "    zeromq:                             4.2.5-h439df22_0                    --> 4.3.1-he6710b0_3       \r\n",
      "    zict:                               0.1.3-py36h3a3bf81_0                --> 1.0.0-py_0             \r\n",
      "    zlib:                               1.2.11-ha838bed_2                   --> 1.2.11-h7b6447c_3      \r\n",
      "\r\n",
      "The following packages will be DOWNGRADED:\r\n",
      "\r\n",
      "    ffmpeg:                             4.0.2-ha0c5888_2        conda-forge --> 4.0-hcdf2ecd_0         \r\n",
      "    freeglut:                           3.0.0-hf484d3e_1005     conda-forge --> 3.0.0-hf484d3e_5       \r\n",
      "    libglu:                             9.0.0-hf484d3e_1000     conda-forge --> 9.0.0-hf484d3e_1       \r\n",
      "    libiconv:                           1.15-h516909a_1005      conda-forge --> 1.15-h63c8f33_5        \r\n",
      "    nb_conda:                           2.2.1-py36_2            conda-forge --> 2.2.1-py36_0           \r\n",
      "    openjdk:                            11.0.1-h516909a_1016    conda-forge --> 8.0.152-h46b5887_1     \r\n",
      "    pykerberos:                         1.2.1-py36h14c3975_0                --> 1.1.14-py36h84109d8_2  \r\n",
      "\r\n",
      "\r\n",
      "Downloading and Extracting Packages\r\n"
     ]
    },
    {
     "name": "stdout",
     "output_type": "stream",
     "text": [
      "networkx-2.4         | 1.2 MB    | ##################################### | 100% \n",
      "xlsxwriter-1.2.2     | 106 KB    | ##################################### | 100% \n",
      "mpmath-1.1.0         | 970 KB    | ##################################### | 100% \n",
      "pytest-arraydiff-0.3 | 15 KB     | ##################################### | 100% \n",
      "bkcharts-0.2         | 127 KB    | ##################################### | 100% \n",
      "qtpy-1.9.0           | 39 KB     | ##################################### | 100% \n",
      "olefile-0.46         | 48 KB     | ##################################### | 100% \n",
      "json5-0.8.5          | 25 KB     | ##################################### | 100% \n",
      "soupsieve-1.9.3      | 60 KB     | ##################################### | 100% \n",
      "itsdangerous-1.1.0   | 17 KB     | ##################################### | 100% \n",
      "jupyter_core-4.6.1   | 74 KB     | ##################################### | 100% \n",
      "beautifulsoup4-4.8.1 | 153 KB    | ##################################### | 100% \n",
      "jupyterlab_launcher- | 36 KB     | ##################################### | 100% \n",
      "wrapt-1.11.2         | 48 KB     | ##################################### | 100% \n",
      "colorama-0.4.1       | 17 KB     | ##################################### | 100% \n",
      "wurlitzer-1.0.3      | 14 KB     | ##################################### | 100% \n",
      "glib-2.63.1          | 3.4 MB    | ##################################### | 100% \n",
      "libxslt-1.1.33       | 577 KB    | ##################################### | 100% \n",
      "alabaster-0.7.12     | 16 KB     | ##################################### | 100% \n",
      "packaging-19.2       | 30 KB     | ##################################### | 100% \n",
      "spyder-kernels-0.5.2 | 69 KB     | ##################################### | 100% \n",
      "libprotobuf-3.9.2    | 4.7 MB    | ##################################### | 100% \n",
      "mpfr-4.0.1           | 575 KB    | ##################################### | 100% \n",
      "pywavelets-1.1.1     | 4.4 MB    | ##################################### | 100% \n",
      "astropy-3.2.3        | 7.2 MB    | ##################################### | 100% \n",
      "heapdict-1.0.1       | 9 KB      | ##################################### | 100% \n",
      "pycrypto-2.6.1       | 465 KB    | ##################################### | 100% \n",
      "path.py-12.0.1       | 23 KB     | ##################################### | 100% \n",
      "imagesize-1.1.0      | 8 KB      | ##################################### | 100% \n",
      "sphinxcontrib-qthelp | 26 KB     | ##################################### | 100% \n",
      "pytest-openfiles-0.4 | 10 KB     | ##################################### | 100% \n",
      "matplotlib-3.1.1     | 6.7 MB    | ##################################### | 100% \n",
      "pytest-doctestplus-0 | 18 KB     | ##################################### | 100% \n",
      "nose-1.3.7           | 214 KB    | ##################################### | 100% \n",
      "zict-1.0.0           | 12 KB     | ##################################### | 100% \n",
      "sphinxcontrib-devhel | 23 KB     | ##################################### | 100% \n",
      "clyent-1.2.2         | 18 KB     | ##################################### | 100% \n",
      "pycodestyle-2.5.0    | 60 KB     | ##################################### | 100% \n",
      "multipledispatch-0.6 | 21 KB     | ##################################### | 100% \n",
      "unicodecsv-0.14.1    | 25 KB     | ##################################### | 100% \n",
      "filelock-3.0.12      | 12 KB     | ##################################### | 100% \n",
      "sortedcontainers-2.1 | 45 KB     | ##################################### | 100% \n",
      "locket-0.2.0         | 8 KB      | ##################################### | 100% \n",
      "boto-2.49.0          | 1.5 MB    | ##################################### | 100% \n",
      "click-7.0            | 64 KB     | ##################################### | 100% \n",
      "openpyxl-3.0.0       | 157 KB    | ##################################### | 100% \n",
      "freeglut-3.0.0       | 251 KB    | ##################################### | 100% \n",
      "pytest-astropy-0.5.0 | 6 KB      | ##################################### | 100% \n",
      "pyparsing-2.4.2      | 61 KB     | ##################################### | 100% \n",
      "libvpx-1.7.0         | 2.4 MB    | ##################################### | 100% \n",
      "sphinxcontrib-htmlhe | 28 KB     | ##################################### | 100% \n",
      "toolz-0.10.0         | 50 KB     | ##################################### | 100% \n",
      "secretstorage-3.1.1  | 24 KB     | ##################################### | 100% \n",
      "glob2-0.7            | 14 KB     | ##################################### | 100% \n",
      "snowballstemmer-2.0. | 58 KB     | ##################################### | 100% \n",
      "bazel-0.26.1         | 38.0 MB   | ##################################### | 100% \n",
      "lxml-4.4.1           | 1.6 MB    | ##################################### | 100% \n",
      "mkl_random-1.1.0     | 369 KB    | ##################################### | 100% \n",
      "requests-2.22.0      | 89 KB     | ##################################### | 100% \n",
      "rope-0.14.0          | 113 KB    | ##################################### | 100% \n",
      "werkzeug-0.16.0      | 255 KB    | ##################################### | 100% \n",
      "ipython-7.9.0        | 1.1 MB    | ##################################### | 100% \n",
      "scikit-learn-0.21.3  | 6.8 MB    | ##################################### | 100% \n",
      "babel-2.7.0          | 5.8 MB    | ##################################### | 100% \n",
      "nltk-3.4.5           | 2.1 MB    | ##################################### | 100% \n",
      "html5lib-1.0.1       | 89 KB     | ##################################### | 100% \n",
      "numpy-1.17.3         | 4 KB      | ##################################### | 100% \n",
      "xlrd-1.2.0           | 188 KB    | ##################################### | 100% \n",
      "notebook-6.0.1       | 6.0 MB    | ##################################### | 100% \n",
      "jeepney-0.4.1        | 21 KB     | ##################################### | 100% \n",
      "backports-1.0        | 139 KB    | ##################################### | 100% \n",
      "xlwt-1.3.0           | 163 KB    | ##################################### | 100% \n",
      "fastcache-1.1.0      | 31 KB     | ##################################### | 100% \n",
      "sphinxcontrib-serial | 24 KB     | ##################################### | 100% \n",
      "blosc-1.16.3         | 82 KB     | ##################################### | 100% \n",
      "greenlet-0.4.15      | 20 KB     | ##################################### | 100% \n",
      "sortedcollections-1. | 18 KB     | ##################################### | 100% \n",
      "typed-ast-1.4.0      | 208 KB    | ##################################### | 100% \n",
      "distributed-2.6.0    | 393 KB    | ##################################### | 100% \n",
      "imageio-2.6.1        | 3.4 MB    | ##################################### | 100% \n",
      "cffi-1.13.1          | 224 KB    | ##################################### | 100% \n",
      "jupyterlab_server-1. | 26 KB     | ##################################### | 100% \n",
      "numba-0.46.0         | 3.2 MB    | ##################################### | 100% \n",
      "urllib3-1.24.2       | 153 KB    | ##################################### | 100% \n",
      "intel-openmp-2019.4  | 876 KB    | ##################################### | 100% \n",
      "sphinxcontrib-websup | 35 KB     | ##################################### | 100% \n",
      "backports.os-0.1.1   | 15 KB     | ##################################### | 100% \n",
      "odo-0.5.1            | 193 KB    | ##################################### | 100% \n",
      "sphinxcontrib-appleh | 29 KB     | ##################################### | 100% \n",
      "anaconda-project-0.8 | 215 KB    | ##################################### | 100% \n",
      "sphinx-2.2.1         | 1.4 MB    | ##################################### | 100% \n",
      "patsy-0.5.1          | 380 KB    | ##################################### | 100% \n",
      "jupyterlab-1.1.4     | 11.7 MB   | ##################################### | 100% \n",
      "jdcal-1.4.1          | 11 KB     | ##################################### | 100% \n",
      "contextlib2-0.6.0    | 16 KB     | ##################################### | 100% \n",
      "et_xmlfile-1.0.1     | 20 KB     | ##################################### | 100% \n",
      "unixodbc-2.3.7       | 319 KB    | ##################################### | 100% \n",
      "patchelf-0.9         | 71 KB     | ##################################### | 100% \n",
      "dask-core-2.6.0      | 578 KB    | ##################################### | 100% \n",
      "bottleneck-1.2.1     | 127 KB    | ##################################### | 100% \n",
      "certifi-2019.9.11    | 154 KB    | ##################################### | 100% \n"
     ]
    },
    {
     "name": "stdout",
     "output_type": "stream",
     "text": [
      "blaze-0.11.3         | 603 KB    | ##################################### | 100% \n",
      "statsmodels-0.10.1   | 9.6 MB    | ##################################### | 100% \n",
      "dask-2.6.0           | 12 KB     | ##################################### | 100% \n",
      "pluggy-0.13.0        | 31 KB     | ##################################### | 100% \n",
      "flask-1.1.1          | 73 KB     | ##################################### | 100% \n",
      "anaconda-client-1.7. | 141 KB    | ##################################### | 100% \n",
      "ipykernel-5.1.3      | 167 KB    | ##################################### | 100% \n",
      "lazy-object-proxy-1. | 30 KB     | ##################################### | 100% \n",
      "nbconvert-5.6.1      | 493 KB    | ##################################### | 100% \n",
      "nb_conda_kernels-2.2 | 37 KB     | ##################################### | 100% \n",
      "cytoolz-0.10.0       | 439 KB    | ##################################### | 100% \n",
      "astroid-2.3.2        | 283 KB    | ##################################### | 100% \n",
      "libopus-1.3          | 631 KB    | ##################################### | 100% \n",
      "mccabe-0.6.1         | 14 KB     | ##################################### | 100% \n",
      "sphinxcontrib-jsmath | 8 KB      | ##################################### | 100% \n",
      "datashape-0.5.4      | 100 KB    | ##################################### | 100% \n",
      "pyyaml-5.1.2         | 189 KB    | ##################################### | 100% \n",
      "mkl_fft-1.0.15       | 173 KB    | ##################################### | 100% \n",
      "libiconv-1.15        | 2.0 MB    | ##################################### | 100% \n",
      "chardet-3.0.4        | 197 KB    | ##################################### | 100% \n",
      "cycler-0.10.0        | 13 KB     | ##################################### | 100% \n",
      "ffmpeg-4.0           | 73.7 MB   | ##################################### | 100% \n",
      "cloudpickle-1.2.2    | 29 KB     | ##################################### | 100% \n",
      "libtool-2.4.6        | 513 KB    | ##################################### | 100% \n",
      "py-1.8.0             | 66 KB     | ##################################### | 100% \n",
      "backports.shutil_get | 8 KB      | ##################################### | 100% \n",
      "numpydoc-0.9.1       | 31 KB     | ##################################### | 100% \n",
      "atomicwrites-1.3.0   | 13 KB     | ##################################### | 100% \n",
      "spyder-3.3.6         | 2.5 MB    | ##################################### | 100% \n",
      "seaborn-0.9.0        | 379 KB    | ##################################### | 100% \n",
      "numexpr-2.7.0        | 196 KB    | ##################################### | 100% \n",
      "isort-4.3.21         | 68 KB     | ##################################### | 100% \n",
      "pyflakes-2.1.1       | 105 KB    | ##################################### | 100% \n",
      "flask-cors-3.0.8     | 17 KB     | ##################################### | 100% \n",
      "cython-0.29.13       | 2.2 MB    | ##################################### | 100% \n",
      "pyodbc-4.0.27        | 70 KB     | ##################################### | 100% \n",
      "sqlalchemy-1.3.10    | 1.8 MB    | ##################################### | 100% \n",
      "pytz-2019.3          | 231 KB    | ##################################### | 100% \n",
      "mkl-service-2.3.0    | 208 KB    | ##################################### | 100% \n",
      "pathlib2-2.3.5       | 37 KB     | ##################################### | 100% \n",
      "msgpack-python-0.6.1 | 92 KB     | ##################################### | 100% \n",
      "libglu-9.0.0         | 377 KB    | ##################################### | 100% \n",
      "libgfortran-3.0.0    | 281 KB    | ##################################### | 100% \n",
      "pillow-6.2.1         | 640 KB    | ##################################### | 100% \n",
      "setuptools-41.6.0    | 650 KB    | ##################################### | 100% \n",
      "nb_conda-2.2.1       | 33 KB     | ##################################### | 100% \n",
      "lz4-c-1.8.1.2        | 158 KB    | ##################################### | 100% \n",
      "partd-1.0.0          | 19 KB     | ##################################### | 100% \n",
      "pylint-2.4.3         | 432 KB    | ##################################### | 100% \n",
      "qtawesome-0.6.0      | 671 KB    | ##################################### | 100% \n",
      "pytables-3.4.4       | 1.5 MB    | ##################################### | 100% \n",
      "pkginfo-1.5.0.1      | 43 KB     | ##################################### | 100% \n",
      "sphinxcontrib-1.0    | 3 KB      | ##################################### | 100% \n",
      "gmpy2-2.0.8          | 165 KB    | ##################################### | 100% \n",
      "pycurl-7.43.0.3      | 70 KB     | ##################################### | 100% \n",
      "tblib-1.4.0          | 14 KB     | ##################################### | 100% \n",
      "scikit-image-0.15.0  | 28.4 MB   | ##################################### | 100% \n",
      "gevent-1.4.0         | 2.5 MB    | ##################################### | 100% \n",
      "llvmlite-0.30.0      | 17.7 MB   | ##################################### | 100% \n",
      "numpy-base-1.17.3    | 5.3 MB    | ##################################### | 100% \n",
      "singledispatch-3.4.0 | 15 KB     | ##################################### | 100% \n",
      "bokeh-1.4.0          | 13.6 MB   | ##################################### | 100% \n",
      "pytest-remotedata-0. | 15 KB     | ##################################### | 100% \n",
      "pandas-0.25.2        | 11.4 MB   | ##################################### | 100% \n",
      "sympy-1.4            | 9.7 MB    | ##################################### | 100% \n",
      "protobuf-3.9.2       | 701 KB    | ##################################### | 100% \n",
      "keyring-18.0.0       | 55 KB     | ##################################### | 100% \n",
      "kiwisolver-1.1.0     | 90 KB     | ##################################### | 100% \n",
      "bitarray-1.0.1       | 60 KB     | ##################################### | 100% \n",
      "scipy-1.3.1          | 18.1 MB   | ##################################### | 100% \n",
      "decorator-4.4.1      | 13 KB     | ##################################### | 100% \n",
      "mpc-1.1.0            | 94 KB     | ##################################### | 100% \n",
      "pytest-5.0.1         | 353 KB    | ##################################### | 100% \n",
      "Preparing transaction: done\n",
      "Verifying transaction: done\n",
      "Executing transaction: | + /home/ec2-user/anaconda3/envs/tensorflow_p36/bin/jupyter-nbextension disable nb_conda --py --sys-prefix\n",
      "Disabling notebook extension nb_conda/main...\n",
      "      - Validating: \u001b[32mOK\u001b[0m\n",
      "Disabling tree extension nb_conda/tree...\n",
      "      - Validating: \u001b[32mOK\u001b[0m\n",
      "+ /home/ec2-user/anaconda3/envs/tensorflow_p36/bin/jupyter-serverextension disable nb_conda --py --sys-prefix\n",
      "Disabling: nb_conda\n",
      "- Writing config: /home/ec2-user/anaconda3/envs/tensorflow_p36/etc/jupyter\n",
      "\n",
      "\\ Disabling nb_conda_kernels...\n",
      "Status: disabled\n",
      "\n",
      "- Enabling nb_conda_kernels...\n",
      "Status: enabled\n",
      "\n",
      "| + /home/ec2-user/anaconda3/envs/tensorflow_p36/bin/jupyter-nbextension enable nb_conda --py --sys-prefix\n",
      "Enabling notebook extension nb_conda/main...\n",
      "      - Validating: \u001b[32mOK\u001b[0m\n",
      "Enabling tree extension nb_conda/tree...\n",
      "      - Validating: \u001b[32mOK\u001b[0m\n",
      "+ /home/ec2-user/anaconda3/envs/tensorflow_p36/bin/jupyter-serverextension enable nb_conda --py --sys-prefix\n",
      "Enabling: nb_conda\n",
      "- Writing config: /home/ec2-user/anaconda3/envs/tensorflow_p36/etc/jupyter\n",
      "    - Validating...\n",
      "      nb_conda 2.2.1 \u001b[32mOK\u001b[0m\n",
      "\n",
      "done\n",
      "Solving environment: done\n",
      "\n",
      "\n",
      "==> WARNING: A newer version of conda exists. <==\n",
      "  current version: 4.5.12\n",
      "  latest version: 4.7.12\n",
      "\n",
      "Please update conda by running\n",
      "\n",
      "    $ conda update -n base -c defaults conda\n",
      "\n",
      "\n",
      "\n",
      "## Package Plan ##\n",
      "\n",
      "  environment location: /home/ec2-user/anaconda3/envs/tensorflow_p36\n",
      "\n",
      "  added / updated specs: \n",
      "    - cudnn\n",
      "\n",
      "\n",
      "The following packages will be downloaded:\n",
      "\n",
      "    package                    |            build\n",
      "    ---------------------------|-----------------\n",
      "    cudatoolkit-10.1.243       |       h6bb024c_0       513.2 MB\n",
      "    cudnn-7.6.4                |       cuda10.1_0       250.8 MB\n",
      "    ------------------------------------------------------------\n",
      "                                           Total:       764.0 MB\n",
      "\n",
      "The following NEW packages will be INSTALLED:\n",
      "\n",
      "    cudatoolkit: 10.1.243-h6bb024c_0\n",
      "    cudnn:       7.6.4-cuda10.1_0   \n",
      "\n",
      "\n",
      "Downloading and Extracting Packages\n",
      "cudatoolkit-10.1.243 | 513.2 MB  | ##################################### | 100% \n",
      "cudnn-7.6.4          | 250.8 MB  | ##################################### | 100% \n",
      "Preparing transaction: done\n"
     ]
    },
    {
     "name": "stdout",
     "output_type": "stream",
     "text": [
      "Verifying transaction: done\n",
      "Executing transaction: done\n",
      "Requirement already up-to-date: pip in /home/ec2-user/anaconda3/envs/tensorflow_p36/lib/python3.6/site-packages (19.3.1)\n",
      "Collecting tensorflow-gpu\n",
      "\u001b[?25l  Downloading https://files.pythonhosted.org/packages/25/44/47f0722aea081697143fbcf5d2aa60d1aee4aaacb5869aee2b568974777b/tensorflow_gpu-2.0.0-cp36-cp36m-manylinux2010_x86_64.whl (380.8MB)\n",
      "\u001b[K     |████████████████████████████    | 332.2MB 96.1MB/s eta 0:00:01     |█████████████████████████▋      | 304.3MB 96.1MB/s eta 0:00:01"
     ]
    },
    {
     "name": "stderr",
     "output_type": "stream",
     "text": [
      "IOPub data rate exceeded.\n",
      "The notebook server will temporarily stop sending output\n",
      "to the client in order to avoid crashing it.\n",
      "To change this limit, set the config variable\n",
      "`--NotebookApp.iopub_data_rate_limit`.\n",
      "\n",
      "Current values:\n",
      "NotebookApp.iopub_data_rate_limit=1000000.0 (bytes/sec)\n",
      "NotebookApp.rate_limit_window=3.0 (secs)\n",
      "\n"
     ]
    },
    {
     "name": "stdout",
     "output_type": "stream",
     "text": [
      "\u001b[K     |████████████████████████████████| 380.8MB 7.8kB/s \n",
      "\u001b[?25hRequirement already satisfied: wheel>=0.26 in /home/ec2-user/anaconda3/envs/tensorflow_p36/lib/python3.6/site-packages (from tensorflow-gpu) (0.33.6)\n",
      "Requirement already satisfied: google-pasta>=0.1.6 in /home/ec2-user/anaconda3/envs/tensorflow_p36/lib/python3.6/site-packages (from tensorflow-gpu) (0.1.7)\n",
      "Processing /home/ec2-user/.cache/pip/wheels/2c/b1/94/43d03e130b929aae7ba3f8d15cbd7bc0d1cb5bb38a5c721833/opt_einsum-3.1.0-cp36-none-any.whl\n",
      "Requirement already satisfied: grpcio>=1.8.6 in /home/ec2-user/anaconda3/envs/tensorflow_p36/lib/python3.6/site-packages (from tensorflow-gpu) (1.10.1)\n",
      "Requirement already satisfied: gast==0.2.2 in /home/ec2-user/anaconda3/envs/tensorflow_p36/lib/python3.6/site-packages (from tensorflow-gpu) (0.2.2)\n",
      "Requirement already satisfied: keras-preprocessing>=1.0.5 in /home/ec2-user/anaconda3/envs/tensorflow_p36/lib/python3.6/site-packages (from tensorflow-gpu) (1.1.0)\n",
      "Requirement already satisfied: protobuf>=3.6.1 in /home/ec2-user/anaconda3/envs/tensorflow_p36/lib/python3.6/site-packages (from tensorflow-gpu) (3.9.2)\n",
      "Requirement already satisfied: astor>=0.6.0 in /home/ec2-user/anaconda3/envs/tensorflow_p36/lib/python3.6/site-packages (from tensorflow-gpu) (0.8.0)\n",
      "Requirement already satisfied: wrapt>=1.11.1 in /home/ec2-user/anaconda3/envs/tensorflow_p36/lib/python3.6/site-packages (from tensorflow-gpu) (1.11.2)\n",
      "Collecting tensorboard<2.1.0,>=2.0.0\n",
      "  Using cached https://files.pythonhosted.org/packages/d3/9e/a48cd34dd7b672ffc227b566f7d16d63c62c58b542d54efa45848c395dd4/tensorboard-2.0.1-py3-none-any.whl\n",
      "Requirement already satisfied: six>=1.10.0 in /home/ec2-user/anaconda3/envs/tensorflow_p36/lib/python3.6/site-packages (from tensorflow-gpu) (1.12.0)\n",
      "Requirement already satisfied: termcolor>=1.1.0 in /home/ec2-user/anaconda3/envs/tensorflow_p36/lib/python3.6/site-packages (from tensorflow-gpu) (1.1.0)\n",
      "Requirement already satisfied: numpy<2.0,>=1.16.0 in /home/ec2-user/anaconda3/envs/tensorflow_p36/lib/python3.6/site-packages (from tensorflow-gpu) (1.17.3)\n",
      "Requirement already satisfied: keras-applications>=1.0.8 in /home/ec2-user/anaconda3/envs/tensorflow_p36/lib/python3.6/site-packages (from tensorflow-gpu) (1.0.8)\n",
      "Collecting tensorflow-estimator<2.1.0,>=2.0.0\n",
      "  Using cached https://files.pythonhosted.org/packages/fc/08/8b927337b7019c374719145d1dceba21a8bb909b93b1ad6f8fb7d22c1ca1/tensorflow_estimator-2.0.1-py2.py3-none-any.whl\n",
      "Requirement already satisfied: absl-py>=0.7.0 in /home/ec2-user/anaconda3/envs/tensorflow_p36/lib/python3.6/site-packages (from tensorflow-gpu) (0.7.1)\n",
      "Requirement already satisfied: setuptools in /home/ec2-user/anaconda3/envs/tensorflow_p36/lib/python3.6/site-packages (from protobuf>=3.6.1->tensorflow-gpu) (41.6.0.post20191030)\n",
      "Requirement already satisfied: markdown>=2.6.8 in /home/ec2-user/anaconda3/envs/tensorflow_p36/lib/python3.6/site-packages (from tensorboard<2.1.0,>=2.0.0->tensorflow-gpu) (3.1.1)\n",
      "Collecting google-auth<2,>=1.6.3\n",
      "  Using cached https://files.pythonhosted.org/packages/2f/81/d1e7d9974ba7c886f6d133a8baae18cb8d92b2d09bcc4f46328306825de0/google_auth-1.7.0-py2.py3-none-any.whl\n",
      "Requirement already satisfied: werkzeug>=0.11.15 in /home/ec2-user/anaconda3/envs/tensorflow_p36/lib/python3.6/site-packages (from tensorboard<2.1.0,>=2.0.0->tensorflow-gpu) (0.16.0)\n",
      "Collecting google-auth-oauthlib<0.5,>=0.4.1\n",
      "  Using cached https://files.pythonhosted.org/packages/7b/b8/88def36e74bee9fce511c9519571f4e485e890093ab7442284f4ffaef60b/google_auth_oauthlib-0.4.1-py2.py3-none-any.whl\n",
      "Requirement already satisfied: h5py in /home/ec2-user/anaconda3/envs/tensorflow_p36/lib/python3.6/site-packages (from keras-applications>=1.0.8->tensorflow-gpu) (2.8.0)\n",
      "Requirement already satisfied: rsa<4.1,>=3.1.4 in /home/ec2-user/anaconda3/envs/tensorflow_p36/lib/python3.6/site-packages (from google-auth<2,>=1.6.3->tensorboard<2.1.0,>=2.0.0->tensorflow-gpu) (3.4.2)\n",
      "Collecting pyasn1-modules>=0.2.1\n",
      "  Using cached https://files.pythonhosted.org/packages/52/50/bb4cefca37da63a0c52218ba2cb1b1c36110d84dcbae8aa48cd67c5e95c2/pyasn1_modules-0.2.7-py2.py3-none-any.whl\n",
      "Collecting cachetools<3.2,>=2.0.0\n",
      "  Using cached https://files.pythonhosted.org/packages/2f/a6/30b0a0bef12283e83e58c1d6e7b5aabc7acfc4110df81a4471655d33e704/cachetools-3.1.1-py2.py3-none-any.whl\n",
      "Collecting requests-oauthlib>=0.7.0\n",
      "  Using cached https://files.pythonhosted.org/packages/a3/12/b92740d845ab62ea4edf04d2f4164d82532b5a0b03836d4d4e71c6f3d379/requests_oauthlib-1.3.0-py2.py3-none-any.whl\n",
      "Requirement already satisfied: pyasn1>=0.1.3 in /home/ec2-user/anaconda3/envs/tensorflow_p36/lib/python3.6/site-packages (from rsa<4.1,>=3.1.4->google-auth<2,>=1.6.3->tensorboard<2.1.0,>=2.0.0->tensorflow-gpu) (0.4.7)\n",
      "Requirement already satisfied: requests>=2.0.0 in /home/ec2-user/anaconda3/envs/tensorflow_p36/lib/python3.6/site-packages (from requests-oauthlib>=0.7.0->google-auth-oauthlib<0.5,>=0.4.1->tensorboard<2.1.0,>=2.0.0->tensorflow-gpu) (2.22.0)\n",
      "Collecting oauthlib>=3.0.0\n",
      "  Using cached https://files.pythonhosted.org/packages/05/57/ce2e7a8fa7c0afb54a0581b14a65b56e62b5759dbc98e80627142b8a3704/oauthlib-3.1.0-py2.py3-none-any.whl\n",
      "Requirement already satisfied: chardet<3.1.0,>=3.0.2 in /home/ec2-user/anaconda3/envs/tensorflow_p36/lib/python3.6/site-packages (from requests>=2.0.0->requests-oauthlib>=0.7.0->google-auth-oauthlib<0.5,>=0.4.1->tensorboard<2.1.0,>=2.0.0->tensorflow-gpu) (3.0.4)\n",
      "Requirement already satisfied: certifi>=2017.4.17 in /home/ec2-user/anaconda3/envs/tensorflow_p36/lib/python3.6/site-packages (from requests>=2.0.0->requests-oauthlib>=0.7.0->google-auth-oauthlib<0.5,>=0.4.1->tensorboard<2.1.0,>=2.0.0->tensorflow-gpu) (2019.9.11)\n",
      "Requirement already satisfied: idna<2.9,>=2.5 in /home/ec2-user/anaconda3/envs/tensorflow_p36/lib/python3.6/site-packages (from requests>=2.0.0->requests-oauthlib>=0.7.0->google-auth-oauthlib<0.5,>=0.4.1->tensorboard<2.1.0,>=2.0.0->tensorflow-gpu) (2.8)\n",
      "Requirement already satisfied: urllib3!=1.25.0,!=1.25.1,<1.26,>=1.21.1 in /home/ec2-user/anaconda3/envs/tensorflow_p36/lib/python3.6/site-packages (from requests>=2.0.0->requests-oauthlib>=0.7.0->google-auth-oauthlib<0.5,>=0.4.1->tensorboard<2.1.0,>=2.0.0->tensorflow-gpu) (1.24.2)\n",
      "\u001b[31mERROR: tensorflow 1.14.0 has requirement tensorboard<1.15.0,>=1.14.0, but you'll have tensorboard 2.0.1 which is incompatible.\u001b[0m\n",
      "\u001b[31mERROR: tensorflow 1.14.0 has requirement tensorflow-estimator<1.15.0rc0,>=1.14.0rc0, but you'll have tensorflow-estimator 2.0.1 which is incompatible.\u001b[0m\n",
      "\u001b[31mERROR: tensorboard 2.0.1 has requirement grpcio>=1.24.3, but you'll have grpcio 1.10.1 which is incompatible.\u001b[0m\n",
      "Installing collected packages: opt-einsum, pyasn1-modules, cachetools, google-auth, oauthlib, requests-oauthlib, google-auth-oauthlib, tensorboard, tensorflow-estimator, tensorflow-gpu\n",
      "  Found existing installation: tensorboard 1.14.0\n",
      "    Uninstalling tensorboard-1.14.0:\n",
      "      Successfully uninstalled tensorboard-1.14.0\n",
      "  Found existing installation: tensorflow-estimator 1.14.0\n",
      "    Uninstalling tensorflow-estimator-1.14.0:\n",
      "      Successfully uninstalled tensorflow-estimator-1.14.0\n",
      "Successfully installed cachetools-3.1.1 google-auth-1.7.0 google-auth-oauthlib-0.4.1 oauthlib-3.1.0 opt-einsum-3.1.0 pyasn1-modules-0.2.7 requests-oauthlib-1.3.0 tensorboard-2.0.1 tensorflow-estimator-2.0.1 tensorflow-gpu-2.0.0\n",
      "Processing /home/ec2-user/.cache/pip/wheels/16/84/1f/bf88641293cda2c8be81a5c4b8ca973dd9125a6dc3767417fd/imutils-0.5.3-cp36-none-any.whl\n",
      "Installing collected packages: imutils\n",
      "Successfully installed imutils-0.5.3\n",
      "Collecting tqdm\n",
      "\u001b[?25l  Downloading https://files.pythonhosted.org/packages/05/f2/764a5d530cf143ded9bc95216edb6e258c6554511e78de7c250557e8f3ed/tqdm-4.37.0-py2.py3-none-any.whl (53kB)\n",
      "\u001b[K     |████████████████████████████████| 61kB 12.9MB/s eta 0:00:01\n",
      "\u001b[?25hInstalling collected packages: tqdm\n",
      "Successfully installed tqdm-4.37.0\n",
      "Requirement already satisfied: pyyaml in /home/ec2-user/anaconda3/envs/tensorflow_p36/lib/python3.6/site-packages (5.1.2)\n",
      "Requirement already satisfied: h5py in /home/ec2-user/anaconda3/envs/tensorflow_p36/lib/python3.6/site-packages (2.8.0)\n",
      "Requirement already satisfied: numpy>=1.7 in /home/ec2-user/anaconda3/envs/tensorflow_p36/lib/python3.6/site-packages (from h5py) (1.17.3)\n",
      "Requirement already satisfied: six in /home/ec2-user/anaconda3/envs/tensorflow_p36/lib/python3.6/site-packages (from h5py) (1.12.0)\n"
     ]
    },
    {
     "name": "stdout",
     "output_type": "stream",
     "text": [
      "Collecting tensorflow-hub\n",
      "\u001b[?25l  Downloading https://files.pythonhosted.org/packages/00/0e/a91780d07592b1abf9c91344ce459472cc19db3b67fdf3a61dca6ebb2f5c/tensorflow_hub-0.7.0-py2.py3-none-any.whl (89kB)\n",
      "\u001b[K     |████████████████████████████████| 92kB 6.4MB/s  eta 0:00:01\n",
      "\u001b[?25hRequirement already satisfied: protobuf>=3.4.0 in /home/ec2-user/anaconda3/envs/tensorflow_p36/lib/python3.6/site-packages (from tensorflow-hub) (3.9.2)\n",
      "Requirement already satisfied: six>=1.10.0 in /home/ec2-user/anaconda3/envs/tensorflow_p36/lib/python3.6/site-packages (from tensorflow-hub) (1.12.0)\n",
      "Requirement already satisfied: numpy>=1.12.0 in /home/ec2-user/anaconda3/envs/tensorflow_p36/lib/python3.6/site-packages (from tensorflow-hub) (1.17.3)\n",
      "Requirement already satisfied: setuptools in /home/ec2-user/anaconda3/envs/tensorflow_p36/lib/python3.6/site-packages (from protobuf>=3.4.0->tensorflow-hub) (41.6.0.post20191030)\n",
      "Installing collected packages: tensorflow-hub\n",
      "Successfully installed tensorflow-hub-0.7.0\n"
     ]
    }
   ],
   "source": [
    "#%%capture\n",
    "# ^ hide the output\n",
    "\n",
    "!conda update --all --yes\n",
    "!conda install cudnn --yes\n",
    "\n",
    "!pip install --upgrade pip\n",
    "!pip install tensorflow-gpu\n",
    "!pip install imutils\n",
    "!pip install tqdm\n",
    "!pip install pyyaml h5py\n",
    "!pip install tensorflow-hub"
   ]
  },
  {
   "cell_type": "markdown",
   "metadata": {},
   "source": [
    "### 0.2 Import the dependencies"
   ]
  },
  {
   "cell_type": "code",
   "execution_count": 2,
   "metadata": {},
   "outputs": [],
   "source": [
    "%matplotlib inline\n",
    "\n",
    "import tensorflow as tf\n",
    "from tensorflow.keras.models import Sequential\n",
    "from tensorflow.keras.layers import Dense, Conv2D, Flatten, Dropout, MaxPooling2D\n",
    "from tensorflow.keras.preprocessing.image import ImageDataGenerator\n",
    "\n",
    "import os\n",
    "import glob\n",
    "import imageio\n",
    "import random\n",
    "import math\n",
    "import shutil\n",
    "import requests\n",
    "import skimage\n",
    "import uuid\n",
    "\n",
    "import numpy as np\n",
    "import matplotlib.pyplot as plt\n",
    "from tqdm import tqdm_notebook as tqdm\n",
    "import tensorflow_hub as hub\n",
    "from collections import defaultdict\n",
    "\n",
    "# create a directory if it doesn't already exist\n",
    "make_dir = lambda path: os.path.exists(path) or os.makedirs(path)"
   ]
  },
  {
   "cell_type": "markdown",
   "metadata": {},
   "source": [
    "### 0.3 Constants"
   ]
  },
  {
   "cell_type": "code",
   "execution_count": 3,
   "metadata": {},
   "outputs": [],
   "source": [
    "IMG_HEIGHT = 224 #300 \n",
    "IMG_WIDTH = 224 # 300\n",
    "train_pct = 0.7\n",
    "batch_size = 24"
   ]
  },
  {
   "cell_type": "markdown",
   "metadata": {},
   "source": [
    "## [1] Get the Data"
   ]
  },
  {
   "cell_type": "markdown",
   "metadata": {},
   "source": [
    "### 1.1 Create directories for the test and train data"
   ]
  },
  {
   "cell_type": "code",
   "execution_count": 4,
   "metadata": {},
   "outputs": [],
   "source": [
    "!rm -rf data\n",
    "make_dir('data')\n",
    "make_dir('data/train')\n",
    "make_dir('data/test')"
   ]
  },
  {
   "cell_type": "markdown",
   "metadata": {},
   "source": [
    "### 1.1 Get the provided dataset"
   ]
  },
  {
   "cell_type": "markdown",
   "metadata": {},
   "source": [
    "#### 1.1.1 Download and unzip the images"
   ]
  },
  {
   "cell_type": "code",
   "execution_count": 5,
   "metadata": {
    "scrolled": true
   },
   "outputs": [
    {
     "name": "stdout",
     "output_type": "stream",
     "text": [
      "  % Total    % Received % Xferd  Average Speed   Time    Time     Time  Current\n",
      "                                 Dload  Upload   Total   Spent    Left  Speed\n",
      "100 67.5M  100 67.5M    0     0  4855k      0  0:00:14  0:00:14 --:--:-- 5791kM    0     0  4772k      0  0:00:14  0:00:13  0:00:01 5780k\n"
     ]
    }
   ],
   "source": [
    "if not os.path.exists('train.zip'):\n",
    "    !curl https://ecs.victoria.ac.nz/foswiki/pub/Courses/COMP309_2019T2/Assignments/Train_data_2019.zip -o train.zip\n",
    "!unzip -oq train.zip -d data"
   ]
  },
  {
   "cell_type": "markdown",
   "metadata": {},
   "source": [
    "#### 1.1.2 Split the images using 309 as a seed"
   ]
  },
  {
   "cell_type": "code",
   "execution_count": 6,
   "metadata": {},
   "outputs": [
    {
     "name": "stderr",
     "output_type": "stream",
     "text": [
      "/home/ec2-user/anaconda3/envs/tensorflow_p36/lib/python3.6/site-packages/ipykernel/__main__.py:11: TqdmDeprecationWarning: This function will be removed in tqdm==5.0.0\n",
      "Please use `tqdm.notebook.tqdm` instead of `tqdm.tqdm_notebook`\n"
     ]
    },
    {
     "data": {
      "application/vnd.jupyter.widget-view+json": {
       "model_id": "6a61b5b492c44054961d98ce2ec11927",
       "version_major": 2,
       "version_minor": 0
      },
      "text/plain": [
       "HBox(children=(IntProgress(value=1, bar_style='info', description='tomato', max=1, style=ProgressStyle(descrip…"
      ]
     },
     "metadata": {},
     "output_type": "display_data"
    },
    {
     "name": "stdout",
     "output_type": "stream",
     "text": [
      "\n"
     ]
    },
    {
     "data": {
      "application/vnd.jupyter.widget-view+json": {
       "model_id": "a637723275e04cd7aa47937f3a3d0ae1",
       "version_major": 2,
       "version_minor": 0
      },
      "text/plain": [
       "HBox(children=(IntProgress(value=1, bar_style='info', description='cherry', max=1, style=ProgressStyle(descrip…"
      ]
     },
     "metadata": {},
     "output_type": "display_data"
    },
    {
     "name": "stdout",
     "output_type": "stream",
     "text": [
      "\n"
     ]
    },
    {
     "data": {
      "application/vnd.jupyter.widget-view+json": {
       "model_id": "865f1c1db1ac453fb00792508cb820a0",
       "version_major": 2,
       "version_minor": 0
      },
      "text/plain": [
       "HBox(children=(IntProgress(value=1, bar_style='info', description='strawberry', max=1, style=ProgressStyle(des…"
      ]
     },
     "metadata": {},
     "output_type": "display_data"
    },
    {
     "name": "stdout",
     "output_type": "stream",
     "text": [
      "\n"
     ]
    }
   ],
   "source": [
    "random.seed(309)\n",
    "for label_dir in glob.glob('data/Train_data/*'):\n",
    "    label = label_dir.split('/')[-1]\n",
    "    make_dir(f'data/train/{label}')\n",
    "    make_dir(f'data/test/{label}')\n",
    "    \n",
    "    images = glob.glob(f'{label_dir}/*')\n",
    "    random.shuffle(images)\n",
    "    \n",
    "    split_index = math.floor(len(images) * train_pct)\n",
    "    for i, image in tqdm(enumerate(images), label):\n",
    "        train_or_test = 'train' if i < split_index else 'test'\n",
    "        new_path = image.replace('Train_data', train_or_test)\n",
    "        shutil.move(image, new_path)\n",
    "\n",
    "# clean-up the unzipped directory (will be empty)\n",
    "!rm -rf data/Train_data\n",
    "!rm -rf data/__MACOSX"
   ]
  },
  {
   "cell_type": "markdown",
   "metadata": {},
   "source": [
    "### 1.2 Get images from ImageNet"
   ]
  },
  {
   "cell_type": "markdown",
   "metadata": {},
   "source": [
    "#### 1.2.1 Fetch the ImageNet urls"
   ]
  },
  {
   "cell_type": "code",
   "execution_count": 7,
   "metadata": {},
   "outputs": [
    {
     "name": "stdout",
     "output_type": "stream",
     "text": [
      "ls: cannot access imagenet_urls/: No such file or directory\r\n"
     ]
    }
   ],
   "source": [
    "!ls imagenet_urls/"
   ]
  },
  {
   "cell_type": "code",
   "execution_count": 8,
   "metadata": {},
   "outputs": [
    {
     "name": "stdout",
     "output_type": "stream",
     "text": [
      "--2019-11-07 13:08:08--  https://v.im.cyut.edu.tw/ftp/18/imagenet_fall11_urls.tgz\n",
      "Resolving v.im.cyut.edu.tw (v.im.cyut.edu.tw)... 163.17.9.3\n",
      "Connecting to v.im.cyut.edu.tw (v.im.cyut.edu.tw)|163.17.9.3|:443... connected.\n",
      "HTTP request sent, awaiting response... 200 OK\n",
      "Length: 350302759 (334M) [application/x-gzip]\n",
      "Saving to: ‘imagenet_urls/imagenet_fall11_urls.tgz’\n",
      "\n",
      "imagenet_urls/image 100%[===================>] 334.07M  10.8MB/s    in 32s     \n",
      "\n",
      "2019-11-07 13:08:41 (10.4 MB/s) - ‘imagenet_urls/imagenet_fall11_urls.tgz’ saved [350302759/350302759]\n",
      "\n",
      "fall11_urls.txt\n"
     ]
    }
   ],
   "source": [
    "imagenet_urls_path = 'imagenet_urls/fall11_urls.txt'\n",
    "if not os.path.exists(imagenet_urls_path):\n",
    "    !rm -rf imagenet_urls \n",
    "    !mkdir imagenet_urls\n",
    "\n",
    "    # n.b. the main site is down: use a mirror\n",
    "    !wget https://v.im.cyut.edu.tw/ftp/18/imagenet_fall11_urls.tgz -O imagenet_urls/imagenet_fall11_urls.tgz\n",
    "    !tar -xvf imagenet_urls/imagenet_fall11_urls.tgz -C imagenet_urls\n",
    "\n",
    "raw_image_urls = list(open(imagenet_urls_path, encoding='ISO-8859-1'))"
   ]
  },
  {
   "cell_type": "markdown",
   "metadata": {},
   "source": [
    "#### 1.2.2 Find images for each class"
   ]
  },
  {
   "cell_type": "code",
   "execution_count": 9,
   "metadata": {},
   "outputs": [
    {
     "name": "stderr",
     "output_type": "stream",
     "text": [
      "/home/ec2-user/anaconda3/envs/tensorflow_p36/lib/python3.6/site-packages/ipykernel/__main__.py:8: TqdmDeprecationWarning: This function will be removed in tqdm==5.0.0\n",
      "Please use `tqdm.notebook.tqdm` instead of `tqdm.tqdm_notebook`\n"
     ]
    },
    {
     "data": {
      "application/vnd.jupyter.widget-view+json": {
       "model_id": "4cf2003638244af38271a41211821138",
       "version_major": 2,
       "version_minor": 0
      },
      "text/plain": [
       "HBox(children=(IntProgress(value=0, max=14197122), HTML(value='')))"
      ]
     },
     "metadata": {},
     "output_type": "display_data"
    },
    {
     "name": "stdout",
     "output_type": "stream",
     "text": [
      "\n"
     ]
    }
   ],
   "source": [
    "word_net_ids = {\n",
    "    'strawberry': ['n07745940'],\n",
    "    'cherry': ['n07757132', 'n07757312', 'n07757874', '0n07757990'],\n",
    "    'tomato': ['n07734292', 'n07734292']\n",
    "}\n",
    "\n",
    "image_urls_by_class = defaultdict(list)\n",
    "for line in tqdm(raw_image_urls):\n",
    "    image_id = line.split('\\t')[0].split('_')[0]\n",
    "    image_url = line.split('\\t')[1].strip()\n",
    "    \n",
    "    for class_name, ids in word_net_ids.items():\n",
    "        if image_id in ids:\n",
    "            image_urls_by_class[class_name] += [image_url]"
   ]
  },
  {
   "cell_type": "markdown",
   "metadata": {},
   "source": [
    "#### 1.2.3 Download applicable images from ImageNet\n",
    "Note: images from Flickr are filtered out as they may be in the evaluation data set."
   ]
  },
  {
   "cell_type": "code",
   "execution_count": 10,
   "metadata": {},
   "outputs": [
    {
     "name": "stderr",
     "output_type": "stream",
     "text": [
      "/home/ec2-user/anaconda3/envs/tensorflow_p36/lib/python3.6/site-packages/ipykernel/__main__.py:9: TqdmDeprecationWarning: This function will be removed in tqdm==5.0.0\n",
      "Please use `tqdm.notebook.tqdm` instead of `tqdm.tqdm_notebook`\n"
     ]
    },
    {
     "data": {
      "application/vnd.jupyter.widget-view+json": {
       "model_id": "c90f0078f8ec46d485008cd213f15c39",
       "version_major": 2,
       "version_minor": 0
      },
      "text/plain": [
       "HBox(children=(IntProgress(value=0, description='tomato', max=37, style=ProgressStyle(description_width='initi…"
      ]
     },
     "metadata": {},
     "output_type": "display_data"
    },
    {
     "ename": "KeyboardInterrupt",
     "evalue": "",
     "output_type": "error",
     "traceback": [
      "\u001b[0;31m---------------------------------------------------------------------------\u001b[0m",
      "\u001b[0;31mKeyboardInterrupt\u001b[0m                         Traceback (most recent call last)",
      "\u001b[0;32m<ipython-input-10-2862fd7c2c01>\u001b[0m in \u001b[0;36m<module>\u001b[0;34m()\u001b[0m\n\u001b[1;32m     16\u001b[0m \u001b[0;34m\u001b[0m\u001b[0m\n\u001b[1;32m     17\u001b[0m         \u001b[0;32mtry\u001b[0m\u001b[0;34m:\u001b[0m\u001b[0;34m\u001b[0m\u001b[0m\n\u001b[0;32m---> 18\u001b[0;31m             \u001b[0mresponse\u001b[0m \u001b[0;34m=\u001b[0m \u001b[0mrequests\u001b[0m\u001b[0;34m.\u001b[0m\u001b[0mget\u001b[0m\u001b[0;34m(\u001b[0m\u001b[0murl\u001b[0m\u001b[0;34m,\u001b[0m \u001b[0mtimeout\u001b[0m\u001b[0;34m=\u001b[0m\u001b[0;34m(\u001b[0m\u001b[0;36m2\u001b[0m\u001b[0;34m,\u001b[0m \u001b[0;36m5\u001b[0m\u001b[0;34m)\u001b[0m\u001b[0;34m,\u001b[0m \u001b[0mallow_redirects\u001b[0m\u001b[0;34m=\u001b[0m\u001b[0;32mFalse\u001b[0m\u001b[0;34m)\u001b[0m\u001b[0;34m\u001b[0m\u001b[0m\n\u001b[0m\u001b[1;32m     19\u001b[0m             \u001b[0;32massert\u001b[0m \u001b[0mresponse\u001b[0m\u001b[0;34m.\u001b[0m\u001b[0mstatus_code\u001b[0m \u001b[0;34m==\u001b[0m \u001b[0;36m200\u001b[0m\u001b[0;34m\u001b[0m\u001b[0m\n\u001b[1;32m     20\u001b[0m         except (\n",
      "\u001b[0;32m~/anaconda3/envs/tensorflow_p36/lib/python3.6/site-packages/requests/api.py\u001b[0m in \u001b[0;36mget\u001b[0;34m(url, params, **kwargs)\u001b[0m\n\u001b[1;32m     73\u001b[0m \u001b[0;34m\u001b[0m\u001b[0m\n\u001b[1;32m     74\u001b[0m     \u001b[0mkwargs\u001b[0m\u001b[0;34m.\u001b[0m\u001b[0msetdefault\u001b[0m\u001b[0;34m(\u001b[0m\u001b[0;34m'allow_redirects'\u001b[0m\u001b[0;34m,\u001b[0m \u001b[0;32mTrue\u001b[0m\u001b[0;34m)\u001b[0m\u001b[0;34m\u001b[0m\u001b[0m\n\u001b[0;32m---> 75\u001b[0;31m     \u001b[0;32mreturn\u001b[0m \u001b[0mrequest\u001b[0m\u001b[0;34m(\u001b[0m\u001b[0;34m'get'\u001b[0m\u001b[0;34m,\u001b[0m \u001b[0murl\u001b[0m\u001b[0;34m,\u001b[0m \u001b[0mparams\u001b[0m\u001b[0;34m=\u001b[0m\u001b[0mparams\u001b[0m\u001b[0;34m,\u001b[0m \u001b[0;34m**\u001b[0m\u001b[0mkwargs\u001b[0m\u001b[0;34m)\u001b[0m\u001b[0;34m\u001b[0m\u001b[0m\n\u001b[0m\u001b[1;32m     76\u001b[0m \u001b[0;34m\u001b[0m\u001b[0m\n\u001b[1;32m     77\u001b[0m \u001b[0;34m\u001b[0m\u001b[0m\n",
      "\u001b[0;32m~/anaconda3/envs/tensorflow_p36/lib/python3.6/site-packages/requests/api.py\u001b[0m in \u001b[0;36mrequest\u001b[0;34m(method, url, **kwargs)\u001b[0m\n\u001b[1;32m     58\u001b[0m     \u001b[0;31m# cases, and look like a memory leak in others.\u001b[0m\u001b[0;34m\u001b[0m\u001b[0;34m\u001b[0m\u001b[0m\n\u001b[1;32m     59\u001b[0m     \u001b[0;32mwith\u001b[0m \u001b[0msessions\u001b[0m\u001b[0;34m.\u001b[0m\u001b[0mSession\u001b[0m\u001b[0;34m(\u001b[0m\u001b[0;34m)\u001b[0m \u001b[0;32mas\u001b[0m \u001b[0msession\u001b[0m\u001b[0;34m:\u001b[0m\u001b[0;34m\u001b[0m\u001b[0m\n\u001b[0;32m---> 60\u001b[0;31m         \u001b[0;32mreturn\u001b[0m \u001b[0msession\u001b[0m\u001b[0;34m.\u001b[0m\u001b[0mrequest\u001b[0m\u001b[0;34m(\u001b[0m\u001b[0mmethod\u001b[0m\u001b[0;34m=\u001b[0m\u001b[0mmethod\u001b[0m\u001b[0;34m,\u001b[0m \u001b[0murl\u001b[0m\u001b[0;34m=\u001b[0m\u001b[0murl\u001b[0m\u001b[0;34m,\u001b[0m \u001b[0;34m**\u001b[0m\u001b[0mkwargs\u001b[0m\u001b[0;34m)\u001b[0m\u001b[0;34m\u001b[0m\u001b[0m\n\u001b[0m\u001b[1;32m     61\u001b[0m \u001b[0;34m\u001b[0m\u001b[0m\n\u001b[1;32m     62\u001b[0m \u001b[0;34m\u001b[0m\u001b[0m\n",
      "\u001b[0;32m~/anaconda3/envs/tensorflow_p36/lib/python3.6/site-packages/requests/sessions.py\u001b[0m in \u001b[0;36mrequest\u001b[0;34m(self, method, url, params, data, headers, cookies, files, auth, timeout, allow_redirects, proxies, hooks, stream, verify, cert, json)\u001b[0m\n\u001b[1;32m    531\u001b[0m         }\n\u001b[1;32m    532\u001b[0m         \u001b[0msend_kwargs\u001b[0m\u001b[0;34m.\u001b[0m\u001b[0mupdate\u001b[0m\u001b[0;34m(\u001b[0m\u001b[0msettings\u001b[0m\u001b[0;34m)\u001b[0m\u001b[0;34m\u001b[0m\u001b[0m\n\u001b[0;32m--> 533\u001b[0;31m         \u001b[0mresp\u001b[0m \u001b[0;34m=\u001b[0m \u001b[0mself\u001b[0m\u001b[0;34m.\u001b[0m\u001b[0msend\u001b[0m\u001b[0;34m(\u001b[0m\u001b[0mprep\u001b[0m\u001b[0;34m,\u001b[0m \u001b[0;34m**\u001b[0m\u001b[0msend_kwargs\u001b[0m\u001b[0;34m)\u001b[0m\u001b[0;34m\u001b[0m\u001b[0m\n\u001b[0m\u001b[1;32m    534\u001b[0m \u001b[0;34m\u001b[0m\u001b[0m\n\u001b[1;32m    535\u001b[0m         \u001b[0;32mreturn\u001b[0m \u001b[0mresp\u001b[0m\u001b[0;34m\u001b[0m\u001b[0m\n",
      "\u001b[0;32m~/anaconda3/envs/tensorflow_p36/lib/python3.6/site-packages/requests/sessions.py\u001b[0m in \u001b[0;36msend\u001b[0;34m(self, request, **kwargs)\u001b[0m\n\u001b[1;32m    644\u001b[0m \u001b[0;34m\u001b[0m\u001b[0m\n\u001b[1;32m    645\u001b[0m         \u001b[0;31m# Send the request\u001b[0m\u001b[0;34m\u001b[0m\u001b[0;34m\u001b[0m\u001b[0m\n\u001b[0;32m--> 646\u001b[0;31m         \u001b[0mr\u001b[0m \u001b[0;34m=\u001b[0m \u001b[0madapter\u001b[0m\u001b[0;34m.\u001b[0m\u001b[0msend\u001b[0m\u001b[0;34m(\u001b[0m\u001b[0mrequest\u001b[0m\u001b[0;34m,\u001b[0m \u001b[0;34m**\u001b[0m\u001b[0mkwargs\u001b[0m\u001b[0;34m)\u001b[0m\u001b[0;34m\u001b[0m\u001b[0m\n\u001b[0m\u001b[1;32m    647\u001b[0m \u001b[0;34m\u001b[0m\u001b[0m\n\u001b[1;32m    648\u001b[0m         \u001b[0;31m# Total elapsed time of the request (approximately)\u001b[0m\u001b[0;34m\u001b[0m\u001b[0;34m\u001b[0m\u001b[0m\n",
      "\u001b[0;32m~/anaconda3/envs/tensorflow_p36/lib/python3.6/site-packages/requests/adapters.py\u001b[0m in \u001b[0;36msend\u001b[0;34m(self, request, stream, timeout, verify, cert, proxies)\u001b[0m\n\u001b[1;32m    447\u001b[0m                     \u001b[0mdecode_content\u001b[0m\u001b[0;34m=\u001b[0m\u001b[0;32mFalse\u001b[0m\u001b[0;34m,\u001b[0m\u001b[0;34m\u001b[0m\u001b[0m\n\u001b[1;32m    448\u001b[0m                     \u001b[0mretries\u001b[0m\u001b[0;34m=\u001b[0m\u001b[0mself\u001b[0m\u001b[0;34m.\u001b[0m\u001b[0mmax_retries\u001b[0m\u001b[0;34m,\u001b[0m\u001b[0;34m\u001b[0m\u001b[0m\n\u001b[0;32m--> 449\u001b[0;31m                     \u001b[0mtimeout\u001b[0m\u001b[0;34m=\u001b[0m\u001b[0mtimeout\u001b[0m\u001b[0;34m\u001b[0m\u001b[0m\n\u001b[0m\u001b[1;32m    450\u001b[0m                 )\n\u001b[1;32m    451\u001b[0m \u001b[0;34m\u001b[0m\u001b[0m\n",
      "\u001b[0;32m~/anaconda3/envs/tensorflow_p36/lib/python3.6/site-packages/urllib3/connectionpool.py\u001b[0m in \u001b[0;36murlopen\u001b[0;34m(self, method, url, body, headers, retries, redirect, assert_same_host, timeout, pool_timeout, release_conn, chunked, body_pos, **response_kw)\u001b[0m\n\u001b[1;32m    598\u001b[0m                                                   \u001b[0mtimeout\u001b[0m\u001b[0;34m=\u001b[0m\u001b[0mtimeout_obj\u001b[0m\u001b[0;34m,\u001b[0m\u001b[0;34m\u001b[0m\u001b[0m\n\u001b[1;32m    599\u001b[0m                                                   \u001b[0mbody\u001b[0m\u001b[0;34m=\u001b[0m\u001b[0mbody\u001b[0m\u001b[0;34m,\u001b[0m \u001b[0mheaders\u001b[0m\u001b[0;34m=\u001b[0m\u001b[0mheaders\u001b[0m\u001b[0;34m,\u001b[0m\u001b[0;34m\u001b[0m\u001b[0m\n\u001b[0;32m--> 600\u001b[0;31m                                                   chunked=chunked)\n\u001b[0m\u001b[1;32m    601\u001b[0m \u001b[0;34m\u001b[0m\u001b[0m\n\u001b[1;32m    602\u001b[0m             \u001b[0;31m# If we're going to release the connection in ``finally:``, then\u001b[0m\u001b[0;34m\u001b[0m\u001b[0;34m\u001b[0m\u001b[0m\n",
      "\u001b[0;32m~/anaconda3/envs/tensorflow_p36/lib/python3.6/site-packages/urllib3/connectionpool.py\u001b[0m in \u001b[0;36m_make_request\u001b[0;34m(self, conn, method, url, timeout, chunked, **httplib_request_kw)\u001b[0m\n\u001b[1;32m    352\u001b[0m             \u001b[0mconn\u001b[0m\u001b[0;34m.\u001b[0m\u001b[0mrequest_chunked\u001b[0m\u001b[0;34m(\u001b[0m\u001b[0mmethod\u001b[0m\u001b[0;34m,\u001b[0m \u001b[0murl\u001b[0m\u001b[0;34m,\u001b[0m \u001b[0;34m**\u001b[0m\u001b[0mhttplib_request_kw\u001b[0m\u001b[0;34m)\u001b[0m\u001b[0;34m\u001b[0m\u001b[0m\n\u001b[1;32m    353\u001b[0m         \u001b[0;32melse\u001b[0m\u001b[0;34m:\u001b[0m\u001b[0;34m\u001b[0m\u001b[0m\n\u001b[0;32m--> 354\u001b[0;31m             \u001b[0mconn\u001b[0m\u001b[0;34m.\u001b[0m\u001b[0mrequest\u001b[0m\u001b[0;34m(\u001b[0m\u001b[0mmethod\u001b[0m\u001b[0;34m,\u001b[0m \u001b[0murl\u001b[0m\u001b[0;34m,\u001b[0m \u001b[0;34m**\u001b[0m\u001b[0mhttplib_request_kw\u001b[0m\u001b[0;34m)\u001b[0m\u001b[0;34m\u001b[0m\u001b[0m\n\u001b[0m\u001b[1;32m    355\u001b[0m \u001b[0;34m\u001b[0m\u001b[0m\n\u001b[1;32m    356\u001b[0m         \u001b[0;31m# Reset the timeout for the recv() on the socket\u001b[0m\u001b[0;34m\u001b[0m\u001b[0;34m\u001b[0m\u001b[0m\n",
      "\u001b[0;32m~/anaconda3/envs/tensorflow_p36/lib/python3.6/http/client.py\u001b[0m in \u001b[0;36mrequest\u001b[0;34m(self, method, url, body, headers, encode_chunked)\u001b[0m\n\u001b[1;32m   1252\u001b[0m                 encode_chunked=False):\n\u001b[1;32m   1253\u001b[0m         \u001b[0;34m\"\"\"Send a complete request to the server.\"\"\"\u001b[0m\u001b[0;34m\u001b[0m\u001b[0m\n\u001b[0;32m-> 1254\u001b[0;31m         \u001b[0mself\u001b[0m\u001b[0;34m.\u001b[0m\u001b[0m_send_request\u001b[0m\u001b[0;34m(\u001b[0m\u001b[0mmethod\u001b[0m\u001b[0;34m,\u001b[0m \u001b[0murl\u001b[0m\u001b[0;34m,\u001b[0m \u001b[0mbody\u001b[0m\u001b[0;34m,\u001b[0m \u001b[0mheaders\u001b[0m\u001b[0;34m,\u001b[0m \u001b[0mencode_chunked\u001b[0m\u001b[0;34m)\u001b[0m\u001b[0;34m\u001b[0m\u001b[0m\n\u001b[0m\u001b[1;32m   1255\u001b[0m \u001b[0;34m\u001b[0m\u001b[0m\n\u001b[1;32m   1256\u001b[0m     \u001b[0;32mdef\u001b[0m \u001b[0m_send_request\u001b[0m\u001b[0;34m(\u001b[0m\u001b[0mself\u001b[0m\u001b[0;34m,\u001b[0m \u001b[0mmethod\u001b[0m\u001b[0;34m,\u001b[0m \u001b[0murl\u001b[0m\u001b[0;34m,\u001b[0m \u001b[0mbody\u001b[0m\u001b[0;34m,\u001b[0m \u001b[0mheaders\u001b[0m\u001b[0;34m,\u001b[0m \u001b[0mencode_chunked\u001b[0m\u001b[0;34m)\u001b[0m\u001b[0;34m:\u001b[0m\u001b[0;34m\u001b[0m\u001b[0m\n",
      "\u001b[0;32m~/anaconda3/envs/tensorflow_p36/lib/python3.6/http/client.py\u001b[0m in \u001b[0;36m_send_request\u001b[0;34m(self, method, url, body, headers, encode_chunked)\u001b[0m\n\u001b[1;32m   1298\u001b[0m             \u001b[0;31m# default charset of iso-8859-1.\u001b[0m\u001b[0;34m\u001b[0m\u001b[0;34m\u001b[0m\u001b[0m\n\u001b[1;32m   1299\u001b[0m             \u001b[0mbody\u001b[0m \u001b[0;34m=\u001b[0m \u001b[0m_encode\u001b[0m\u001b[0;34m(\u001b[0m\u001b[0mbody\u001b[0m\u001b[0;34m,\u001b[0m \u001b[0;34m'body'\u001b[0m\u001b[0;34m)\u001b[0m\u001b[0;34m\u001b[0m\u001b[0m\n\u001b[0;32m-> 1300\u001b[0;31m         \u001b[0mself\u001b[0m\u001b[0;34m.\u001b[0m\u001b[0mendheaders\u001b[0m\u001b[0;34m(\u001b[0m\u001b[0mbody\u001b[0m\u001b[0;34m,\u001b[0m \u001b[0mencode_chunked\u001b[0m\u001b[0;34m=\u001b[0m\u001b[0mencode_chunked\u001b[0m\u001b[0;34m)\u001b[0m\u001b[0;34m\u001b[0m\u001b[0m\n\u001b[0m\u001b[1;32m   1301\u001b[0m \u001b[0;34m\u001b[0m\u001b[0m\n\u001b[1;32m   1302\u001b[0m     \u001b[0;32mdef\u001b[0m \u001b[0mgetresponse\u001b[0m\u001b[0;34m(\u001b[0m\u001b[0mself\u001b[0m\u001b[0;34m)\u001b[0m\u001b[0;34m:\u001b[0m\u001b[0;34m\u001b[0m\u001b[0m\n",
      "\u001b[0;32m~/anaconda3/envs/tensorflow_p36/lib/python3.6/http/client.py\u001b[0m in \u001b[0;36mendheaders\u001b[0;34m(self, message_body, encode_chunked)\u001b[0m\n\u001b[1;32m   1247\u001b[0m         \u001b[0;32melse\u001b[0m\u001b[0;34m:\u001b[0m\u001b[0;34m\u001b[0m\u001b[0m\n\u001b[1;32m   1248\u001b[0m             \u001b[0;32mraise\u001b[0m \u001b[0mCannotSendHeader\u001b[0m\u001b[0;34m(\u001b[0m\u001b[0;34m)\u001b[0m\u001b[0;34m\u001b[0m\u001b[0m\n\u001b[0;32m-> 1249\u001b[0;31m         \u001b[0mself\u001b[0m\u001b[0;34m.\u001b[0m\u001b[0m_send_output\u001b[0m\u001b[0;34m(\u001b[0m\u001b[0mmessage_body\u001b[0m\u001b[0;34m,\u001b[0m \u001b[0mencode_chunked\u001b[0m\u001b[0;34m=\u001b[0m\u001b[0mencode_chunked\u001b[0m\u001b[0;34m)\u001b[0m\u001b[0;34m\u001b[0m\u001b[0m\n\u001b[0m\u001b[1;32m   1250\u001b[0m \u001b[0;34m\u001b[0m\u001b[0m\n\u001b[1;32m   1251\u001b[0m     def request(self, method, url, body=None, headers={}, *,\n",
      "\u001b[0;32m~/anaconda3/envs/tensorflow_p36/lib/python3.6/http/client.py\u001b[0m in \u001b[0;36m_send_output\u001b[0;34m(self, message_body, encode_chunked)\u001b[0m\n\u001b[1;32m   1034\u001b[0m         \u001b[0mmsg\u001b[0m \u001b[0;34m=\u001b[0m \u001b[0;34mb\"\\r\\n\"\u001b[0m\u001b[0;34m.\u001b[0m\u001b[0mjoin\u001b[0m\u001b[0;34m(\u001b[0m\u001b[0mself\u001b[0m\u001b[0;34m.\u001b[0m\u001b[0m_buffer\u001b[0m\u001b[0;34m)\u001b[0m\u001b[0;34m\u001b[0m\u001b[0m\n\u001b[1;32m   1035\u001b[0m         \u001b[0;32mdel\u001b[0m \u001b[0mself\u001b[0m\u001b[0;34m.\u001b[0m\u001b[0m_buffer\u001b[0m\u001b[0;34m[\u001b[0m\u001b[0;34m:\u001b[0m\u001b[0;34m]\u001b[0m\u001b[0;34m\u001b[0m\u001b[0m\n\u001b[0;32m-> 1036\u001b[0;31m         \u001b[0mself\u001b[0m\u001b[0;34m.\u001b[0m\u001b[0msend\u001b[0m\u001b[0;34m(\u001b[0m\u001b[0mmsg\u001b[0m\u001b[0;34m)\u001b[0m\u001b[0;34m\u001b[0m\u001b[0m\n\u001b[0m\u001b[1;32m   1037\u001b[0m \u001b[0;34m\u001b[0m\u001b[0m\n\u001b[1;32m   1038\u001b[0m         \u001b[0;32mif\u001b[0m \u001b[0mmessage_body\u001b[0m \u001b[0;32mis\u001b[0m \u001b[0;32mnot\u001b[0m \u001b[0;32mNone\u001b[0m\u001b[0;34m:\u001b[0m\u001b[0;34m\u001b[0m\u001b[0m\n",
      "\u001b[0;32m~/anaconda3/envs/tensorflow_p36/lib/python3.6/http/client.py\u001b[0m in \u001b[0;36msend\u001b[0;34m(self, data)\u001b[0m\n\u001b[1;32m    972\u001b[0m         \u001b[0;32mif\u001b[0m \u001b[0mself\u001b[0m\u001b[0;34m.\u001b[0m\u001b[0msock\u001b[0m \u001b[0;32mis\u001b[0m \u001b[0;32mNone\u001b[0m\u001b[0;34m:\u001b[0m\u001b[0;34m\u001b[0m\u001b[0m\n\u001b[1;32m    973\u001b[0m             \u001b[0;32mif\u001b[0m \u001b[0mself\u001b[0m\u001b[0;34m.\u001b[0m\u001b[0mauto_open\u001b[0m\u001b[0;34m:\u001b[0m\u001b[0;34m\u001b[0m\u001b[0m\n\u001b[0;32m--> 974\u001b[0;31m                 \u001b[0mself\u001b[0m\u001b[0;34m.\u001b[0m\u001b[0mconnect\u001b[0m\u001b[0;34m(\u001b[0m\u001b[0;34m)\u001b[0m\u001b[0;34m\u001b[0m\u001b[0m\n\u001b[0m\u001b[1;32m    975\u001b[0m             \u001b[0;32melse\u001b[0m\u001b[0;34m:\u001b[0m\u001b[0;34m\u001b[0m\u001b[0m\n\u001b[1;32m    976\u001b[0m                 \u001b[0;32mraise\u001b[0m \u001b[0mNotConnected\u001b[0m\u001b[0;34m(\u001b[0m\u001b[0;34m)\u001b[0m\u001b[0;34m\u001b[0m\u001b[0m\n",
      "\u001b[0;32m~/anaconda3/envs/tensorflow_p36/lib/python3.6/site-packages/urllib3/connection.py\u001b[0m in \u001b[0;36mconnect\u001b[0;34m(self)\u001b[0m\n\u001b[1;32m    179\u001b[0m \u001b[0;34m\u001b[0m\u001b[0m\n\u001b[1;32m    180\u001b[0m     \u001b[0;32mdef\u001b[0m \u001b[0mconnect\u001b[0m\u001b[0;34m(\u001b[0m\u001b[0mself\u001b[0m\u001b[0;34m)\u001b[0m\u001b[0;34m:\u001b[0m\u001b[0;34m\u001b[0m\u001b[0m\n\u001b[0;32m--> 181\u001b[0;31m         \u001b[0mconn\u001b[0m \u001b[0;34m=\u001b[0m \u001b[0mself\u001b[0m\u001b[0;34m.\u001b[0m\u001b[0m_new_conn\u001b[0m\u001b[0;34m(\u001b[0m\u001b[0;34m)\u001b[0m\u001b[0;34m\u001b[0m\u001b[0m\n\u001b[0m\u001b[1;32m    182\u001b[0m         \u001b[0mself\u001b[0m\u001b[0;34m.\u001b[0m\u001b[0m_prepare_conn\u001b[0m\u001b[0;34m(\u001b[0m\u001b[0mconn\u001b[0m\u001b[0;34m)\u001b[0m\u001b[0;34m\u001b[0m\u001b[0m\n\u001b[1;32m    183\u001b[0m \u001b[0;34m\u001b[0m\u001b[0m\n",
      "\u001b[0;32m~/anaconda3/envs/tensorflow_p36/lib/python3.6/site-packages/urllib3/connection.py\u001b[0m in \u001b[0;36m_new_conn\u001b[0;34m(self)\u001b[0m\n\u001b[1;32m    157\u001b[0m         \u001b[0;32mtry\u001b[0m\u001b[0;34m:\u001b[0m\u001b[0;34m\u001b[0m\u001b[0m\n\u001b[1;32m    158\u001b[0m             conn = connection.create_connection(\n\u001b[0;32m--> 159\u001b[0;31m                 (self._dns_host, self.port), self.timeout, **extra_kw)\n\u001b[0m\u001b[1;32m    160\u001b[0m \u001b[0;34m\u001b[0m\u001b[0m\n\u001b[1;32m    161\u001b[0m         \u001b[0;32mexcept\u001b[0m \u001b[0mSocketTimeout\u001b[0m \u001b[0;32mas\u001b[0m \u001b[0me\u001b[0m\u001b[0;34m:\u001b[0m\u001b[0;34m\u001b[0m\u001b[0m\n",
      "\u001b[0;32m~/anaconda3/envs/tensorflow_p36/lib/python3.6/site-packages/urllib3/util/connection.py\u001b[0m in \u001b[0;36mcreate_connection\u001b[0;34m(address, timeout, source_address, socket_options)\u001b[0m\n\u001b[1;32m     55\u001b[0m     \u001b[0mfamily\u001b[0m \u001b[0;34m=\u001b[0m \u001b[0mallowed_gai_family\u001b[0m\u001b[0;34m(\u001b[0m\u001b[0;34m)\u001b[0m\u001b[0;34m\u001b[0m\u001b[0m\n\u001b[1;32m     56\u001b[0m \u001b[0;34m\u001b[0m\u001b[0m\n\u001b[0;32m---> 57\u001b[0;31m     \u001b[0;32mfor\u001b[0m \u001b[0mres\u001b[0m \u001b[0;32min\u001b[0m \u001b[0msocket\u001b[0m\u001b[0;34m.\u001b[0m\u001b[0mgetaddrinfo\u001b[0m\u001b[0;34m(\u001b[0m\u001b[0mhost\u001b[0m\u001b[0;34m,\u001b[0m \u001b[0mport\u001b[0m\u001b[0;34m,\u001b[0m \u001b[0mfamily\u001b[0m\u001b[0;34m,\u001b[0m \u001b[0msocket\u001b[0m\u001b[0;34m.\u001b[0m\u001b[0mSOCK_STREAM\u001b[0m\u001b[0;34m)\u001b[0m\u001b[0;34m:\u001b[0m\u001b[0;34m\u001b[0m\u001b[0m\n\u001b[0m\u001b[1;32m     58\u001b[0m         \u001b[0maf\u001b[0m\u001b[0;34m,\u001b[0m \u001b[0msocktype\u001b[0m\u001b[0;34m,\u001b[0m \u001b[0mproto\u001b[0m\u001b[0;34m,\u001b[0m \u001b[0mcanonname\u001b[0m\u001b[0;34m,\u001b[0m \u001b[0msa\u001b[0m \u001b[0;34m=\u001b[0m \u001b[0mres\u001b[0m\u001b[0;34m\u001b[0m\u001b[0m\n\u001b[1;32m     59\u001b[0m         \u001b[0msock\u001b[0m \u001b[0;34m=\u001b[0m \u001b[0;32mNone\u001b[0m\u001b[0;34m\u001b[0m\u001b[0m\n",
      "\u001b[0;32m~/anaconda3/envs/tensorflow_p36/lib/python3.6/socket.py\u001b[0m in \u001b[0;36mgetaddrinfo\u001b[0;34m(host, port, family, type, proto, flags)\u001b[0m\n\u001b[1;32m    743\u001b[0m     \u001b[0;31m# and socket type values to enum constants.\u001b[0m\u001b[0;34m\u001b[0m\u001b[0;34m\u001b[0m\u001b[0m\n\u001b[1;32m    744\u001b[0m     \u001b[0maddrlist\u001b[0m \u001b[0;34m=\u001b[0m \u001b[0;34m[\u001b[0m\u001b[0;34m]\u001b[0m\u001b[0;34m\u001b[0m\u001b[0m\n\u001b[0;32m--> 745\u001b[0;31m     \u001b[0;32mfor\u001b[0m \u001b[0mres\u001b[0m \u001b[0;32min\u001b[0m \u001b[0m_socket\u001b[0m\u001b[0;34m.\u001b[0m\u001b[0mgetaddrinfo\u001b[0m\u001b[0;34m(\u001b[0m\u001b[0mhost\u001b[0m\u001b[0;34m,\u001b[0m \u001b[0mport\u001b[0m\u001b[0;34m,\u001b[0m \u001b[0mfamily\u001b[0m\u001b[0;34m,\u001b[0m \u001b[0mtype\u001b[0m\u001b[0;34m,\u001b[0m \u001b[0mproto\u001b[0m\u001b[0;34m,\u001b[0m \u001b[0mflags\u001b[0m\u001b[0;34m)\u001b[0m\u001b[0;34m:\u001b[0m\u001b[0;34m\u001b[0m\u001b[0m\n\u001b[0m\u001b[1;32m    746\u001b[0m         \u001b[0maf\u001b[0m\u001b[0;34m,\u001b[0m \u001b[0msocktype\u001b[0m\u001b[0;34m,\u001b[0m \u001b[0mproto\u001b[0m\u001b[0;34m,\u001b[0m \u001b[0mcanonname\u001b[0m\u001b[0;34m,\u001b[0m \u001b[0msa\u001b[0m \u001b[0;34m=\u001b[0m \u001b[0mres\u001b[0m\u001b[0;34m\u001b[0m\u001b[0m\n\u001b[1;32m    747\u001b[0m         addrlist.append((_intenum_converter(af, AddressFamily),\n",
      "\u001b[0;31mKeyboardInterrupt\u001b[0m: "
     ]
    }
   ],
   "source": [
    "try:\n",
    "    dead_images\n",
    "except:\n",
    "    dead_images = [] # don't retry these again this session\n",
    "    \n",
    "for class_name, urls in image_urls_by_class.items():\n",
    "    # filter out images from flickr\n",
    "    not_flickr = [url for url in urls if 'flickr' not in url]\n",
    "    for i, url in tqdm(list(enumerate(not_flickr)), class_name):\n",
    "        extension = url.split('.')[-1].lower()\n",
    "        if extension not in ['jpg', 'jpeg', 'png']: continue\n",
    "        \n",
    "        out_image_path = f'data/train/{class_name}/image_net_{i:03}.jpg'\n",
    "        if os.path.exists(out_image_path) or url in dead_images:\n",
    "            continue\n",
    "        \n",
    "        try:\n",
    "            response = requests.get(url, timeout=(2, 5), allow_redirects=False)\n",
    "            assert response.status_code == 200\n",
    "        except (\n",
    "            AssertionError, # status code wasn't 200\n",
    "            requests.exceptions.ReadTimeout,\n",
    "            requests.exceptions.ConnectionError,\n",
    "            requests.exceptions.Timeout\n",
    "        ): # can't download image\n",
    "            dead_images += [url]\n",
    "            continue\n",
    "            \n",
    "        temp_file_name = f'temp.{extension}'\n",
    "        open(temp_file_name, 'wb').write(response.content)\n",
    "        \n",
    "        try:\n",
    "            image = imageio.imread(temp_file_name)\n",
    "            if image.shape[-1] == 4:\n",
    "                image = skimage.color.rgba2rgb(image)\n",
    "            \n",
    "            if image.dtype != np.uint8:\n",
    "                image = (image * 255).astype(np.uint8)\n",
    "            imageio.imwrite(out_image_path, image)\n",
    "        except ValueError: # isn't a valid image\n",
    "            dead_images += [url]\n",
    "            continue\n",
    "        finally:\n",
    "            os.remove(temp_file_name)"
   ]
  },
  {
   "cell_type": "markdown",
   "metadata": {},
   "source": [
    "### 1.3 Process images from Google Images"
   ]
  },
  {
   "cell_type": "code",
   "execution_count": null,
   "metadata": {},
   "outputs": [],
   "source": [
    "# this is manually uploaded\n",
    "!unzip -oq google_images.zip\n",
    "\n",
    "all_images = enumerate(glob.glob('google_images/*/*'))\n",
    "for i, image_path in tqdm(list(all_images)):\n",
    "    class_name = image_path.split('/')[-2].replace('cherry_tomato', 'tomato')\n",
    "    \n",
    "    image = imageio.imread(image_path)\n",
    "    imageio.imwrite(f'data/train/{class_name}/google_images_{i:04}.jpg', image)\n",
    "    \n",
    "!rm -rf google_images"
   ]
  },
  {
   "cell_type": "markdown",
   "metadata": {},
   "source": [
    "## [2] Pre-processing"
   ]
  },
  {
   "cell_type": "markdown",
   "metadata": {},
   "source": [
    "### 2.1 Specify the data augmentation to use"
   ]
  },
  {
   "cell_type": "code",
   "execution_count": 11,
   "metadata": {},
   "outputs": [],
   "source": [
    "data_augmentation = dict(\n",
    "    horizontal_flip=True,\n",
    "    rotation_range=35,\n",
    "    zoom_range=0.25,\n",
    "    width_shift_range=0.15,\n",
    "    height_shift_range=0.1,\n",
    "    shear_range=25,\n",
    "    brightness_range=[0.75, 1.25],\n",
    ")"
   ]
  },
  {
   "cell_type": "markdown",
   "metadata": {},
   "source": [
    "### 2.2 Build the ImageDataGenerators\n",
    "Note: the test data isn't augmented here, but TTA is later implemented"
   ]
  },
  {
   "cell_type": "code",
   "execution_count": 12,
   "metadata": {},
   "outputs": [
    {
     "name": "stdout",
     "output_type": "stream",
     "text": [
      "Train: Found 3151 images belonging to 3 classes.\n",
      "Test: Found 1350 images belonging to 3 classes.\n"
     ]
    }
   ],
   "source": [
    "print('Train:', end=' ')\n",
    "train_data_gen = ImageDataGenerator(rescale=1.0/255, **data_augmentation).flow_from_directory(\n",
    "    batch_size=batch_size,\n",
    "    directory='data/train',\n",
    "    target_size=(IMG_HEIGHT, IMG_WIDTH),\n",
    ")\n",
    "\n",
    "print('Test:', end=' ')\n",
    "test_data_gen = ImageDataGenerator(rescale=1.0/255).flow_from_directory(\n",
    "    batch_size=batch_size,\n",
    "    directory='data/test',\n",
    "    target_size=(IMG_HEIGHT, IMG_WIDTH),\n",
    ")"
   ]
  },
  {
   "cell_type": "markdown",
   "metadata": {},
   "source": [
    "### 2.3 Visualise the data augmentation"
   ]
  },
  {
   "cell_type": "code",
   "execution_count": 13,
   "metadata": {},
   "outputs": [
    {
     "name": "stderr",
     "output_type": "stream",
     "text": [
      "/home/ec2-user/anaconda3/envs/tensorflow_p36/lib/python3.6/site-packages/ipykernel/__main__.py:4: TqdmDeprecationWarning: This function will be removed in tqdm==5.0.0\n",
      "Please use `tqdm.notebook.tqdm` instead of `tqdm.tqdm_notebook`\n"
     ]
    },
    {
     "data": {
      "application/vnd.jupyter.widget-view+json": {
       "model_id": "29308fd5557a45b1b8f7f74110338173",
       "version_major": 2,
       "version_minor": 0
      },
      "text/plain": [
       "HBox(children=(IntProgress(value=0, max=5), HTML(value='')))"
      ]
     },
     "metadata": {},
     "output_type": "display_data"
    },
    {
     "name": "stdout",
     "output_type": "stream",
     "text": [
      "\n"
     ]
    },
    {
     "data": {
      "application/vnd.jupyter.widget-view+json": {
       "model_id": "f01a4e475cc242b499afe0e069fd77ac",
       "version_major": 2,
       "version_minor": 0
      },
      "text/plain": [
       "HBox(children=(IntProgress(value=0, max=5), HTML(value='')))"
      ]
     },
     "metadata": {},
     "output_type": "display_data"
    },
    {
     "name": "stdout",
     "output_type": "stream",
     "text": [
      "\n"
     ]
    },
    {
     "data": {
      "application/vnd.jupyter.widget-view+json": {
       "model_id": "bb715e433b4b4dfb9fc26f08d3d1251a",
       "version_major": 2,
       "version_minor": 0
      },
      "text/plain": [
       "HBox(children=(IntProgress(value=0, max=5), HTML(value='')))"
      ]
     },
     "metadata": {},
     "output_type": "display_data"
    },
    {
     "name": "stdout",
     "output_type": "stream",
     "text": [
      "\n"
     ]
    },
    {
     "data": {
      "application/vnd.jupyter.widget-view+json": {
       "model_id": "6df189ad5f3c458f8293a92a7ffa7172",
       "version_major": 2,
       "version_minor": 0
      },
      "text/plain": [
       "HBox(children=(IntProgress(value=0, max=5), HTML(value='')))"
      ]
     },
     "metadata": {},
     "output_type": "display_data"
    },
    {
     "name": "stdout",
     "output_type": "stream",
     "text": [
      "\n"
     ]
    },
    {
     "data": {
      "image/png": "[encoded data removed]",
      "text/plain": [
       "<Figure size 432x288 with 20 Axes>"
      ]
     },
     "metadata": {
      "needs_background": "light"
     },
     "output_type": "display_data"
    }
   ],
   "source": [
    "_, axes = plt.subplots(4, 5)\n",
    "\n",
    "for image in range(axes.shape[0]):\n",
    "    for example in tqdm(range(axes.shape[1])):\n",
    "        axes[image,example].imshow(train_data_gen[0][0][image])"
   ]
  },
  {
   "cell_type": "markdown",
   "metadata": {},
   "source": [
    "## [3] Training"
   ]
  },
  {
   "cell_type": "markdown",
   "metadata": {},
   "source": [
    "### 3.1 Create a transfer learning model"
   ]
  },
  {
   "cell_type": "code",
   "execution_count": 14,
   "metadata": {},
   "outputs": [
    {
     "name": "stdout",
     "output_type": "stream",
     "text": [
      "Downloading data from https://github.com/JonathanCMitchell/mobilenet_v2_keras/releases/download/v1.1/mobilenet_v2_weights_tf_dim_ordering_tf_kernels_1.0_224_no_top.h5\n",
      "9412608/9406464 [==============================] - 2s 0us/step\n"
     ]
    }
   ],
   "source": [
    "train_histories = []\n",
    "\n",
    "# Create the base model from the pre-trained model MobileNet V2\n",
    "base_model = tf.keras.applications.MobileNetV2(\n",
    "    input_shape=(IMG_WIDTH, IMG_HEIGHT, 3),\n",
    "    include_top=False,\n",
    "    weights='imagenet'\n",
    ")\n",
    "\n",
    "base_model.trainable = False # freeze the pre-trained bit\n",
    "\n",
    "# wrap the model in a sequential model\n",
    "model = tf.keras.Sequential([\n",
    "    base_model,\n",
    "    tf.keras.layers.AveragePooling2D(),\n",
    "    Flatten(),\n",
    "    Dropout(0.25),\n",
    "    Dense(3, activation='softmax'),\n",
    "])"
   ]
  },
  {
   "cell_type": "code",
   "execution_count": 18,
   "metadata": {},
   "outputs": [
    {
     "name": "stdout",
     "output_type": "stream",
     "text": [
      "Model: \"sequential\"\n",
      "_________________________________________________________________\n",
      "Layer (type)                 Output Shape              Param #   \n",
      "=================================================================\n",
      "mobilenetv2_1.00_224 (Model) (None, 7, 7, 1280)        2257984   \n",
      "_________________________________________________________________\n",
      "average_pooling2d (AveragePo (None, 3, 3, 1280)        0         \n",
      "_________________________________________________________________\n",
      "flatten (Flatten)            (None, 11520)             0         \n",
      "_________________________________________________________________\n",
      "dropout (Dropout)            (None, 11520)             0         \n",
      "_________________________________________________________________\n",
      "dense (Dense)                (None, 3)                 34563     \n",
      "=================================================================\n",
      "Total params: 2,292,547\n",
      "Trainable params: 34,563\n",
      "Non-trainable params: 2,257,984\n",
      "_________________________________________________________________\n"
     ]
    }
   ],
   "source": [
    "model.summary()"
   ]
  },
  {
   "cell_type": "markdown",
   "metadata": {},
   "source": [
    "### 3.2 Train the trail of the model"
   ]
  },
  {
   "cell_type": "code",
   "execution_count": null,
   "metadata": {
    "scrolled": false
   },
   "outputs": [],
   "source": [
    "model.compile(\n",
    "    optimizer='adam',\n",
    "    loss='categorical_crossentropy',\n",
    "    metrics=['accuracy']\n",
    ")\n",
    "\n",
    "r = model.fit_generator(\n",
    "    train_data_gen,\n",
    "    validation_data=test_data_gen,\n",
    "    epochs=15,\n",
    ")\n",
    "\n",
    "train_histories.append(r.history)"
   ]
  },
  {
   "cell_type": "markdown",
   "metadata": {},
   "source": [
    "### 3.3 Unfreeze some of the pre-trained model and continue training"
   ]
  },
  {
   "cell_type": "code",
   "execution_count": null,
   "metadata": {},
   "outputs": [],
   "source": [
    "base_model.trainable = True\n",
    "for layer in base_model.layers[:100]:\n",
    "    layer.trainable = False\n",
    "\n",
    "model.compile(\n",
    "    optimizer=tf.keras.optimizers.RMSprop(lr=1e-5),\n",
    "    loss='categorical_crossentropy',\n",
    "    metrics=['accuracy']\n",
    ")\n",
    "\n",
    "r = model.fit_generator(\n",
    "    train_data_gen,\n",
    "    validation_data=test_data_gen,\n",
    "    initial_epoch=15,\n",
    "    epochs=30,\n",
    ")\n",
    "\n",
    "train_histories.append(r.history)"
   ]
  },
  {
   "cell_type": "markdown",
   "metadata": {},
   "source": [
    "### 3.4 Unfreeze more of the pre-trained model and continue training"
   ]
  },
  {
   "cell_type": "code",
   "execution_count": null,
   "metadata": {},
   "outputs": [],
   "source": [
    "base_model.trainable = True\n",
    "for layer in base_model.layers[:50]:\n",
    "    layer.trainable = False\n",
    "\n",
    "model.compile(\n",
    "    optimizer=tf.keras.optimizers.RMSprop(lr=3e-6),\n",
    "    loss='categorical_crossentropy',\n",
    "    metrics=['accuracy']\n",
    ")\n",
    "\n",
    "r = model.fit_generator(\n",
    "    train_data_gen,\n",
    "    validation_data=test_data_gen,\n",
    "    initial_epoch=30,\n",
    "    epochs=40,\n",
    ")\n",
    "\n",
    "train_histories.append(r.history)"
   ]
  },
  {
   "cell_type": "markdown",
   "metadata": {},
   "source": [
    "### 3.5 Save the model"
   ]
  },
  {
   "cell_type": "code",
   "execution_count": null,
   "metadata": {},
   "outputs": [],
   "source": [
    "make_dir('models')\n",
    "\n",
    "model_id = str(uuid.uuid4()).split('-')[0]\n",
    "model.save(f'models/{model_id}.h5')"
   ]
  },
  {
   "cell_type": "markdown",
   "metadata": {},
   "source": [
    "### 3.6 Visualise the training history"
   ]
  },
  {
   "cell_type": "code",
   "execution_count": null,
   "metadata": {},
   "outputs": [],
   "source": [
    "ANY_SERIES = list(train_histories[0].keys())[0] # arbitrary key\n",
    "\n",
    "fig, (ax_accuracy, ax_loss) = plt.subplots(2, 1)\n",
    "\n",
    "n_epochs = sum(len(history[ANY_SERIES]) for history in train_histories)\n",
    "epochs = np.arange(1, n_epochs + 1)\n",
    "\n",
    "series = defaultdict(list)\n",
    "phase_boundaries = [1]\n",
    "for history in train_histories:\n",
    "    for series_name, values in history.items():\n",
    "        series[series_name] += values\n",
    "    phase_boundaries += [len(series[ANY_SERIES])]\n",
    "        \n",
    "for phase_boundary in phase_boundaries:\n",
    "    for ax in [ax_accuracy, ax_loss]:\n",
    "        ax.axvline(\n",
    "            phase_boundary,\n",
    "            color='black',\n",
    "            linestyle='--'\n",
    "        )\n",
    "        \n",
    "ax_accuracy.set_title('Accuracy')\n",
    "ax_accuracy.plot(epochs, series['accuracy'], label='accuracy')\n",
    "ax_accuracy.plot(epochs, series['val_accuracy'], label='val accuracy')\n",
    "ax_accuracy.legend()\n",
    "\n",
    "ax_loss.set_title('Loss')\n",
    "ax_loss.plot(epochs, series['loss'], label='loss')\n",
    "ax_loss.plot(epochs, series['val_loss'], label='val loss')\n",
    "ax_loss.legend()\n",
    "\n",
    "plt.savefig(f'models/{model_id}.png', dpi=300)"
   ]
  },
  {
   "cell_type": "code",
   "execution_count": null,
   "metadata": {},
   "outputs": [],
   "source": []
  }
 ],
 "metadata": {
  "kernelspec": {
   "display_name": "conda_tensorflow_p36",
   "language": "python",
   "name": "conda_tensorflow_p36"
  },
  "language_info": {
   "codemirror_mode": {
    "name": "ipython",
    "version": 3
   },
   "file_extension": ".py",
   "mimetype": "text/x-python",
   "name": "python",
   "nbconvert_exporter": "python",
   "pygments_lexer": "ipython3",
   "version": "3.6.5"
  }
 },
 "nbformat": 4,
 "nbformat_minor": 2
}
