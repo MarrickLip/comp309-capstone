{
 "cells": [
  {
   "cell_type": "markdown",
   "metadata": {},
   "source": [
    "## [0] Setup"
   ]
  },
  {
   "cell_type": "markdown",
   "metadata": {},
   "source": [
    "### 0.1 Get the dependencies"
   ]
  },
  {
   "cell_type": "code",
   "execution_count": 104,
   "metadata": {
    "scrolled": true
   },
   "outputs": [],
   "source": [
    "%%capture # hide the output\n",
    "\n",
    "!conda update --all --yes\n",
    "!conda install cudnn --yes\n",
    "\n",
    "!pip install --upgrade pip\n",
    "!pip install tensorflow-gpu\n",
    "!pip install imutils\n",
    "!pip install tqdm\n",
    "!pip install pyyaml h5py\n",
    "!pip install tensorflow-hub"
   ]
  },
  {
   "cell_type": "markdown",
   "metadata": {},
   "source": [
    "### 0.2 Import the dependencies"
   ]
  },
  {
   "cell_type": "code",
   "execution_count": 105,
   "metadata": {},
   "outputs": [],
   "source": [
    "%matplotlib inline\n",
    "\n",
    "import tensorflow as tf\n",
    "from tensorflow.keras.models import Sequential\n",
    "from tensorflow.keras.layers import Dense, Conv2D, Flatten, Dropout, MaxPooling2D\n",
    "from tensorflow.keras.preprocessing.image import ImageDataGenerator\n",
    "\n",
    "import os\n",
    "import glob\n",
    "import imageio\n",
    "import random\n",
    "import math\n",
    "import shutil\n",
    "import requests\n",
    "import skimage\n",
    "\n",
    "import numpy as np\n",
    "import matplotlib.pyplot as plt\n",
    "from tqdm import tqdm_notebook as tqdm\n",
    "import tensorflow_hub as hub\n",
    "from collections import defaultdict\n",
    "\n",
    "# create a directory if it doesn't already exist\n",
    "make_dir = lambda path: os.path.exists(path) or os.makedirs(path)"
   ]
  },
  {
   "cell_type": "markdown",
   "metadata": {},
   "source": [
    "### 0.3 Constants"
   ]
  },
  {
   "cell_type": "code",
   "execution_count": 103,
   "metadata": {},
   "outputs": [],
   "source": [
    "IMG_HEIGHT = 224 #300 \n",
    "IMG_WIDTH = 224 # 300\n",
    "train_pct = 0.8\n",
    "batch_size = 24"
   ]
  },
  {
   "cell_type": "markdown",
   "metadata": {},
   "source": [
    "## [1] Get the Data"
   ]
  },
  {
   "cell_type": "markdown",
   "metadata": {},
   "source": [
    "### 1.1 Create directories for the test and train data"
   ]
  },
  {
   "cell_type": "code",
   "execution_count": 106,
   "metadata": {},
   "outputs": [],
   "source": [
    "!rm -rf data\n",
    "make_dir('data')\n",
    "make_dir('data/train')\n",
    "make_dir('data/test')"
   ]
  },
  {
   "cell_type": "markdown",
   "metadata": {},
   "source": [
    "### 1.1 Get the provided dataset"
   ]
  },
  {
   "cell_type": "markdown",
   "metadata": {},
   "source": [
    "#### 1.1.1 Download and unzip the images"
   ]
  },
  {
   "cell_type": "code",
   "execution_count": 107,
   "metadata": {
    "scrolled": true
   },
   "outputs": [],
   "source": [
    "if not os.path.exists('train.zip'):\n",
    "    !curl https://ecs.victoria.ac.nz/foswiki/pub/Courses/COMP309_2019T2/Assignments/Train_data_2019.zip -o train.zip\n",
    "!unzip -oq train.zip -d data"
   ]
  },
  {
   "cell_type": "markdown",
   "metadata": {},
   "source": [
    "#### 1.1.2 Split the images using 309 as a seed"
   ]
  },
  {
   "cell_type": "code",
   "execution_count": 108,
   "metadata": {},
   "outputs": [
    {
     "data": {
      "application/vnd.jupyter.widget-view+json": {
       "model_id": "0fa8ce52ce7547c9b78dff150d348130",
       "version_major": 2,
       "version_minor": 0
      },
      "text/plain": [
       "HBox(children=(IntProgress(value=1, bar_style='info', description='strawberry', max=1, style=ProgressStyle(des…"
      ]
     },
     "metadata": {},
     "output_type": "display_data"
    },
    {
     "name": "stdout",
     "output_type": "stream",
     "text": [
      "\n"
     ]
    },
    {
     "data": {
      "application/vnd.jupyter.widget-view+json": {
       "model_id": "fe9a2d459f1d4977be06188739409c40",
       "version_major": 2,
       "version_minor": 0
      },
      "text/plain": [
       "HBox(children=(IntProgress(value=1, bar_style='info', description='cherry', max=1, style=ProgressStyle(descrip…"
      ]
     },
     "metadata": {},
     "output_type": "display_data"
    },
    {
     "name": "stdout",
     "output_type": "stream",
     "text": [
      "\n"
     ]
    },
    {
     "data": {
      "application/vnd.jupyter.widget-view+json": {
       "model_id": "d9ffd61564b3489992696c9650b17757",
       "version_major": 2,
       "version_minor": 0
      },
      "text/plain": [
       "HBox(children=(IntProgress(value=1, bar_style='info', description='tomato', max=1, style=ProgressStyle(descrip…"
      ]
     },
     "metadata": {},
     "output_type": "display_data"
    },
    {
     "name": "stdout",
     "output_type": "stream",
     "text": [
      "\n"
     ]
    }
   ],
   "source": [
    "random.seed(309)\n",
    "for label_dir in glob.glob('data/Train_data/*'):\n",
    "    label = label_dir.split('/')[-1]\n",
    "    make_dir(f'data/train/{label}')\n",
    "    make_dir(f'data/test/{label}')\n",
    "    \n",
    "    images = glob.glob(f'{label_dir}/*')\n",
    "    random.shuffle(images)\n",
    "    \n",
    "    split_index = math.floor(len(images) * train_pct)\n",
    "    for i, image in tqdm(enumerate(images), label):\n",
    "        train_or_test = 'train' if i < split_index else 'test'\n",
    "        new_path = image.replace('Train_data', train_or_test)\n",
    "        shutil.move(image, new_path)\n",
    "\n",
    "# clean-up the unzipped directory (will be empty)\n",
    "!rm -rf data/Train_data\n",
    "!rm -rf data/__MACOSX"
   ]
  },
  {
   "cell_type": "markdown",
   "metadata": {},
   "source": [
    "### 1.2 Get images from ImageNet"
   ]
  },
  {
   "cell_type": "markdown",
   "metadata": {},
   "source": [
    "#### 1.2.1 Fetch the ImageNet urls"
   ]
  },
  {
   "cell_type": "code",
   "execution_count": 109,
   "metadata": {},
   "outputs": [],
   "source": [
    "imagenet_urls_path = 'imagenet_urls/fall11_urls.txt'\n",
    "if not os.path.exists(imagenet_urls_path):\n",
    "    !rm -rf imagenet_urls \n",
    "    !mkdir imagenet_urls\n",
    "\n",
    "    # n.b. the main site is down: use a mirror\n",
    "    !wget https://v.im.cyut.edu.tw/ftp/18/imagenet_fall11_urls.tgz -O imagenet_urls/imagenet_fall11_urls.tgz\n",
    "    !tar -xvf imagenet_fall11_urls.tgz -C imagenet_urls\n",
    "\n",
    "raw_image_urls = list(open(imagenet_urls_path, encoding='ISO-8859-1'))"
   ]
  },
  {
   "cell_type": "markdown",
   "metadata": {},
   "source": [
    "#### 1.2.2 Find images for each class"
   ]
  },
  {
   "cell_type": "code",
   "execution_count": 110,
   "metadata": {},
   "outputs": [
    {
     "data": {
      "application/vnd.jupyter.widget-view+json": {
       "model_id": "4fbd6262169b42dfbfc9c3d7559f82ea",
       "version_major": 2,
       "version_minor": 0
      },
      "text/plain": [
       "HBox(children=(IntProgress(value=0, max=14197122), HTML(value='')))"
      ]
     },
     "metadata": {},
     "output_type": "display_data"
    },
    {
     "name": "stdout",
     "output_type": "stream",
     "text": [
      "\n"
     ]
    }
   ],
   "source": [
    "word_net_ids = {\n",
    "    'strawberry': ['n07745940'],\n",
    "    'cherry': ['n07757132', 'n07757312', 'n07757874', 'n07757990'],\n",
    "    'tomato': ['n07734292', 'n07734292']\n",
    "}\n",
    "\n",
    "image_urls_by_class = defaultdict(list)\n",
    "for line in tqdm(raw_image_urls):\n",
    "    image_id = line.split('\\t')[0].split('_')[0]\n",
    "    image_url = line.split('\\t')[1].strip()\n",
    "    \n",
    "    for class_name, ids in word_net_ids.items():\n",
    "        if image_id in ids:\n",
    "            image_urls_by_class[class_name] += [image_url]"
   ]
  },
  {
   "cell_type": "markdown",
   "metadata": {},
   "source": [
    "#### 1.2.3 Download applicable images from ImageNet\n",
    "Note: images from Flickr are filtered out as they may be in the evaluation data set."
   ]
  },
  {
   "cell_type": "code",
   "execution_count": 111,
   "metadata": {},
   "outputs": [
    {
     "data": {
      "application/vnd.jupyter.widget-view+json": {
       "model_id": "4c636112134d4f2b9b49d68c9690268b",
       "version_major": 2,
       "version_minor": 0
      },
      "text/plain": [
       "HBox(children=(IntProgress(value=0, description='tomato', max=37, style=ProgressStyle(description_width='initi…"
      ]
     },
     "metadata": {},
     "output_type": "display_data"
    },
    {
     "name": "stdout",
     "output_type": "stream",
     "text": [
      "\n"
     ]
    },
    {
     "data": {
      "application/vnd.jupyter.widget-view+json": {
       "model_id": "474a13eec617412ebf5c62a405f8dc59",
       "version_major": 2,
       "version_minor": 0
      },
      "text/plain": [
       "HBox(children=(IntProgress(value=0, description='strawberry', max=35, style=ProgressStyle(description_width='i…"
      ]
     },
     "metadata": {},
     "output_type": "display_data"
    },
    {
     "name": "stdout",
     "output_type": "stream",
     "text": [
      "\n"
     ]
    },
    {
     "data": {
      "application/vnd.jupyter.widget-view+json": {
       "model_id": "9d44ef30884442eba4d992b5530ba859",
       "version_major": 2,
       "version_minor": 0
      },
      "text/plain": [
       "HBox(children=(IntProgress(value=0, description='cherry', max=834, style=ProgressStyle(description_width='init…"
      ]
     },
     "metadata": {},
     "output_type": "display_data"
    },
    {
     "name": "stdout",
     "output_type": "stream",
     "text": [
      "\n"
     ]
    }
   ],
   "source": [
    "try:\n",
    "    dead_images\n",
    "except:\n",
    "    dead_images = [] # don't retry these again this session\n",
    "    \n",
    "for class_name, urls in image_urls_by_class.items():\n",
    "    # filter out images from flickr\n",
    "    not_flickr = [url for url in urls if 'flickr' not in url]\n",
    "    for i, url in tqdm(list(enumerate(not_flickr)), class_name):\n",
    "        extension = url.split('.')[-1].lower()\n",
    "        if extension not in ['jpg', 'jpeg', 'png']: continue\n",
    "        \n",
    "        out_image_path = f'data/train/{class_name}/image_net_{i:03}.jpg'\n",
    "        if os.path.exists(out_image_path) or url in dead_images:\n",
    "            continue\n",
    "        \n",
    "        try:\n",
    "            response = requests.get(url, timeout=(2, 5), allow_redirects=False)\n",
    "            assert response.status_code == 200\n",
    "        except (\n",
    "            AssertionError,\n",
    "            requests.exceptions.ReadTimeout,\n",
    "            requests.exceptions.ConnectionError,\n",
    "            requests.exceptions.Timeout\n",
    "        ): # can't download image\n",
    "            dead_images += [url]\n",
    "            continue\n",
    "            \n",
    "        temp_file_name = f'temp.{extension}'\n",
    "        open(temp_file_name, 'wb').write(response.content)\n",
    "        \n",
    "        try:\n",
    "            image = imageio.imread(temp_file_name)\n",
    "            if image.shape[-1] == 4:\n",
    "                image = skimage.color.rgba2rgb(image)\n",
    "            \n",
    "            if image.dtype != np.uint8:\n",
    "                image = (image * 255).astype(np.uint8)\n",
    "            imageio.imwrite(out_image_path, image)\n",
    "        except ValueError: # isn't a valid image\n",
    "            dead_images += [url]\n",
    "            continue\n",
    "        finally:\n",
    "            os.remove(temp_file_name)"
   ]
  },
  {
   "cell_type": "markdown",
   "metadata": {},
   "source": [
    "### 1.3 Process images from Google Images"
   ]
  },
  {
   "cell_type": "code",
   "execution_count": 112,
   "metadata": {},
   "outputs": [
    {
     "data": {
      "application/vnd.jupyter.widget-view+json": {
       "model_id": "0d28a6ca2fe243f3bc84c07b98a9ca59",
       "version_major": 2,
       "version_minor": 0
      },
      "text/plain": [
       "HBox(children=(IntProgress(value=0, max=1825), HTML(value='')))"
      ]
     },
     "metadata": {},
     "output_type": "display_data"
    },
    {
     "name": "stdout",
     "output_type": "stream",
     "text": [
      "\n"
     ]
    }
   ],
   "source": [
    "# this is manually uploaded\n",
    "!unzip -oq google_images.zip\n",
    "\n",
    "all_images = enumerate(glob.glob('google_images/*/*'))\n",
    "for i, image_path in tqdm(list(all_images)):\n",
    "    class_name = image_path.split('/')[-2].replace('cherry_tomato', 'tomato')\n",
    "    \n",
    "    image = imageio.imread(image_path)\n",
    "    imageio.imwrite(f'data/train/{class_name}/google_images_{i:04}.jpg', image)\n",
    "    \n",
    "!rm -rf google_images"
   ]
  },
  {
   "cell_type": "code",
   "execution_count": 96,
   "metadata": {},
   "outputs": [
    {
     "name": "stdout",
     "output_type": "stream",
     "text": [
      "tomato 2299\n",
      "cherry 1623\n",
      "strawberry 1637\n"
     ]
    }
   ],
   "source": [
    "for class_name in ['tomato', 'cherry', 'strawberry']:\n",
    "    print(class_name, len(glob.glob(f'data/train/{class_name}/*')))"
   ]
  },
  {
   "cell_type": "markdown",
   "metadata": {},
   "source": [
    "## [2] Pre-processing"
   ]
  },
  {
   "cell_type": "markdown",
   "metadata": {},
   "source": [
    "### 2.1 Specify the data augmentation to use"
   ]
  },
  {
   "cell_type": "code",
   "execution_count": 117,
   "metadata": {},
   "outputs": [],
   "source": [
    "data_augmentation = dict(\n",
    "    horizontal_flip=True,\n",
    "    rotation_range=35,\n",
    "    zoom_range=0.25,\n",
    "    width_shift_range=0.15,\n",
    "    height_shift_range=0.1,\n",
    "    shear_range=25,\n",
    "    brightness_range=[0.75, 1.25],\n",
    ")"
   ]
  },
  {
   "cell_type": "markdown",
   "metadata": {},
   "source": [
    "### 2.2 Build the ImageDataGenerators\n",
    "Note: the test data isn't augmented here, but TTA is later implemented"
   ]
  },
  {
   "cell_type": "code",
   "execution_count": 118,
   "metadata": {},
   "outputs": [
    {
     "name": "stdout",
     "output_type": "stream",
     "text": [
      "Train: Found 5536 images belonging to 3 classes.\n",
      "Test: Found 900 images belonging to 3 classes.\n"
     ]
    }
   ],
   "source": [
    "print('Train:', end=' ')\n",
    "train_data_gen = ImageDataGenerator(rescale=1.0/255, **data_augmentation).flow_from_directory(\n",
    "    batch_size=batch_size,\n",
    "    directory='data/train',\n",
    "    target_size=(IMG_HEIGHT, IMG_WIDTH),\n",
    ")\n",
    "\n",
    "print('Test:', end=' ')\n",
    "test_data_gen = ImageDataGenerator(rescale=1.0/255).flow_from_directory(\n",
    "    batch_size=batch_size,\n",
    "    directory='data/test',\n",
    "    target_size=(IMG_HEIGHT, IMG_WIDTH),\n",
    ")"
   ]
  },
  {
   "cell_type": "markdown",
   "metadata": {},
   "source": [
    "### 2.3 Visualise the data augmentation"
   ]
  },
  {
   "cell_type": "code",
   "execution_count": 119,
   "metadata": {},
   "outputs": [
    {
     "data": {
      "application/vnd.jupyter.widget-view+json": {
       "model_id": "6cbb9fd706d94c26a253a591c3f5d5e1",
       "version_major": 2,
       "version_minor": 0
      },
      "text/plain": [
       "HBox(children=(IntProgress(value=0, max=5), HTML(value='')))"
      ]
     },
     "metadata": {},
     "output_type": "display_data"
    },
    {
     "name": "stdout",
     "output_type": "stream",
     "text": [
      "\n"
     ]
    },
    {
     "data": {
      "application/vnd.jupyter.widget-view+json": {
       "model_id": "9eacde52a4064ba6a4a8469eb774a662",
       "version_major": 2,
       "version_minor": 0
      },
      "text/plain": [
       "HBox(children=(IntProgress(value=0, max=5), HTML(value='')))"
      ]
     },
     "metadata": {},
     "output_type": "display_data"
    },
    {
     "name": "stdout",
     "output_type": "stream",
     "text": [
      "\n"
     ]
    },
    {
     "data": {
      "application/vnd.jupyter.widget-view+json": {
       "model_id": "cf4b4e7128d042f09a8769999c898ef3",
       "version_major": 2,
       "version_minor": 0
      },
      "text/plain": [
       "HBox(children=(IntProgress(value=0, max=5), HTML(value='')))"
      ]
     },
     "metadata": {},
     "output_type": "display_data"
    },
    {
     "name": "stdout",
     "output_type": "stream",
     "text": [
      "\n"
     ]
    },
    {
     "data": {
      "application/vnd.jupyter.widget-view+json": {
       "model_id": "6075d59c7172461184488528bf5ec8a8",
       "version_major": 2,
       "version_minor": 0
      },
      "text/plain": [
       "HBox(children=(IntProgress(value=0, max=5), HTML(value='')))"
      ]
     },
     "metadata": {},
     "output_type": "display_data"
    },
    {
     "name": "stdout",
     "output_type": "stream",
     "text": [
      "\n"
     ]
    },
    {
     "data": {
      "image/png": "[encoded data removed]",
      "text/plain": [
       "<Figure size 432x288 with 20 Axes>"
      ]
     },
     "metadata": {
      "needs_background": "light"
     },
     "output_type": "display_data"
    }
   ],
   "source": [
    "_, axes = plt.subplots(4, 5)\n",
    "\n",
    "for image in range(axes.shape[0]):\n",
    "    for example in tqdm(range(axes.shape[1])):\n",
    "        axes[image,example].imshow(train_data_gen[0][0][image])"
   ]
  },
  {
   "cell_type": "markdown",
   "metadata": {},
   "source": [
    "### [3] Training"
   ]
  },
  {
   "cell_type": "markdown",
   "metadata": {},
   "source": [
    "### 3.1 Create a transfer learning model"
   ]
  },
  {
   "cell_type": "code",
   "execution_count": 120,
   "metadata": {},
   "outputs": [],
   "source": [
    "train_histories = []\n",
    "\n",
    "# Create the base model from the pre-trained model MobileNet V2\n",
    "base_model = tf.keras.applications.MobileNetV2(\n",
    "    input_shape=(IMG_WIDTH, IMG_HEIGHT, 3),\n",
    "    include_top=False,\n",
    "    weights='imagenet'\n",
    ")\n",
    "\n",
    "base_model.trainable = False # freeze the pre-trained bit\n",
    "\n",
    "# wrap the model in a sequential model\n",
    "model = tf.keras.Sequential([\n",
    "    base_model,\n",
    "    tf.keras.layers.AveragePooling2D(),\n",
    "    Flatten(),\n",
    "    Dropout(0.25),\n",
    "    Dense(3, activation='softmax'),\n",
    "])"
   ]
  },
  {
   "cell_type": "markdown",
   "metadata": {},
   "source": [
    "### 3.2 Train the trail of the model"
   ]
  },
  {
   "cell_type": "code",
   "execution_count": null,
   "metadata": {
    "scrolled": false
   },
   "outputs": [],
   "source": [
    "model.compile(\n",
    "    optimizer='adam',\n",
    "    loss='categorical_crossentropy',\n",
    "    metrics=['accuracy']\n",
    ")\n",
    "\n",
    "r = model.fit_generator(\n",
    "    train_data_gen,\n",
    "    validation_data=test_data_gen,\n",
    "    epochs=15,\n",
    ")\n",
    "\n",
    "train_histories.append(r.history)"
   ]
  },
  {
   "cell_type": "markdown",
   "metadata": {},
   "source": [
    "### 3.3 Unfreeze some of the pre-trained model and continue training"
   ]
  },
  {
   "cell_type": "code",
   "execution_count": 98,
   "metadata": {},
   "outputs": [
    {
     "name": "stdout",
     "output_type": "stream",
     "text": [
      "Epoch 6/15\n",
      "150/150 [==============================] - 91s 610ms/step - loss: 0.7110 - accuracy: 0.8653 - val_loss: 1.1515 - val_accuracy: 0.8233\n",
      "Epoch 7/15\n",
      "150/150 [==============================] - 87s 580ms/step - loss: 0.6324 - accuracy: 0.8839 - val_loss: 1.0386 - val_accuracy: 0.8244\n",
      "Epoch 8/15\n",
      "150/150 [==============================] - 87s 581ms/step - loss: 0.5957 - accuracy: 0.8811 - val_loss: 1.0002 - val_accuracy: 0.8344\n",
      "Epoch 9/15\n",
      "150/150 [==============================] - 86s 573ms/step - loss: 0.6212 - accuracy: 0.8728 - val_loss: 1.0192 - val_accuracy: 0.8300\n",
      "Epoch 10/15\n",
      "150/150 [==============================] - 89s 595ms/step - loss: 0.5947 - accuracy: 0.8800 - val_loss: 0.9764 - val_accuracy: 0.8300\n",
      "Epoch 11/15\n",
      "150/150 [==============================] - 86s 574ms/step - loss: 0.5229 - accuracy: 0.8917 - val_loss: 1.0158 - val_accuracy: 0.8244\n",
      "Epoch 12/15\n",
      "150/150 [==============================] - 87s 580ms/step - loss: 0.5040 - accuracy: 0.8869 - val_loss: 0.9736 - val_accuracy: 0.8422\n",
      "Epoch 13/15\n",
      "150/150 [==============================] - 88s 588ms/step - loss: 0.4832 - accuracy: 0.8942 - val_loss: 0.9077 - val_accuracy: 0.8456\n",
      "Epoch 14/15\n",
      "150/150 [==============================] - 87s 577ms/step - loss: 0.4539 - accuracy: 0.8981 - val_loss: 0.9057 - val_accuracy: 0.8511\n",
      "Epoch 15/15\n",
      "150/150 [==============================] - 87s 582ms/step - loss: 0.4399 - accuracy: 0.9017 - val_loss: 0.8940 - val_accuracy: 0.8500\n"
     ]
    }
   ],
   "source": [
    "base_model.trainable = True\n",
    "for layer in base_model.layers[:100]:\n",
    "    layer.trainable = False\n",
    "\n",
    "model.compile(\n",
    "    optimizer=tf.keras.optimizers.RMSprop(lr=1e-5),\n",
    "    loss='categorical_crossentropy',\n",
    "    metrics=['accuracy']\n",
    ")\n",
    "\n",
    "r = model.fit_generator(\n",
    "    train_data_gen,\n",
    "    validation_data=test_data_gen,\n",
    "    initial_epoch=15,\n",
    "    epochs=30,\n",
    ")\n",
    "\n",
    "train_histories.append(r.history)"
   ]
  },
  {
   "cell_type": "markdown",
   "metadata": {},
   "source": [
    "### 3.4 Unfreeze more of the pre-trained model and continue training"
   ]
  },
  {
   "cell_type": "code",
   "execution_count": 99,
   "metadata": {},
   "outputs": [
    {
     "data": {
      "text/plain": [
       "<matplotlib.legend.Legend at 0x7f7807748c18>"
      ]
     },
     "execution_count": 99,
     "metadata": {},
     "output_type": "execute_result"
    },
    {
     "data": {
      "image/png": "[encoded data removed]",
      "text/plain": [
       "<Figure size 432x288 with 2 Axes>"
      ]
     },
     "metadata": {},
     "output_type": "display_data"
    }
   ],
   "source": [
    "base_model.trainable = True\n",
    "for layer in base_model.layers[:50]:\n",
    "    layer.trainable = False\n",
    "\n",
    "model.compile(\n",
    "    optimizer=tf.keras.optimizers.RMSprop(lr=3e-6),\n",
    "    loss='categorical_crossentropy',\n",
    "    metrics=['accuracy']\n",
    ")\n",
    "\n",
    "r = model.fit_generator(\n",
    "    train_data_gen,\n",
    "    validation_data=test_data_gen,\n",
    "    initial_epoch=15,\n",
    "    epochs=30,\n",
    ")\n",
    "\n",
    "train_histories.append(r.history)"
   ]
  }
 ],
 "metadata": {
  "kernelspec": {
   "display_name": "conda_tensorflow_p36",
   "language": "python",
   "name": "conda_tensorflow_p36"
  },
  "language_info": {
   "codemirror_mode": {
    "name": "ipython",
    "version": 3
   },
   "file_extension": ".py",
   "mimetype": "text/x-python",
   "name": "python",
   "nbconvert_exporter": "python",
   "pygments_lexer": "ipython3",
   "version": "3.6.5"
  }
 },
 "nbformat": 4,
 "nbformat_minor": 2
}
